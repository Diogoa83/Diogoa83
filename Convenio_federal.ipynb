{
  "nbformat": 4,
  "nbformat_minor": 0,
  "metadata": {
    "colab": {
      "provenance": []
    },
    "kernelspec": {
      "name": "python3",
      "display_name": "Python 3"
    },
    "language_info": {
      "name": "python"
    },
    "widgets": {
      "application/vnd.jupyter.widget-state+json": {
        "a13e066cec8c4aae89cd7d87de6c7949": {
          "model_module": "@jupyter-widgets/controls",
          "model_name": "HBoxModel",
          "model_module_version": "1.5.0",
          "state": {
            "_dom_classes": [],
            "_model_module": "@jupyter-widgets/controls",
            "_model_module_version": "1.5.0",
            "_model_name": "HBoxModel",
            "_view_count": null,
            "_view_module": "@jupyter-widgets/controls",
            "_view_module_version": "1.5.0",
            "_view_name": "HBoxView",
            "box_style": "",
            "children": [
              "IPY_MODEL_4cd3cc4e82bf42c49a3e76db7cc111b7",
              "IPY_MODEL_c6f4a9a529454682be3fc4bf1efaf9ff",
              "IPY_MODEL_9df9f775df54442ea9c3937a6167d4aa"
            ],
            "layout": "IPY_MODEL_047185b2691a4efaa7030a01b2715aa0"
          }
        },
        "4cd3cc4e82bf42c49a3e76db7cc111b7": {
          "model_module": "@jupyter-widgets/controls",
          "model_name": "HTMLModel",
          "model_module_version": "1.5.0",
          "state": {
            "_dom_classes": [],
            "_model_module": "@jupyter-widgets/controls",
            "_model_module_version": "1.5.0",
            "_model_name": "HTMLModel",
            "_view_count": null,
            "_view_module": "@jupyter-widgets/controls",
            "_view_module_version": "1.5.0",
            "_view_name": "HTMLView",
            "description": "",
            "description_tooltip": null,
            "layout": "IPY_MODEL_fd8e7c1015e04b8a9ce1b6009f43c830",
            "placeholder": "​",
            "style": "IPY_MODEL_3fbcdc1dcd59419e94ad7b41fec21480",
            "value": "Processing: 100%"
          }
        },
        "c6f4a9a529454682be3fc4bf1efaf9ff": {
          "model_module": "@jupyter-widgets/controls",
          "model_name": "FloatProgressModel",
          "model_module_version": "1.5.0",
          "state": {
            "_dom_classes": [],
            "_model_module": "@jupyter-widgets/controls",
            "_model_module_version": "1.5.0",
            "_model_name": "FloatProgressModel",
            "_view_count": null,
            "_view_module": "@jupyter-widgets/controls",
            "_view_module_version": "1.5.0",
            "_view_name": "ProgressView",
            "bar_style": "",
            "description": "",
            "description_tooltip": null,
            "layout": "IPY_MODEL_d24ba2ad43564b919685d2d9a497661e",
            "max": 93,
            "min": 0,
            "orientation": "horizontal",
            "style": "IPY_MODEL_b28ec352cb2e492d853f5062ff6c40b8",
            "value": 93
          }
        },
        "9df9f775df54442ea9c3937a6167d4aa": {
          "model_module": "@jupyter-widgets/controls",
          "model_name": "HTMLModel",
          "model_module_version": "1.5.0",
          "state": {
            "_dom_classes": [],
            "_model_module": "@jupyter-widgets/controls",
            "_model_module_version": "1.5.0",
            "_model_name": "HTMLModel",
            "_view_count": null,
            "_view_module": "@jupyter-widgets/controls",
            "_view_module_version": "1.5.0",
            "_view_name": "HTMLView",
            "description": "",
            "description_tooltip": null,
            "layout": "IPY_MODEL_4a46b91ae733499ea9f1f8217e8c7be7",
            "placeholder": "​",
            "style": "IPY_MODEL_5e795b46a2b044109cd915b19f80ab9c",
            "value": " 93/93 [00:21&lt;00:00,  4.33it/s]"
          }
        },
        "047185b2691a4efaa7030a01b2715aa0": {
          "model_module": "@jupyter-widgets/base",
          "model_name": "LayoutModel",
          "model_module_version": "1.2.0",
          "state": {
            "_model_module": "@jupyter-widgets/base",
            "_model_module_version": "1.2.0",
            "_model_name": "LayoutModel",
            "_view_count": null,
            "_view_module": "@jupyter-widgets/base",
            "_view_module_version": "1.2.0",
            "_view_name": "LayoutView",
            "align_content": null,
            "align_items": null,
            "align_self": null,
            "border": null,
            "bottom": null,
            "display": null,
            "flex": null,
            "flex_flow": null,
            "grid_area": null,
            "grid_auto_columns": null,
            "grid_auto_flow": null,
            "grid_auto_rows": null,
            "grid_column": null,
            "grid_gap": null,
            "grid_row": null,
            "grid_template_areas": null,
            "grid_template_columns": null,
            "grid_template_rows": null,
            "height": null,
            "justify_content": null,
            "justify_items": null,
            "left": null,
            "margin": null,
            "max_height": null,
            "max_width": null,
            "min_height": null,
            "min_width": null,
            "object_fit": null,
            "object_position": null,
            "order": null,
            "overflow": null,
            "overflow_x": null,
            "overflow_y": null,
            "padding": null,
            "right": null,
            "top": null,
            "visibility": "hidden",
            "width": null
          }
        },
        "fd8e7c1015e04b8a9ce1b6009f43c830": {
          "model_module": "@jupyter-widgets/base",
          "model_name": "LayoutModel",
          "model_module_version": "1.2.0",
          "state": {
            "_model_module": "@jupyter-widgets/base",
            "_model_module_version": "1.2.0",
            "_model_name": "LayoutModel",
            "_view_count": null,
            "_view_module": "@jupyter-widgets/base",
            "_view_module_version": "1.2.0",
            "_view_name": "LayoutView",
            "align_content": null,
            "align_items": null,
            "align_self": null,
            "border": null,
            "bottom": null,
            "display": null,
            "flex": null,
            "flex_flow": null,
            "grid_area": null,
            "grid_auto_columns": null,
            "grid_auto_flow": null,
            "grid_auto_rows": null,
            "grid_column": null,
            "grid_gap": null,
            "grid_row": null,
            "grid_template_areas": null,
            "grid_template_columns": null,
            "grid_template_rows": null,
            "height": null,
            "justify_content": null,
            "justify_items": null,
            "left": null,
            "margin": null,
            "max_height": null,
            "max_width": null,
            "min_height": null,
            "min_width": null,
            "object_fit": null,
            "object_position": null,
            "order": null,
            "overflow": null,
            "overflow_x": null,
            "overflow_y": null,
            "padding": null,
            "right": null,
            "top": null,
            "visibility": null,
            "width": null
          }
        },
        "3fbcdc1dcd59419e94ad7b41fec21480": {
          "model_module": "@jupyter-widgets/controls",
          "model_name": "DescriptionStyleModel",
          "model_module_version": "1.5.0",
          "state": {
            "_model_module": "@jupyter-widgets/controls",
            "_model_module_version": "1.5.0",
            "_model_name": "DescriptionStyleModel",
            "_view_count": null,
            "_view_module": "@jupyter-widgets/base",
            "_view_module_version": "1.2.0",
            "_view_name": "StyleView",
            "description_width": ""
          }
        },
        "d24ba2ad43564b919685d2d9a497661e": {
          "model_module": "@jupyter-widgets/base",
          "model_name": "LayoutModel",
          "model_module_version": "1.2.0",
          "state": {
            "_model_module": "@jupyter-widgets/base",
            "_model_module_version": "1.2.0",
            "_model_name": "LayoutModel",
            "_view_count": null,
            "_view_module": "@jupyter-widgets/base",
            "_view_module_version": "1.2.0",
            "_view_name": "LayoutView",
            "align_content": null,
            "align_items": null,
            "align_self": null,
            "border": null,
            "bottom": null,
            "display": null,
            "flex": null,
            "flex_flow": null,
            "grid_area": null,
            "grid_auto_columns": null,
            "grid_auto_flow": null,
            "grid_auto_rows": null,
            "grid_column": null,
            "grid_gap": null,
            "grid_row": null,
            "grid_template_areas": null,
            "grid_template_columns": null,
            "grid_template_rows": null,
            "height": null,
            "justify_content": null,
            "justify_items": null,
            "left": null,
            "margin": null,
            "max_height": null,
            "max_width": null,
            "min_height": null,
            "min_width": null,
            "object_fit": null,
            "object_position": null,
            "order": null,
            "overflow": null,
            "overflow_x": null,
            "overflow_y": null,
            "padding": null,
            "right": null,
            "top": null,
            "visibility": null,
            "width": null
          }
        },
        "b28ec352cb2e492d853f5062ff6c40b8": {
          "model_module": "@jupyter-widgets/controls",
          "model_name": "ProgressStyleModel",
          "model_module_version": "1.5.0",
          "state": {
            "_model_module": "@jupyter-widgets/controls",
            "_model_module_version": "1.5.0",
            "_model_name": "ProgressStyleModel",
            "_view_count": null,
            "_view_module": "@jupyter-widgets/base",
            "_view_module_version": "1.2.0",
            "_view_name": "StyleView",
            "bar_color": null,
            "description_width": ""
          }
        },
        "4a46b91ae733499ea9f1f8217e8c7be7": {
          "model_module": "@jupyter-widgets/base",
          "model_name": "LayoutModel",
          "model_module_version": "1.2.0",
          "state": {
            "_model_module": "@jupyter-widgets/base",
            "_model_module_version": "1.2.0",
            "_model_name": "LayoutModel",
            "_view_count": null,
            "_view_module": "@jupyter-widgets/base",
            "_view_module_version": "1.2.0",
            "_view_name": "LayoutView",
            "align_content": null,
            "align_items": null,
            "align_self": null,
            "border": null,
            "bottom": null,
            "display": null,
            "flex": null,
            "flex_flow": null,
            "grid_area": null,
            "grid_auto_columns": null,
            "grid_auto_flow": null,
            "grid_auto_rows": null,
            "grid_column": null,
            "grid_gap": null,
            "grid_row": null,
            "grid_template_areas": null,
            "grid_template_columns": null,
            "grid_template_rows": null,
            "height": null,
            "justify_content": null,
            "justify_items": null,
            "left": null,
            "margin": null,
            "max_height": null,
            "max_width": null,
            "min_height": null,
            "min_width": null,
            "object_fit": null,
            "object_position": null,
            "order": null,
            "overflow": null,
            "overflow_x": null,
            "overflow_y": null,
            "padding": null,
            "right": null,
            "top": null,
            "visibility": null,
            "width": null
          }
        },
        "5e795b46a2b044109cd915b19f80ab9c": {
          "model_module": "@jupyter-widgets/controls",
          "model_name": "DescriptionStyleModel",
          "model_module_version": "1.5.0",
          "state": {
            "_model_module": "@jupyter-widgets/controls",
            "_model_module_version": "1.5.0",
            "_model_name": "DescriptionStyleModel",
            "_view_count": null,
            "_view_module": "@jupyter-widgets/base",
            "_view_module_version": "1.2.0",
            "_view_name": "StyleView",
            "description_width": ""
          }
        },
        "5013455f5cd4498f97c85232554df7f5": {
          "model_module": "@jupyter-widgets/controls",
          "model_name": "HBoxModel",
          "model_module_version": "1.5.0",
          "state": {
            "_dom_classes": [],
            "_model_module": "@jupyter-widgets/controls",
            "_model_module_version": "1.5.0",
            "_model_name": "HBoxModel",
            "_view_count": null,
            "_view_module": "@jupyter-widgets/controls",
            "_view_module_version": "1.5.0",
            "_view_name": "HBoxView",
            "box_style": "",
            "children": [
              "IPY_MODEL_d56a040afb1f4a61a4f80eb6061a2190",
              "IPY_MODEL_b28023559a2f4b90b7d370915cb2af9d",
              "IPY_MODEL_c2d09d7256404c4db1b90316a4529013"
            ],
            "layout": "IPY_MODEL_f4507abb260a4d35b11df5d438f9d5a8"
          }
        },
        "d56a040afb1f4a61a4f80eb6061a2190": {
          "model_module": "@jupyter-widgets/controls",
          "model_name": "HTMLModel",
          "model_module_version": "1.5.0",
          "state": {
            "_dom_classes": [],
            "_model_module": "@jupyter-widgets/controls",
            "_model_module_version": "1.5.0",
            "_model_name": "HTMLModel",
            "_view_count": null,
            "_view_module": "@jupyter-widgets/controls",
            "_view_module_version": "1.5.0",
            "_view_name": "HTMLView",
            "description": "",
            "description_tooltip": null,
            "layout": "IPY_MODEL_c27e2bf4533b4c4f8c9740983e01d72d",
            "placeholder": "​",
            "style": "IPY_MODEL_ab58bafbea1248069e5d793e4853a9a1",
            "value": "Processing:   0%"
          }
        },
        "b28023559a2f4b90b7d370915cb2af9d": {
          "model_module": "@jupyter-widgets/controls",
          "model_name": "FloatProgressModel",
          "model_module_version": "1.5.0",
          "state": {
            "_dom_classes": [],
            "_model_module": "@jupyter-widgets/controls",
            "_model_module_version": "1.5.0",
            "_model_name": "FloatProgressModel",
            "_view_count": null,
            "_view_module": "@jupyter-widgets/controls",
            "_view_module_version": "1.5.0",
            "_view_name": "ProgressView",
            "bar_style": "",
            "description": "",
            "description_tooltip": null,
            "layout": "IPY_MODEL_79ddc6b59e8543218c79f0d5877f98ea",
            "max": 4,
            "min": 0,
            "orientation": "horizontal",
            "style": "IPY_MODEL_ef1745060d174a38b57e2284b9e705c1",
            "value": 4
          }
        },
        "c2d09d7256404c4db1b90316a4529013": {
          "model_module": "@jupyter-widgets/controls",
          "model_name": "HTMLModel",
          "model_module_version": "1.5.0",
          "state": {
            "_dom_classes": [],
            "_model_module": "@jupyter-widgets/controls",
            "_model_module_version": "1.5.0",
            "_model_name": "HTMLModel",
            "_view_count": null,
            "_view_module": "@jupyter-widgets/controls",
            "_view_module_version": "1.5.0",
            "_view_name": "HTMLView",
            "description": "",
            "description_tooltip": null,
            "layout": "IPY_MODEL_58aebf00102344a590cbdf2a04f7b080",
            "placeholder": "​",
            "style": "IPY_MODEL_7f49fb58f71845c9abbc168799000739",
            "value": " 0/4 [00:00&lt;?, ?it/s]"
          }
        },
        "f4507abb260a4d35b11df5d438f9d5a8": {
          "model_module": "@jupyter-widgets/base",
          "model_name": "LayoutModel",
          "model_module_version": "1.2.0",
          "state": {
            "_model_module": "@jupyter-widgets/base",
            "_model_module_version": "1.2.0",
            "_model_name": "LayoutModel",
            "_view_count": null,
            "_view_module": "@jupyter-widgets/base",
            "_view_module_version": "1.2.0",
            "_view_name": "LayoutView",
            "align_content": null,
            "align_items": null,
            "align_self": null,
            "border": null,
            "bottom": null,
            "display": null,
            "flex": null,
            "flex_flow": null,
            "grid_area": null,
            "grid_auto_columns": null,
            "grid_auto_flow": null,
            "grid_auto_rows": null,
            "grid_column": null,
            "grid_gap": null,
            "grid_row": null,
            "grid_template_areas": null,
            "grid_template_columns": null,
            "grid_template_rows": null,
            "height": null,
            "justify_content": null,
            "justify_items": null,
            "left": null,
            "margin": null,
            "max_height": null,
            "max_width": null,
            "min_height": null,
            "min_width": null,
            "object_fit": null,
            "object_position": null,
            "order": null,
            "overflow": null,
            "overflow_x": null,
            "overflow_y": null,
            "padding": null,
            "right": null,
            "top": null,
            "visibility": "hidden",
            "width": null
          }
        },
        "c27e2bf4533b4c4f8c9740983e01d72d": {
          "model_module": "@jupyter-widgets/base",
          "model_name": "LayoutModel",
          "model_module_version": "1.2.0",
          "state": {
            "_model_module": "@jupyter-widgets/base",
            "_model_module_version": "1.2.0",
            "_model_name": "LayoutModel",
            "_view_count": null,
            "_view_module": "@jupyter-widgets/base",
            "_view_module_version": "1.2.0",
            "_view_name": "LayoutView",
            "align_content": null,
            "align_items": null,
            "align_self": null,
            "border": null,
            "bottom": null,
            "display": null,
            "flex": null,
            "flex_flow": null,
            "grid_area": null,
            "grid_auto_columns": null,
            "grid_auto_flow": null,
            "grid_auto_rows": null,
            "grid_column": null,
            "grid_gap": null,
            "grid_row": null,
            "grid_template_areas": null,
            "grid_template_columns": null,
            "grid_template_rows": null,
            "height": null,
            "justify_content": null,
            "justify_items": null,
            "left": null,
            "margin": null,
            "max_height": null,
            "max_width": null,
            "min_height": null,
            "min_width": null,
            "object_fit": null,
            "object_position": null,
            "order": null,
            "overflow": null,
            "overflow_x": null,
            "overflow_y": null,
            "padding": null,
            "right": null,
            "top": null,
            "visibility": null,
            "width": null
          }
        },
        "ab58bafbea1248069e5d793e4853a9a1": {
          "model_module": "@jupyter-widgets/controls",
          "model_name": "DescriptionStyleModel",
          "model_module_version": "1.5.0",
          "state": {
            "_model_module": "@jupyter-widgets/controls",
            "_model_module_version": "1.5.0",
            "_model_name": "DescriptionStyleModel",
            "_view_count": null,
            "_view_module": "@jupyter-widgets/base",
            "_view_module_version": "1.2.0",
            "_view_name": "StyleView",
            "description_width": ""
          }
        },
        "79ddc6b59e8543218c79f0d5877f98ea": {
          "model_module": "@jupyter-widgets/base",
          "model_name": "LayoutModel",
          "model_module_version": "1.2.0",
          "state": {
            "_model_module": "@jupyter-widgets/base",
            "_model_module_version": "1.2.0",
            "_model_name": "LayoutModel",
            "_view_count": null,
            "_view_module": "@jupyter-widgets/base",
            "_view_module_version": "1.2.0",
            "_view_name": "LayoutView",
            "align_content": null,
            "align_items": null,
            "align_self": null,
            "border": null,
            "bottom": null,
            "display": null,
            "flex": null,
            "flex_flow": null,
            "grid_area": null,
            "grid_auto_columns": null,
            "grid_auto_flow": null,
            "grid_auto_rows": null,
            "grid_column": null,
            "grid_gap": null,
            "grid_row": null,
            "grid_template_areas": null,
            "grid_template_columns": null,
            "grid_template_rows": null,
            "height": null,
            "justify_content": null,
            "justify_items": null,
            "left": null,
            "margin": null,
            "max_height": null,
            "max_width": null,
            "min_height": null,
            "min_width": null,
            "object_fit": null,
            "object_position": null,
            "order": null,
            "overflow": null,
            "overflow_x": null,
            "overflow_y": null,
            "padding": null,
            "right": null,
            "top": null,
            "visibility": null,
            "width": null
          }
        },
        "ef1745060d174a38b57e2284b9e705c1": {
          "model_module": "@jupyter-widgets/controls",
          "model_name": "ProgressStyleModel",
          "model_module_version": "1.5.0",
          "state": {
            "_model_module": "@jupyter-widgets/controls",
            "_model_module_version": "1.5.0",
            "_model_name": "ProgressStyleModel",
            "_view_count": null,
            "_view_module": "@jupyter-widgets/base",
            "_view_module_version": "1.2.0",
            "_view_name": "StyleView",
            "bar_color": null,
            "description_width": ""
          }
        },
        "58aebf00102344a590cbdf2a04f7b080": {
          "model_module": "@jupyter-widgets/base",
          "model_name": "LayoutModel",
          "model_module_version": "1.2.0",
          "state": {
            "_model_module": "@jupyter-widgets/base",
            "_model_module_version": "1.2.0",
            "_model_name": "LayoutModel",
            "_view_count": null,
            "_view_module": "@jupyter-widgets/base",
            "_view_module_version": "1.2.0",
            "_view_name": "LayoutView",
            "align_content": null,
            "align_items": null,
            "align_self": null,
            "border": null,
            "bottom": null,
            "display": null,
            "flex": null,
            "flex_flow": null,
            "grid_area": null,
            "grid_auto_columns": null,
            "grid_auto_flow": null,
            "grid_auto_rows": null,
            "grid_column": null,
            "grid_gap": null,
            "grid_row": null,
            "grid_template_areas": null,
            "grid_template_columns": null,
            "grid_template_rows": null,
            "height": null,
            "justify_content": null,
            "justify_items": null,
            "left": null,
            "margin": null,
            "max_height": null,
            "max_width": null,
            "min_height": null,
            "min_width": null,
            "object_fit": null,
            "object_position": null,
            "order": null,
            "overflow": null,
            "overflow_x": null,
            "overflow_y": null,
            "padding": null,
            "right": null,
            "top": null,
            "visibility": null,
            "width": null
          }
        },
        "7f49fb58f71845c9abbc168799000739": {
          "model_module": "@jupyter-widgets/controls",
          "model_name": "DescriptionStyleModel",
          "model_module_version": "1.5.0",
          "state": {
            "_model_module": "@jupyter-widgets/controls",
            "_model_module_version": "1.5.0",
            "_model_name": "DescriptionStyleModel",
            "_view_count": null,
            "_view_module": "@jupyter-widgets/base",
            "_view_module_version": "1.2.0",
            "_view_name": "StyleView",
            "description_width": ""
          }
        }
      }
    }
  },
  "cells": [
    {
      "cell_type": "code",
      "execution_count": null,
      "metadata": {
        "id": "GyNyS1ZA__Tf"
      },
      "outputs": [],
      "source": [
        "!pip install mplcyberpunk\n",
        "!pip install python-bcb"
      ]
    },
    {
      "cell_type": "code",
      "source": [
        "import mplcyberpunk\n",
        "import seaborn as sns\n",
        "import pandas as pd\n",
        "from bcb import sgs\n",
        "import statsmodels.api as sm\n",
        "import matplotlib.pyplot as plt\n",
        "import matplotlib.ticker as mtick\n",
        "import matplotlib.dates as mdates\n",
        "from matplotlib.dates import date2num\n",
        "from datetime import datetime\n",
        "from datetime import timedelta\n",
        "\n",
        "plt.style.use(\"cyberpunk\")"
      ],
      "metadata": {
        "id": "bqOyFG3uACk9"
      },
      "execution_count": null,
      "outputs": []
    },
    {
      "cell_type": "code",
      "source": [
        "import numpy as np\n",
        "from pandas.plotting import autocorrelation_plot\n",
        "from matplotlib import pyplot\n",
        "import pandas.util.testing as tm\n",
        "from statsmodels.graphics.tsaplots import plot_acf\n",
        "from statsmodels.graphics.tsaplots import plot_pacf\n",
        "from matplotlib import pyplot"
      ],
      "metadata": {
        "id": "mJKrEECUAEYM"
      },
      "execution_count": null,
      "outputs": []
    },
    {
      "cell_type": "code",
      "source": [
        "df_federal = pd.read_csv('/content/drive/MyDrive/Dados/convenio_FEDERAL.csv', sep=';')\n",
        "df_federal['Data'] = pd.to_datetime(df_federal['Data'], format='%d/%m/%Y')"
      ],
      "metadata": {
        "id": "Jt36kiwjAHUk"
      },
      "execution_count": null,
      "outputs": []
    },
    {
      "cell_type": "code",
      "source": [
        "df_federal.info()"
      ],
      "metadata": {
        "colab": {
          "base_uri": "https://localhost:8080/"
        },
        "id": "5A33XHnuAp5Y",
        "outputId": "d2c19dbc-dbf8-4bb1-c3c3-bb921c7d45a1"
      },
      "execution_count": null,
      "outputs": [
        {
          "output_type": "stream",
          "name": "stdout",
          "text": [
            "<class 'pandas.core.frame.DataFrame'>\n",
            "RangeIndex: 31 entries, 0 to 30\n",
            "Data columns (total 4 columns):\n",
            " #   Column                  Non-Null Count  Dtype         \n",
            "---  ------                  --------------  -----         \n",
            " 0   Data                    31 non-null     datetime64[ns]\n",
            " 1   ValorBase               31 non-null     object        \n",
            " 2   Selic                   31 non-null     object        \n",
            " 3   taxa_mensal_consignado  31 non-null     object        \n",
            "dtypes: datetime64[ns](1), object(3)\n",
            "memory usage: 1.1+ KB\n"
          ]
        }
      ]
    },
    {
      "cell_type": "code",
      "source": [
        "# Remover vírgula e converter coluna para float\n",
        "df_federal['ValorBase'] = df_federal['ValorBase'].str.replace(',', '.').astype(float)\n",
        "df_federal['Selic'] = df_federal['Selic'].str.replace(',', '.').astype(float)\n",
        "df_federal['taxa_mensal_consignado'] = df_federal['taxa_mensal_consignado'].str.replace(',', '.').astype(float)"
      ],
      "metadata": {
        "id": "OyUE-MBxFph_"
      },
      "execution_count": null,
      "outputs": []
    },
    {
      "cell_type": "code",
      "source": [
        "df_federal.head(5)"
      ],
      "metadata": {
        "colab": {
          "base_uri": "https://localhost:8080/",
          "height": 206
        },
        "id": "IC80zaX_CwF7",
        "outputId": "f653029c-9bc6-404e-aed9-fc4da2f3e2f7"
      },
      "execution_count": null,
      "outputs": [
        {
          "output_type": "execute_result",
          "data": {
            "text/plain": [
              "        Data  ValorBase  Selic  taxa_mensal_consignado\n",
              "0 2020-12-01     4000.0   2.00                    1.24\n",
              "1 2021-01-01   729109.0   2.00                    1.26\n",
              "2 2021-02-01   888892.0   2.00                    1.26\n",
              "3 2021-03-01  1791860.0   2.00                    1.27\n",
              "4 2021-04-01  2419661.0   2.75                    1.30"
            ],
            "text/html": [
              "\n",
              "  <div id=\"df-89bc2cc2-e41f-4139-b994-513b1582d52c\">\n",
              "    <div class=\"colab-df-container\">\n",
              "      <div>\n",
              "<style scoped>\n",
              "    .dataframe tbody tr th:only-of-type {\n",
              "        vertical-align: middle;\n",
              "    }\n",
              "\n",
              "    .dataframe tbody tr th {\n",
              "        vertical-align: top;\n",
              "    }\n",
              "\n",
              "    .dataframe thead th {\n",
              "        text-align: right;\n",
              "    }\n",
              "</style>\n",
              "<table border=\"1\" class=\"dataframe\">\n",
              "  <thead>\n",
              "    <tr style=\"text-align: right;\">\n",
              "      <th></th>\n",
              "      <th>Data</th>\n",
              "      <th>ValorBase</th>\n",
              "      <th>Selic</th>\n",
              "      <th>taxa_mensal_consignado</th>\n",
              "    </tr>\n",
              "  </thead>\n",
              "  <tbody>\n",
              "    <tr>\n",
              "      <th>0</th>\n",
              "      <td>2020-12-01</td>\n",
              "      <td>4000.0</td>\n",
              "      <td>2.00</td>\n",
              "      <td>1.24</td>\n",
              "    </tr>\n",
              "    <tr>\n",
              "      <th>1</th>\n",
              "      <td>2021-01-01</td>\n",
              "      <td>729109.0</td>\n",
              "      <td>2.00</td>\n",
              "      <td>1.26</td>\n",
              "    </tr>\n",
              "    <tr>\n",
              "      <th>2</th>\n",
              "      <td>2021-02-01</td>\n",
              "      <td>888892.0</td>\n",
              "      <td>2.00</td>\n",
              "      <td>1.26</td>\n",
              "    </tr>\n",
              "    <tr>\n",
              "      <th>3</th>\n",
              "      <td>2021-03-01</td>\n",
              "      <td>1791860.0</td>\n",
              "      <td>2.00</td>\n",
              "      <td>1.27</td>\n",
              "    </tr>\n",
              "    <tr>\n",
              "      <th>4</th>\n",
              "      <td>2021-04-01</td>\n",
              "      <td>2419661.0</td>\n",
              "      <td>2.75</td>\n",
              "      <td>1.30</td>\n",
              "    </tr>\n",
              "  </tbody>\n",
              "</table>\n",
              "</div>\n",
              "      <button class=\"colab-df-convert\" onclick=\"convertToInteractive('df-89bc2cc2-e41f-4139-b994-513b1582d52c')\"\n",
              "              title=\"Convert this dataframe to an interactive table.\"\n",
              "              style=\"display:none;\">\n",
              "        \n",
              "  <svg xmlns=\"http://www.w3.org/2000/svg\" height=\"24px\"viewBox=\"0 0 24 24\"\n",
              "       width=\"24px\">\n",
              "    <path d=\"M0 0h24v24H0V0z\" fill=\"none\"/>\n",
              "    <path d=\"M18.56 5.44l.94 2.06.94-2.06 2.06-.94-2.06-.94-.94-2.06-.94 2.06-2.06.94zm-11 1L8.5 8.5l.94-2.06 2.06-.94-2.06-.94L8.5 2.5l-.94 2.06-2.06.94zm10 10l.94 2.06.94-2.06 2.06-.94-2.06-.94-.94-2.06-.94 2.06-2.06.94z\"/><path d=\"M17.41 7.96l-1.37-1.37c-.4-.4-.92-.59-1.43-.59-.52 0-1.04.2-1.43.59L10.3 9.45l-7.72 7.72c-.78.78-.78 2.05 0 2.83L4 21.41c.39.39.9.59 1.41.59.51 0 1.02-.2 1.41-.59l7.78-7.78 2.81-2.81c.8-.78.8-2.07 0-2.86zM5.41 20L4 18.59l7.72-7.72 1.47 1.35L5.41 20z\"/>\n",
              "  </svg>\n",
              "      </button>\n",
              "      \n",
              "  <style>\n",
              "    .colab-df-container {\n",
              "      display:flex;\n",
              "      flex-wrap:wrap;\n",
              "      gap: 12px;\n",
              "    }\n",
              "\n",
              "    .colab-df-convert {\n",
              "      background-color: #E8F0FE;\n",
              "      border: none;\n",
              "      border-radius: 50%;\n",
              "      cursor: pointer;\n",
              "      display: none;\n",
              "      fill: #1967D2;\n",
              "      height: 32px;\n",
              "      padding: 0 0 0 0;\n",
              "      width: 32px;\n",
              "    }\n",
              "\n",
              "    .colab-df-convert:hover {\n",
              "      background-color: #E2EBFA;\n",
              "      box-shadow: 0px 1px 2px rgba(60, 64, 67, 0.3), 0px 1px 3px 1px rgba(60, 64, 67, 0.15);\n",
              "      fill: #174EA6;\n",
              "    }\n",
              "\n",
              "    [theme=dark] .colab-df-convert {\n",
              "      background-color: #3B4455;\n",
              "      fill: #D2E3FC;\n",
              "    }\n",
              "\n",
              "    [theme=dark] .colab-df-convert:hover {\n",
              "      background-color: #434B5C;\n",
              "      box-shadow: 0px 1px 3px 1px rgba(0, 0, 0, 0.15);\n",
              "      filter: drop-shadow(0px 1px 2px rgba(0, 0, 0, 0.3));\n",
              "      fill: #FFFFFF;\n",
              "    }\n",
              "  </style>\n",
              "\n",
              "      <script>\n",
              "        const buttonEl =\n",
              "          document.querySelector('#df-89bc2cc2-e41f-4139-b994-513b1582d52c button.colab-df-convert');\n",
              "        buttonEl.style.display =\n",
              "          google.colab.kernel.accessAllowed ? 'block' : 'none';\n",
              "\n",
              "        async function convertToInteractive(key) {\n",
              "          const element = document.querySelector('#df-89bc2cc2-e41f-4139-b994-513b1582d52c');\n",
              "          const dataTable =\n",
              "            await google.colab.kernel.invokeFunction('convertToInteractive',\n",
              "                                                     [key], {});\n",
              "          if (!dataTable) return;\n",
              "\n",
              "          const docLinkHtml = 'Like what you see? Visit the ' +\n",
              "            '<a target=\"_blank\" href=https://colab.research.google.com/notebooks/data_table.ipynb>data table notebook</a>'\n",
              "            + ' to learn more about interactive tables.';\n",
              "          element.innerHTML = '';\n",
              "          dataTable['output_type'] = 'display_data';\n",
              "          await google.colab.output.renderOutput(dataTable, element);\n",
              "          const docLink = document.createElement('div');\n",
              "          docLink.innerHTML = docLinkHtml;\n",
              "          element.appendChild(docLink);\n",
              "        }\n",
              "      </script>\n",
              "    </div>\n",
              "  </div>\n",
              "  "
            ]
          },
          "metadata": {},
          "execution_count": 197
        }
      ]
    },
    {
      "cell_type": "code",
      "source": [
        "df_federal.info()"
      ],
      "metadata": {
        "colab": {
          "base_uri": "https://localhost:8080/"
        },
        "id": "O3y_8x9bHtIk",
        "outputId": "95ff39b3-afa1-47cf-d566-1b0cbd1636a3"
      },
      "execution_count": null,
      "outputs": [
        {
          "output_type": "stream",
          "name": "stdout",
          "text": [
            "<class 'pandas.core.frame.DataFrame'>\n",
            "RangeIndex: 31 entries, 0 to 30\n",
            "Data columns (total 4 columns):\n",
            " #   Column                  Non-Null Count  Dtype         \n",
            "---  ------                  --------------  -----         \n",
            " 0   Data                    31 non-null     datetime64[ns]\n",
            " 1   ValorBase               31 non-null     float64       \n",
            " 2   Selic                   31 non-null     float64       \n",
            " 3   taxa_mensal_consignado  31 non-null     float64       \n",
            "dtypes: datetime64[ns](1), float64(3)\n",
            "memory usage: 1.1 KB\n"
          ]
        }
      ]
    },
    {
      "cell_type": "markdown",
      "source": [
        "# **CORRELAÇÃO**"
      ],
      "metadata": {
        "id": "R1Mw4gSypgGW"
      }
    },
    {
      "cell_type": "code",
      "source": [
        "df_federal.corr()"
      ],
      "metadata": {
        "colab": {
          "base_uri": "https://localhost:8080/",
          "height": 143
        },
        "id": "l0U2t_PqLY0b",
        "outputId": "bcca8526-c63a-4b64-ca5f-dba1d80ac8b6"
      },
      "execution_count": null,
      "outputs": [
        {
          "output_type": "execute_result",
          "data": {
            "text/plain": [
              "                        ValorBase     Selic  taxa_mensal_consignado\n",
              "ValorBase                1.000000  0.311088                0.306177\n",
              "Selic                    0.311088  1.000000                0.969828\n",
              "taxa_mensal_consignado   0.306177  0.969828                1.000000"
            ],
            "text/html": [
              "\n",
              "  <div id=\"df-99d0d650-8f51-4375-95b5-3ce3770e206f\">\n",
              "    <div class=\"colab-df-container\">\n",
              "      <div>\n",
              "<style scoped>\n",
              "    .dataframe tbody tr th:only-of-type {\n",
              "        vertical-align: middle;\n",
              "    }\n",
              "\n",
              "    .dataframe tbody tr th {\n",
              "        vertical-align: top;\n",
              "    }\n",
              "\n",
              "    .dataframe thead th {\n",
              "        text-align: right;\n",
              "    }\n",
              "</style>\n",
              "<table border=\"1\" class=\"dataframe\">\n",
              "  <thead>\n",
              "    <tr style=\"text-align: right;\">\n",
              "      <th></th>\n",
              "      <th>ValorBase</th>\n",
              "      <th>Selic</th>\n",
              "      <th>taxa_mensal_consignado</th>\n",
              "    </tr>\n",
              "  </thead>\n",
              "  <tbody>\n",
              "    <tr>\n",
              "      <th>ValorBase</th>\n",
              "      <td>1.000000</td>\n",
              "      <td>0.311088</td>\n",
              "      <td>0.306177</td>\n",
              "    </tr>\n",
              "    <tr>\n",
              "      <th>Selic</th>\n",
              "      <td>0.311088</td>\n",
              "      <td>1.000000</td>\n",
              "      <td>0.969828</td>\n",
              "    </tr>\n",
              "    <tr>\n",
              "      <th>taxa_mensal_consignado</th>\n",
              "      <td>0.306177</td>\n",
              "      <td>0.969828</td>\n",
              "      <td>1.000000</td>\n",
              "    </tr>\n",
              "  </tbody>\n",
              "</table>\n",
              "</div>\n",
              "      <button class=\"colab-df-convert\" onclick=\"convertToInteractive('df-99d0d650-8f51-4375-95b5-3ce3770e206f')\"\n",
              "              title=\"Convert this dataframe to an interactive table.\"\n",
              "              style=\"display:none;\">\n",
              "        \n",
              "  <svg xmlns=\"http://www.w3.org/2000/svg\" height=\"24px\"viewBox=\"0 0 24 24\"\n",
              "       width=\"24px\">\n",
              "    <path d=\"M0 0h24v24H0V0z\" fill=\"none\"/>\n",
              "    <path d=\"M18.56 5.44l.94 2.06.94-2.06 2.06-.94-2.06-.94-.94-2.06-.94 2.06-2.06.94zm-11 1L8.5 8.5l.94-2.06 2.06-.94-2.06-.94L8.5 2.5l-.94 2.06-2.06.94zm10 10l.94 2.06.94-2.06 2.06-.94-2.06-.94-.94-2.06-.94 2.06-2.06.94z\"/><path d=\"M17.41 7.96l-1.37-1.37c-.4-.4-.92-.59-1.43-.59-.52 0-1.04.2-1.43.59L10.3 9.45l-7.72 7.72c-.78.78-.78 2.05 0 2.83L4 21.41c.39.39.9.59 1.41.59.51 0 1.02-.2 1.41-.59l7.78-7.78 2.81-2.81c.8-.78.8-2.07 0-2.86zM5.41 20L4 18.59l7.72-7.72 1.47 1.35L5.41 20z\"/>\n",
              "  </svg>\n",
              "      </button>\n",
              "      \n",
              "  <style>\n",
              "    .colab-df-container {\n",
              "      display:flex;\n",
              "      flex-wrap:wrap;\n",
              "      gap: 12px;\n",
              "    }\n",
              "\n",
              "    .colab-df-convert {\n",
              "      background-color: #E8F0FE;\n",
              "      border: none;\n",
              "      border-radius: 50%;\n",
              "      cursor: pointer;\n",
              "      display: none;\n",
              "      fill: #1967D2;\n",
              "      height: 32px;\n",
              "      padding: 0 0 0 0;\n",
              "      width: 32px;\n",
              "    }\n",
              "\n",
              "    .colab-df-convert:hover {\n",
              "      background-color: #E2EBFA;\n",
              "      box-shadow: 0px 1px 2px rgba(60, 64, 67, 0.3), 0px 1px 3px 1px rgba(60, 64, 67, 0.15);\n",
              "      fill: #174EA6;\n",
              "    }\n",
              "\n",
              "    [theme=dark] .colab-df-convert {\n",
              "      background-color: #3B4455;\n",
              "      fill: #D2E3FC;\n",
              "    }\n",
              "\n",
              "    [theme=dark] .colab-df-convert:hover {\n",
              "      background-color: #434B5C;\n",
              "      box-shadow: 0px 1px 3px 1px rgba(0, 0, 0, 0.15);\n",
              "      filter: drop-shadow(0px 1px 2px rgba(0, 0, 0, 0.3));\n",
              "      fill: #FFFFFF;\n",
              "    }\n",
              "  </style>\n",
              "\n",
              "      <script>\n",
              "        const buttonEl =\n",
              "          document.querySelector('#df-99d0d650-8f51-4375-95b5-3ce3770e206f button.colab-df-convert');\n",
              "        buttonEl.style.display =\n",
              "          google.colab.kernel.accessAllowed ? 'block' : 'none';\n",
              "\n",
              "        async function convertToInteractive(key) {\n",
              "          const element = document.querySelector('#df-99d0d650-8f51-4375-95b5-3ce3770e206f');\n",
              "          const dataTable =\n",
              "            await google.colab.kernel.invokeFunction('convertToInteractive',\n",
              "                                                     [key], {});\n",
              "          if (!dataTable) return;\n",
              "\n",
              "          const docLinkHtml = 'Like what you see? Visit the ' +\n",
              "            '<a target=\"_blank\" href=https://colab.research.google.com/notebooks/data_table.ipynb>data table notebook</a>'\n",
              "            + ' to learn more about interactive tables.';\n",
              "          element.innerHTML = '';\n",
              "          dataTable['output_type'] = 'display_data';\n",
              "          await google.colab.output.renderOutput(dataTable, element);\n",
              "          const docLink = document.createElement('div');\n",
              "          docLink.innerHTML = docLinkHtml;\n",
              "          element.appendChild(docLink);\n",
              "        }\n",
              "      </script>\n",
              "    </div>\n",
              "  </div>\n",
              "  "
            ]
          },
          "metadata": {},
          "execution_count": 199
        }
      ]
    },
    {
      "cell_type": "code",
      "source": [
        "sns.pairplot(df_federal)"
      ],
      "metadata": {
        "colab": {
          "base_uri": "https://localhost:8080/",
          "height": 795
        },
        "id": "sxLMw9eccTVK",
        "outputId": "96dc4001-7120-40e0-df28-b576a8a40bc0"
      },
      "execution_count": null,
      "outputs": [
        {
          "output_type": "execute_result",
          "data": {
            "text/plain": [
              "<seaborn.axisgrid.PairGrid at 0x7f5ea7dc2fb0>"
            ]
          },
          "metadata": {},
          "execution_count": 84
        },
        {
          "output_type": "display_data",
          "data": {
            "text/plain": [
              "<Figure size 1000x600 with 0 Axes>"
            ]
          },
          "metadata": {}
        },
        {
          "output_type": "display_data",
          "data": {
            "text/plain": [
              "<Figure size 750x750 with 12 Axes>"
            ],
            "image/png": "[encoded data removed]"
          },
          "metadata": {}
        }
      ]
    },
    {
      "cell_type": "code",
      "source": [
        "ax = sns.pairplot(df_federal, y_vars='ValorBase', x_vars=['Selic', 'taxa_mensal_consignado'], kind='reg')\n",
        "ax.fig.suptitle('', fontsize=20, y=1.07)\n",
        "ax"
      ],
      "metadata": {
        "colab": {
          "base_uri": "https://localhost:8080/",
          "height": 286
        },
        "id": "ZCAf2FshcfdJ",
        "outputId": "bcb52ea7-ee33-46df-e52e-d7eedbc09fc2"
      },
      "execution_count": null,
      "outputs": [
        {
          "output_type": "execute_result",
          "data": {
            "text/plain": [
              "<seaborn.axisgrid.PairGrid at 0x7f5ea59ff3a0>"
            ]
          },
          "metadata": {},
          "execution_count": 112
        },
        {
          "output_type": "display_data",
          "data": {
            "text/plain": [
              "<Figure size 500x250 with 2 Axes>"
            ],
            "image/png": "[encoded data removed]"
          },
          "metadata": {}
        }
      ]
    },
    {
      "cell_type": "markdown",
      "source": [
        "# MODELO AUTOREG GOVERNO TREINO/TESTE"
      ],
      "metadata": {
        "id": "CGKyridrKEgD"
      }
    },
    {
      "cell_type": "code",
      "source": [
        "train_size = int(len(df_federal.ValorBase) * 2 / 3)\n",
        "train_size"
      ],
      "metadata": {
        "colab": {
          "base_uri": "https://localhost:8080/"
        },
        "id": "GulKJxplHy35",
        "outputId": "9d46efcd-acfd-4229-d975-1b017d404e91"
      },
      "execution_count": null,
      "outputs": [
        {
          "output_type": "execute_result",
          "data": {
            "text/plain": [
              "20"
            ]
          },
          "metadata": {},
          "execution_count": 9
        }
      ]
    },
    {
      "cell_type": "code",
      "source": [
        "train_set = df_federal.ValorBase[:train_size]\n",
        "test_set = df_federal.ValorBase[train_size:]"
      ],
      "metadata": {
        "id": "ndIT5n1uH5Wh"
      },
      "execution_count": null,
      "outputs": []
    },
    {
      "cell_type": "code",
      "source": [
        "train_set.shape, test_set.shape"
      ],
      "metadata": {
        "colab": {
          "base_uri": "https://localhost:8080/"
        },
        "id": "l5yeW3zaIAjh",
        "outputId": "fddeeca9-69dd-4998-f961-91ef435905a0"
      },
      "execution_count": null,
      "outputs": [
        {
          "output_type": "execute_result",
          "data": {
            "text/plain": [
              "((20,), (11,))"
            ]
          },
          "metadata": {},
          "execution_count": 11
        }
      ]
    },
    {
      "cell_type": "code",
      "source": [
        "plot_acf(df_federal.ValorBase, lags=10)\n",
        "pyplot.show()"
      ],
      "metadata": {
        "colab": {
          "base_uri": "https://localhost:8080/",
          "height": 445
        },
        "id": "dAPMNrcNNlQ8",
        "outputId": "94cd626f-ccd3-4454-9e2b-4949df83bfe0"
      },
      "execution_count": null,
      "outputs": [
        {
          "output_type": "display_data",
          "data": {
            "text/plain": [
              "<Figure size 640x480 with 1 Axes>"
            ],
            "image/png": "[encoded data removed]"
          },
          "metadata": {}
        }
      ]
    },
    {
      "cell_type": "code",
      "source": [
        "plt.plot(train_set)\n",
        "plt.plot(test_set)"
      ],
      "metadata": {
        "colab": {
          "base_uri": "https://localhost:8080/",
          "height": 458
        },
        "id": "xko4XjUHIEHB",
        "outputId": "2afb004c-4110-4c83-f1bd-1f1a7ba0fc29"
      },
      "execution_count": null,
      "outputs": [
        {
          "output_type": "execute_result",
          "data": {
            "text/plain": [
              "[<matplotlib.lines.Line2D at 0x7fe7facda650>]"
            ]
          },
          "metadata": {},
          "execution_count": 13
        },
        {
          "output_type": "display_data",
          "data": {
            "text/plain": [
              "<Figure size 640x480 with 1 Axes>"
            ],
            "image/png": "[encoded data removed]"
          },
          "metadata": {}
        }
      ]
    },
    {
      "cell_type": "code",
      "source": [
        "from statsmodels.tsa.ar_model import AR\n",
        "from statsmodels.tsa.ar_model import AutoReg\n",
        "\n",
        "ar_2 = AutoReg(train_set, lags=2).fit()\n",
        "ar_2.params"
      ],
      "metadata": {
        "colab": {
          "base_uri": "https://localhost:8080/"
        },
        "id": "UA8U18i4IK36",
        "outputId": "020276c8-1ccc-449b-a3df-de85d5dcee0d"
      },
      "execution_count": null,
      "outputs": [
        {
          "output_type": "execute_result",
          "data": {
            "text/plain": [
              "const           953956.501807\n",
              "ValorBase.L1         0.516659\n",
              "ValorBase.L2         0.006203\n",
              "dtype: float64"
            ]
          },
          "metadata": {},
          "execution_count": 14
        }
      ]
    },
    {
      "cell_type": "code",
      "source": [
        "previsoes = ar_2.params[0] + test_set.shift(1) * ar_2.params[1] + test_set.shift(2) * ar_2.params[2]"
      ],
      "metadata": {
        "id": "Kgjf1i2rIQyJ"
      },
      "execution_count": null,
      "outputs": []
    },
    {
      "cell_type": "code",
      "source": [
        "((test_set - previsoes) ** 2).mean()"
      ],
      "metadata": {
        "colab": {
          "base_uri": "https://localhost:8080/"
        },
        "id": "SJvxQbFBIY2R",
        "outputId": "6d4a6665-9290-4748-ed6e-ec810844802b"
      },
      "execution_count": null,
      "outputs": [
        {
          "output_type": "execute_result",
          "data": {
            "text/plain": [
              "2095238637066.0417"
            ]
          },
          "metadata": {},
          "execution_count": 17
        }
      ]
    },
    {
      "cell_type": "code",
      "source": [
        "plt.plot(train_set)\n",
        "plt.plot(test_set)\n",
        "plt.plot(previsoes)"
      ],
      "metadata": {
        "colab": {
          "base_uri": "https://localhost:8080/",
          "height": 458
        },
        "id": "6Qb6ulCVITLB",
        "outputId": "3fd7483d-8f72-4e70-a352-5c7d26d1fc09"
      },
      "execution_count": null,
      "outputs": [
        {
          "output_type": "execute_result",
          "data": {
            "text/plain": [
              "[<matplotlib.lines.Line2D at 0x7fe7fad7de10>]"
            ]
          },
          "metadata": {},
          "execution_count": 16
        },
        {
          "output_type": "display_data",
          "data": {
            "text/plain": [
              "<Figure size 640x480 with 1 Axes>"
            ],
            "image/png": "[encoded data removed]"
          },
          "metadata": {}
        }
      ]
    },
    {
      "cell_type": "markdown",
      "source": [
        "# MODELO ECONOMETRICO"
      ],
      "metadata": {
        "id": "0FA6daqOYYmS"
      }
    },
    {
      "cell_type": "code",
      "source": [
        "import statsmodels.api as sm\n",
        "import statsmodels.formula.api as smf"
      ],
      "metadata": {
        "id": "1bRGddfVYa7k"
      },
      "execution_count": null,
      "outputs": []
    },
    {
      "cell_type": "code",
      "source": [
        "modelo2 = smf.ols(data = df_federal, formula = 'ValorBase ~ Selic + taxa_mensal_consignado' )\n",
        "modelo_ajustado = modelo2.fit()\n",
        "print(modelo_ajustado.summary() )"
      ],
      "metadata": {
        "colab": {
          "base_uri": "https://localhost:8080/"
        },
        "id": "ZKicD75CYbCT",
        "outputId": "5f152115-23af-4672-862c-d11b896f77c2"
      },
      "execution_count": null,
      "outputs": [
        {
          "output_type": "stream",
          "name": "stdout",
          "text": [
            "                            OLS Regression Results                            \n",
            "==============================================================================\n",
            "Dep. Variable:              ValorBase   R-squared:                       0.097\n",
            "Model:                            OLS   Adj. R-squared:                  0.033\n",
            "Method:                 Least Squares   F-statistic:                     1.506\n",
            "Date:                Fri, 23 Jun 2023   Prob (F-statistic):              0.239\n",
            "Time:                        19:12:49   Log-Likelihood:                -472.34\n",
            "No. Observations:                  31   AIC:                             950.7\n",
            "Df Residuals:                      28   BIC:                             955.0\n",
            "Df Model:                           2                                         \n",
            "Covariance Type:            nonrobust                                         \n",
            "==========================================================================================\n",
            "                             coef    std err          t      P>|t|      [0.025      0.975]\n",
            "------------------------------------------------------------------------------------------\n",
            "Intercept               1.096e+06   3.62e+06      0.303      0.764   -6.31e+06     8.5e+06\n",
            "Selic                    5.41e+04   1.67e+05      0.323      0.749   -2.89e+05    3.97e+05\n",
            "taxa_mensal_consignado  3.309e+05   3.24e+06      0.102      0.919    -6.3e+06    6.96e+06\n",
            "==============================================================================\n",
            "Omnibus:                       16.915   Durbin-Watson:                   1.295\n",
            "Prob(Omnibus):                  0.000   Jarque-Bera (JB):               21.485\n",
            "Skew:                           1.401   Prob(JB):                     2.16e-05\n",
            "Kurtosis:                       5.963   Cond. No.                         265.\n",
            "==============================================================================\n",
            "\n",
            "Notes:\n",
            "[1] Standard Errors assume that the covariance matrix of the errors is correctly specified.\n"
          ]
        }
      ]
    },
    {
      "cell_type": "code",
      "source": [
        "df_federal"
      ],
      "metadata": {
        "id": "_ALCtHURYbII"
      },
      "execution_count": null,
      "outputs": []
    },
    {
      "cell_type": "markdown",
      "source": [
        "# PREVISÕES SARIMAX CONVENIO FEDERAL\n"
      ],
      "metadata": {
        "id": "orOuNY81Y3Ml"
      }
    },
    {
      "cell_type": "code",
      "source": [
        "from statsmodels.tsa.statespace.sarimax import SARIMAX"
      ],
      "metadata": {
        "id": "WcsRTZCWY5ze"
      },
      "execution_count": null,
      "outputs": []
    },
    {
      "cell_type": "code",
      "source": [
        "# Converter coluna de datas para o tipo datetime\n",
        "df_federal['Data'] = pd.to_datetime(df_federal['Data'])\n",
        "\n",
        "# Definir a coluna 'Data' como o índice do DataFrame\n",
        "df_federal.set_index('Data', inplace=True)\n",
        "\n",
        "# Verificar o índice atualizado\n"
      ],
      "metadata": {
        "id": "b0SjR5esZUid"
      },
      "execution_count": null,
      "outputs": []
    },
    {
      "cell_type": "code",
      "source": [
        "df_federal.head(5)"
      ],
      "metadata": {
        "colab": {
          "base_uri": "https://localhost:8080/",
          "height": 237
        },
        "id": "0qG0ZdjZaeUH",
        "outputId": "2be06156-4706-43cb-9305-a7e8ef6393ca"
      },
      "execution_count": null,
      "outputs": [
        {
          "output_type": "execute_result",
          "data": {
            "text/plain": [
              "            ValorBase  Selic  taxa_mensal_consignado\n",
              "Data                                                \n",
              "2020-12-01     4000.0   2.00                    1.24\n",
              "2021-01-01   729109.0   2.00                    1.26\n",
              "2021-02-01   888892.0   2.00                    1.26\n",
              "2021-03-01  1791860.0   2.00                    1.27\n",
              "2021-04-01  2419661.0   2.75                    1.30"
            ],
            "text/html": [
              "\n",
              "  <div id=\"df-e11ca854-2239-42c7-bdb0-62c70d5791fd\">\n",
              "    <div class=\"colab-df-container\">\n",
              "      <div>\n",
              "<style scoped>\n",
              "    .dataframe tbody tr th:only-of-type {\n",
              "        vertical-align: middle;\n",
              "    }\n",
              "\n",
              "    .dataframe tbody tr th {\n",
              "        vertical-align: top;\n",
              "    }\n",
              "\n",
              "    .dataframe thead th {\n",
              "        text-align: right;\n",
              "    }\n",
              "</style>\n",
              "<table border=\"1\" class=\"dataframe\">\n",
              "  <thead>\n",
              "    <tr style=\"text-align: right;\">\n",
              "      <th></th>\n",
              "      <th>ValorBase</th>\n",
              "      <th>Selic</th>\n",
              "      <th>taxa_mensal_consignado</th>\n",
              "    </tr>\n",
              "    <tr>\n",
              "      <th>Data</th>\n",
              "      <th></th>\n",
              "      <th></th>\n",
              "      <th></th>\n",
              "    </tr>\n",
              "  </thead>\n",
              "  <tbody>\n",
              "    <tr>\n",
              "      <th>2020-12-01</th>\n",
              "      <td>4000.0</td>\n",
              "      <td>2.00</td>\n",
              "      <td>1.24</td>\n",
              "    </tr>\n",
              "    <tr>\n",
              "      <th>2021-01-01</th>\n",
              "      <td>729109.0</td>\n",
              "      <td>2.00</td>\n",
              "      <td>1.26</td>\n",
              "    </tr>\n",
              "    <tr>\n",
              "      <th>2021-02-01</th>\n",
              "      <td>888892.0</td>\n",
              "      <td>2.00</td>\n",
              "      <td>1.26</td>\n",
              "    </tr>\n",
              "    <tr>\n",
              "      <th>2021-03-01</th>\n",
              "      <td>1791860.0</td>\n",
              "      <td>2.00</td>\n",
              "      <td>1.27</td>\n",
              "    </tr>\n",
              "    <tr>\n",
              "      <th>2021-04-01</th>\n",
              "      <td>2419661.0</td>\n",
              "      <td>2.75</td>\n",
              "      <td>1.30</td>\n",
              "    </tr>\n",
              "  </tbody>\n",
              "</table>\n",
              "</div>\n",
              "      <button class=\"colab-df-convert\" onclick=\"convertToInteractive('df-e11ca854-2239-42c7-bdb0-62c70d5791fd')\"\n",
              "              title=\"Convert this dataframe to an interactive table.\"\n",
              "              style=\"display:none;\">\n",
              "        \n",
              "  <svg xmlns=\"http://www.w3.org/2000/svg\" height=\"24px\"viewBox=\"0 0 24 24\"\n",
              "       width=\"24px\">\n",
              "    <path d=\"M0 0h24v24H0V0z\" fill=\"none\"/>\n",
              "    <path d=\"M18.56 5.44l.94 2.06.94-2.06 2.06-.94-2.06-.94-.94-2.06-.94 2.06-2.06.94zm-11 1L8.5 8.5l.94-2.06 2.06-.94-2.06-.94L8.5 2.5l-.94 2.06-2.06.94zm10 10l.94 2.06.94-2.06 2.06-.94-2.06-.94-.94-2.06-.94 2.06-2.06.94z\"/><path d=\"M17.41 7.96l-1.37-1.37c-.4-.4-.92-.59-1.43-.59-.52 0-1.04.2-1.43.59L10.3 9.45l-7.72 7.72c-.78.78-.78 2.05 0 2.83L4 21.41c.39.39.9.59 1.41.59.51 0 1.02-.2 1.41-.59l7.78-7.78 2.81-2.81c.8-.78.8-2.07 0-2.86zM5.41 20L4 18.59l7.72-7.72 1.47 1.35L5.41 20z\"/>\n",
              "  </svg>\n",
              "      </button>\n",
              "      \n",
              "  <style>\n",
              "    .colab-df-container {\n",
              "      display:flex;\n",
              "      flex-wrap:wrap;\n",
              "      gap: 12px;\n",
              "    }\n",
              "\n",
              "    .colab-df-convert {\n",
              "      background-color: #E8F0FE;\n",
              "      border: none;\n",
              "      border-radius: 50%;\n",
              "      cursor: pointer;\n",
              "      display: none;\n",
              "      fill: #1967D2;\n",
              "      height: 32px;\n",
              "      padding: 0 0 0 0;\n",
              "      width: 32px;\n",
              "    }\n",
              "\n",
              "    .colab-df-convert:hover {\n",
              "      background-color: #E2EBFA;\n",
              "      box-shadow: 0px 1px 2px rgba(60, 64, 67, 0.3), 0px 1px 3px 1px rgba(60, 64, 67, 0.15);\n",
              "      fill: #174EA6;\n",
              "    }\n",
              "\n",
              "    [theme=dark] .colab-df-convert {\n",
              "      background-color: #3B4455;\n",
              "      fill: #D2E3FC;\n",
              "    }\n",
              "\n",
              "    [theme=dark] .colab-df-convert:hover {\n",
              "      background-color: #434B5C;\n",
              "      box-shadow: 0px 1px 3px 1px rgba(0, 0, 0, 0.15);\n",
              "      filter: drop-shadow(0px 1px 2px rgba(0, 0, 0, 0.3));\n",
              "      fill: #FFFFFF;\n",
              "    }\n",
              "  </style>\n",
              "\n",
              "      <script>\n",
              "        const buttonEl =\n",
              "          document.querySelector('#df-e11ca854-2239-42c7-bdb0-62c70d5791fd button.colab-df-convert');\n",
              "        buttonEl.style.display =\n",
              "          google.colab.kernel.accessAllowed ? 'block' : 'none';\n",
              "\n",
              "        async function convertToInteractive(key) {\n",
              "          const element = document.querySelector('#df-e11ca854-2239-42c7-bdb0-62c70d5791fd');\n",
              "          const dataTable =\n",
              "            await google.colab.kernel.invokeFunction('convertToInteractive',\n",
              "                                                     [key], {});\n",
              "          if (!dataTable) return;\n",
              "\n",
              "          const docLinkHtml = 'Like what you see? Visit the ' +\n",
              "            '<a target=\"_blank\" href=https://colab.research.google.com/notebooks/data_table.ipynb>data table notebook</a>'\n",
              "            + ' to learn more about interactive tables.';\n",
              "          element.innerHTML = '';\n",
              "          dataTable['output_type'] = 'display_data';\n",
              "          await google.colab.output.renderOutput(dataTable, element);\n",
              "          const docLink = document.createElement('div');\n",
              "          docLink.innerHTML = docLinkHtml;\n",
              "          element.appendChild(docLink);\n",
              "        }\n",
              "      </script>\n",
              "    </div>\n",
              "  </div>\n",
              "  "
            ]
          },
          "metadata": {},
          "execution_count": 21
        }
      ]
    },
    {
      "cell_type": "code",
      "source": [],
      "metadata": {
        "id": "q7RJucn1a-Cm"
      },
      "execution_count": null,
      "outputs": []
    },
    {
      "cell_type": "code",
      "source": [
        "sarima = SARIMAX(df_federal.ValorBase, freq='MS', order=(1, 0, 0), seasonal_order=(1, 1, 1, 3)).fit()"
      ],
      "metadata": {
        "colab": {
          "base_uri": "https://localhost:8080/"
        },
        "id": "VIc6hSKSZA3Y",
        "outputId": "503f7387-2fdb-488f-dabf-4bdb246b6237"
      },
      "execution_count": null,
      "outputs": [
        {
          "output_type": "stream",
          "name": "stderr",
          "text": [
            "/usr/local/lib/python3.10/dist-packages/statsmodels/tsa/base/tsa_model.py:471: ValueWarning: No frequency information was provided, so inferred frequency MS will be used.\n",
            "  self._init_dates(dates, freq)\n"
          ]
        }
      ]
    },
    {
      "cell_type": "code",
      "source": [
        "print((sarima.resid ** 2).mean())"
      ],
      "metadata": {
        "colab": {
          "base_uri": "https://localhost:8080/"
        },
        "id": "ooGNysX5aATm",
        "outputId": "7bc613a7-2d78-4f95-c786-c24e71a6a921"
      },
      "execution_count": null,
      "outputs": [
        {
          "output_type": "stream",
          "name": "stdout",
          "text": [
            "1227515086354.3518\n"
          ]
        }
      ]
    },
    {
      "cell_type": "code",
      "source": [
        "plt.figure(figsize=(10, 6))\n",
        "plt.plot(df_federal.ValorBase)\n",
        "plt.plot(sarima.predict(typ='levels'))"
      ],
      "metadata": {
        "colab": {
          "base_uri": "https://localhost:8080/",
          "height": 551
        },
        "id": "0mp_6PEsbPEP",
        "outputId": "0df58e36-5f58-4812-926d-9b1052c4382a"
      },
      "execution_count": null,
      "outputs": [
        {
          "output_type": "execute_result",
          "data": {
            "text/plain": [
              "[<matplotlib.lines.Line2D at 0x7fe7fce2ffd0>]"
            ]
          },
          "metadata": {},
          "execution_count": 24
        },
        {
          "output_type": "display_data",
          "data": {
            "text/plain": [
              "<Figure size 1000x600 with 1 Axes>"
            ],
            "image/png": "[encoded data removed]"
          },
          "metadata": {}
        }
      ]
    },
    {
      "cell_type": "code",
      "source": [
        "sarima.forecast().round()"
      ],
      "metadata": {
        "colab": {
          "base_uri": "https://localhost:8080/"
        },
        "id": "HmGIvQhsLA2Q",
        "outputId": "a356b882-0876-4751-817f-faf16b183bba"
      },
      "execution_count": null,
      "outputs": [
        {
          "output_type": "execute_result",
          "data": {
            "text/plain": [
              "2023-07-01    2347241.0\n",
              "Freq: MS, dtype: float64"
            ]
          },
          "metadata": {},
          "execution_count": 27
        }
      ]
    },
    {
      "cell_type": "markdown",
      "source": [
        "# PREVISÕES COM ARIMA CONVENIO FEDERAL"
      ],
      "metadata": {
        "id": "oucPlgtYfOKe"
      }
    },
    {
      "cell_type": "code",
      "source": [
        "from statsmodels.tsa.arima.model import ARIMA\n",
        "\n",
        "arima = ARIMA(df_federal['ValorBase'], order=(2, 1, 2))\n",
        "arima_fit = arima.fit()"
      ],
      "metadata": {
        "colab": {
          "base_uri": "https://localhost:8080/"
        },
        "id": "PfjfCFMGeQGU",
        "outputId": "25646a31-9095-4a61-e6d6-36fd4a498bb0"
      },
      "execution_count": null,
      "outputs": [
        {
          "output_type": "stream",
          "name": "stderr",
          "text": [
            "/usr/local/lib/python3.10/dist-packages/statsmodels/tsa/base/tsa_model.py:471: ValueWarning: No frequency information was provided, so inferred frequency MS will be used.\n",
            "  self._init_dates(dates, freq)\n",
            "/usr/local/lib/python3.10/dist-packages/statsmodels/tsa/base/tsa_model.py:471: ValueWarning: No frequency information was provided, so inferred frequency MS will be used.\n",
            "  self._init_dates(dates, freq)\n",
            "/usr/local/lib/python3.10/dist-packages/statsmodels/tsa/base/tsa_model.py:471: ValueWarning: No frequency information was provided, so inferred frequency MS will be used.\n",
            "  self._init_dates(dates, freq)\n",
            "/usr/local/lib/python3.10/dist-packages/statsmodels/tsa/statespace/sarimax.py:978: UserWarning: Non-invertible starting MA parameters found. Using zeros as starting parameters.\n",
            "  warn('Non-invertible starting MA parameters found.'\n"
          ]
        }
      ]
    },
    {
      "cell_type": "code",
      "source": [
        "# Calcular o quadrado dos resíduos médios\n",
        "mse = (arima_fit.resid).mean()\n",
        "print(mse)"
      ],
      "metadata": {
        "colab": {
          "base_uri": "https://localhost:8080/"
        },
        "id": "0lzFGs6Ce0PU",
        "outputId": "dd79016c-751e-40df-acc3-c7f726923eb0"
      },
      "execution_count": null,
      "outputs": [
        {
          "output_type": "stream",
          "name": "stdout",
          "text": [
            "262844.6297165012\n"
          ]
        }
      ]
    },
    {
      "cell_type": "markdown",
      "source": [
        "**MEDIA MOVEL CALCULADA SOBRE AS ULTIMAS 10 OBSERVAÇÕES**"
      ],
      "metadata": {
        "id": "esstbFjqs1Dq"
      }
    },
    {
      "cell_type": "code",
      "source": [
        "df_federal['MediaMovel'] = df_federal['ValorBase'].rolling(window=10).mean()\n",
        "\n",
        "# Plotando o gráfico original e a média móvel\n",
        "plt.figure(figsize=(10, 6))\n",
        "plt.plot(df_federal['ValorBase'], label='ValorBase')\n",
        "plt.plot(df_federal['MediaMovel'], label='Média Móvel')\n",
        "plt.legend()\n",
        "\n",
        "# Exibindo o gráfico\n",
        "plt.show()"
      ],
      "metadata": {
        "colab": {
          "base_uri": "https://localhost:8080/",
          "height": 537
        },
        "id": "nfFi7wKusrUE",
        "outputId": "f344db9b-43b8-4aab-c7cb-28d0662d42be"
      },
      "execution_count": null,
      "outputs": [
        {
          "output_type": "display_data",
          "data": {
            "text/plain": [
              "<Figure size 1000x600 with 1 Axes>"
            ],
            "image/png": "[encoded data removed]"
          },
          "metadata": {}
        }
      ]
    },
    {
      "cell_type": "code",
      "source": [
        "import matplotlib.pyplot as plt\n",
        "\n",
        "plt.figure(figsize=(10, 6))\n",
        "plt.plot(df_federal.ValorBase)\n",
        "plt.plot(arima_fit.predict(typ='levels'))"
      ],
      "metadata": {
        "colab": {
          "base_uri": "https://localhost:8080/",
          "height": 551
        },
        "id": "Mwy5uYUKe8j5",
        "outputId": "c3b677e0-8899-444c-f620-fe04da337573"
      },
      "execution_count": null,
      "outputs": [
        {
          "output_type": "execute_result",
          "data": {
            "text/plain": [
              "[<matplotlib.lines.Line2D at 0x7fe7f8b00940>]"
            ]
          },
          "metadata": {},
          "execution_count": 27
        },
        {
          "output_type": "display_data",
          "data": {
            "text/plain": [
              "<Figure size 1000x600 with 1 Axes>"
            ],
            "image/png": "[encoded data removed]"
          },
          "metadata": {}
        }
      ]
    },
    {
      "cell_type": "code",
      "source": [
        "# RESULTADO ARIMA\n",
        "previsão = (arima_fit.forecast(steps=6).round())\n",
        "arima_fit.forecast(steps=6).round()"
      ],
      "metadata": {
        "colab": {
          "base_uri": "https://localhost:8080/"
        },
        "id": "896VWp_dLYv6",
        "outputId": "12475211-216b-4d23-f8d7-f084e24f5662"
      },
      "execution_count": null,
      "outputs": [
        {
          "output_type": "execute_result",
          "data": {
            "text/plain": [
              "2023-07-01    1752956.0\n",
              "2023-08-01    1832511.0\n",
              "2023-09-01    1996537.0\n",
              "2023-10-01    2048465.0\n",
              "2023-11-01    2097357.0\n",
              "2023-12-01    2119430.0\n",
              "Freq: MS, Name: predicted_mean, dtype: float64"
            ]
          },
          "metadata": {},
          "execution_count": 28
        }
      ]
    },
    {
      "cell_type": "code",
      "source": [
        "df_federal.tail(2)"
      ],
      "metadata": {
        "colab": {
          "base_uri": "https://localhost:8080/",
          "height": 143
        },
        "id": "nse5VCAaMSJs",
        "outputId": "6911a83e-969b-4bde-aaef-59c53940eb98"
      },
      "execution_count": null,
      "outputs": [
        {
          "output_type": "execute_result",
          "data": {
            "text/plain": [
              "             ValorBase  Selic  taxa_mensal_consignado\n",
              "Data                                                 \n",
              "2023-05-01  2302571.91  13.75                    1.85\n",
              "2023-06-01  1120362.96  13.75                    1.85"
            ],
            "text/html": [
              "\n",
              "  <div id=\"df-b1c8b455-0232-4565-9b10-3ccb49e38287\">\n",
              "    <div class=\"colab-df-container\">\n",
              "      <div>\n",
              "<style scoped>\n",
              "    .dataframe tbody tr th:only-of-type {\n",
              "        vertical-align: middle;\n",
              "    }\n",
              "\n",
              "    .dataframe tbody tr th {\n",
              "        vertical-align: top;\n",
              "    }\n",
              "\n",
              "    .dataframe thead th {\n",
              "        text-align: right;\n",
              "    }\n",
              "</style>\n",
              "<table border=\"1\" class=\"dataframe\">\n",
              "  <thead>\n",
              "    <tr style=\"text-align: right;\">\n",
              "      <th></th>\n",
              "      <th>ValorBase</th>\n",
              "      <th>Selic</th>\n",
              "      <th>taxa_mensal_consignado</th>\n",
              "    </tr>\n",
              "    <tr>\n",
              "      <th>Data</th>\n",
              "      <th></th>\n",
              "      <th></th>\n",
              "      <th></th>\n",
              "    </tr>\n",
              "  </thead>\n",
              "  <tbody>\n",
              "    <tr>\n",
              "      <th>2023-05-01</th>\n",
              "      <td>2302571.91</td>\n",
              "      <td>13.75</td>\n",
              "      <td>1.85</td>\n",
              "    </tr>\n",
              "    <tr>\n",
              "      <th>2023-06-01</th>\n",
              "      <td>1120362.96</td>\n",
              "      <td>13.75</td>\n",
              "      <td>1.85</td>\n",
              "    </tr>\n",
              "  </tbody>\n",
              "</table>\n",
              "</div>\n",
              "      <button class=\"colab-df-convert\" onclick=\"convertToInteractive('df-b1c8b455-0232-4565-9b10-3ccb49e38287')\"\n",
              "              title=\"Convert this dataframe to an interactive table.\"\n",
              "              style=\"display:none;\">\n",
              "        \n",
              "  <svg xmlns=\"http://www.w3.org/2000/svg\" height=\"24px\"viewBox=\"0 0 24 24\"\n",
              "       width=\"24px\">\n",
              "    <path d=\"M0 0h24v24H0V0z\" fill=\"none\"/>\n",
              "    <path d=\"M18.56 5.44l.94 2.06.94-2.06 2.06-.94-2.06-.94-.94-2.06-.94 2.06-2.06.94zm-11 1L8.5 8.5l.94-2.06 2.06-.94-2.06-.94L8.5 2.5l-.94 2.06-2.06.94zm10 10l.94 2.06.94-2.06 2.06-.94-2.06-.94-.94-2.06-.94 2.06-2.06.94z\"/><path d=\"M17.41 7.96l-1.37-1.37c-.4-.4-.92-.59-1.43-.59-.52 0-1.04.2-1.43.59L10.3 9.45l-7.72 7.72c-.78.78-.78 2.05 0 2.83L4 21.41c.39.39.9.59 1.41.59.51 0 1.02-.2 1.41-.59l7.78-7.78 2.81-2.81c.8-.78.8-2.07 0-2.86zM5.41 20L4 18.59l7.72-7.72 1.47 1.35L5.41 20z\"/>\n",
              "  </svg>\n",
              "      </button>\n",
              "      \n",
              "  <style>\n",
              "    .colab-df-container {\n",
              "      display:flex;\n",
              "      flex-wrap:wrap;\n",
              "      gap: 12px;\n",
              "    }\n",
              "\n",
              "    .colab-df-convert {\n",
              "      background-color: #E8F0FE;\n",
              "      border: none;\n",
              "      border-radius: 50%;\n",
              "      cursor: pointer;\n",
              "      display: none;\n",
              "      fill: #1967D2;\n",
              "      height: 32px;\n",
              "      padding: 0 0 0 0;\n",
              "      width: 32px;\n",
              "    }\n",
              "\n",
              "    .colab-df-convert:hover {\n",
              "      background-color: #E2EBFA;\n",
              "      box-shadow: 0px 1px 2px rgba(60, 64, 67, 0.3), 0px 1px 3px 1px rgba(60, 64, 67, 0.15);\n",
              "      fill: #174EA6;\n",
              "    }\n",
              "\n",
              "    [theme=dark] .colab-df-convert {\n",
              "      background-color: #3B4455;\n",
              "      fill: #D2E3FC;\n",
              "    }\n",
              "\n",
              "    [theme=dark] .colab-df-convert:hover {\n",
              "      background-color: #434B5C;\n",
              "      box-shadow: 0px 1px 3px 1px rgba(0, 0, 0, 0.15);\n",
              "      filter: drop-shadow(0px 1px 2px rgba(0, 0, 0, 0.3));\n",
              "      fill: #FFFFFF;\n",
              "    }\n",
              "  </style>\n",
              "\n",
              "      <script>\n",
              "        const buttonEl =\n",
              "          document.querySelector('#df-b1c8b455-0232-4565-9b10-3ccb49e38287 button.colab-df-convert');\n",
              "        buttonEl.style.display =\n",
              "          google.colab.kernel.accessAllowed ? 'block' : 'none';\n",
              "\n",
              "        async function convertToInteractive(key) {\n",
              "          const element = document.querySelector('#df-b1c8b455-0232-4565-9b10-3ccb49e38287');\n",
              "          const dataTable =\n",
              "            await google.colab.kernel.invokeFunction('convertToInteractive',\n",
              "                                                     [key], {});\n",
              "          if (!dataTable) return;\n",
              "\n",
              "          const docLinkHtml = 'Like what you see? Visit the ' +\n",
              "            '<a target=\"_blank\" href=https://colab.research.google.com/notebooks/data_table.ipynb>data table notebook</a>'\n",
              "            + ' to learn more about interactive tables.';\n",
              "          element.innerHTML = '';\n",
              "          dataTable['output_type'] = 'display_data';\n",
              "          await google.colab.output.renderOutput(dataTable, element);\n",
              "          const docLink = document.createElement('div');\n",
              "          docLink.innerHTML = docLinkHtml;\n",
              "          element.appendChild(docLink);\n",
              "        }\n",
              "      </script>\n",
              "    </div>\n",
              "  </div>\n",
              "  "
            ]
          },
          "metadata": {},
          "execution_count": 29
        }
      ]
    },
    {
      "cell_type": "code",
      "source": [
        "plt.figure(figsize=(8, 5))\n",
        "plt.plot(df_federal.ValorBase)\n",
        "plt.plot(previsão, color='red', linestyle='--', label='Previsão')"
      ],
      "metadata": {
        "colab": {
          "base_uri": "https://localhost:8080/",
          "height": 474
        },
        "id": "1VZDntmhetm4",
        "outputId": "f2d72f58-3dfb-4ed4-b6bc-47005658aa4b"
      },
      "execution_count": null,
      "outputs": [
        {
          "output_type": "execute_result",
          "data": {
            "text/plain": [
              "[<matplotlib.lines.Line2D at 0x7f7adb9fbf10>]"
            ]
          },
          "metadata": {},
          "execution_count": 16
        },
        {
          "output_type": "display_data",
          "data": {
            "text/plain": [
              "<Figure size 800x500 with 1 Axes>"
            ],
            "image/png": "[encoded data removed]"
          },
          "metadata": {}
        }
      ]
    },
    {
      "cell_type": "markdown",
      "source": [
        "# PREVISÕES COM PYCARET CONVENIO FEDERAL\n",
        "# Aplicando modelos com variáveis exógenas"
      ],
      "metadata": {
        "id": "9KkzKm9kDK6T"
      }
    },
    {
      "cell_type": "code",
      "source": [
        "!pip install pycaret"
      ],
      "metadata": {
        "id": "3dhozcxHetpQ"
      },
      "execution_count": null,
      "outputs": []
    },
    {
      "cell_type": "code",
      "source": [
        "from pycaret.time_series import *"
      ],
      "metadata": {
        "id": "pakPH7ygeoMh"
      },
      "execution_count": null,
      "outputs": []
    },
    {
      "cell_type": "code",
      "source": [
        "plot_model(plot='diagnostics')"
      ],
      "metadata": {
        "colab": {
          "base_uri": "https://localhost:8080/",
          "height": 542
        },
        "id": "IpYqPsxBF4Yf",
        "outputId": "496ca86f-6be3-4dc9-8f63-102f675b6b6d"
      },
      "execution_count": null,
      "outputs": [
        {
          "output_type": "display_data",
          "data": {
            "text/html": [
              "<html>\n",
              "<head><meta charset=\"utf-8\" /></head>\n",
              "<body>\n",
              "    <div>            <script src=\"https://cdnjs.cloudflare.com/ajax/libs/mathjax/2.7.5/MathJax.js?config=TeX-AMS-MML_SVG\"></script><script type=\"text/javascript\">if (window.MathJax && window.MathJax.Hub && window.MathJax.Hub.Config) {window.MathJax.Hub.Config({SVG: {font: \"STIX-Web\"}});}</script>                <script type=\"text/javascript\">window.PlotlyConfig = {MathJaxConfig: 'local'};</script>\n",
              "        <script src=\"https://cdn.plot.ly/plotly-2.18.2.min.js\"></script>                <div id=\"5d9a7a81-dbd7-4fcb-b667-78f4672760e5\" class=\"plotly-graph-div\" style=\"height:525px; width:100%;\"></div>            <script type=\"text/javascript\">                                    window.PLOTLYENV=window.PLOTLYENV || {};                                    if (document.getElementById(\"5d9a7a81-dbd7-4fcb-b667-78f4672760e5\")) {                    Plotly.newPlot(                        \"5d9a7a81-dbd7-4fcb-b667-78f4672760e5\",                        [{\"line\":{\"color\":\"rgb(31, 119, 180)\",\"width\":2},\"marker\":{\"color\":\"rgb(31, 119, 180)\",\"size\":5},\"mode\":\"lines+markers\",\"name\":\"ValorBase (transformed)\",\"x\":[0,1,2,3,4,5,6,7,8,9,10,11,12,13,14,15,16,17,18,19,20,21,22,23,24,25,26,27,28,29,30],\"y\":[4000.0,729109.0,888892.0,1791860.0,2419661.0,1936979.0,1812086.0,2097503.0,2099390.0,3873074.0,2699817.0,2272082.0,2000590.0,1924705.0,1900533.0,1536550.0,1182386.0,1542140.79,1540693.94,1549765.0,3528339.07,2249207.62,1881120.08,1780248.12,1767086.32,5957857.69,3189824.42,3180449.09,2544175.32,2302571.91,1120362.96],\"type\":\"scattergl\",\"xaxis\":\"x\",\"yaxis\":\"y\",\"showlegend\":false},{\"hoverinfo\":\"text\",\"hovertext\":[\"Freq: 0.0323<br>Ampl: 121.3792<br>Time period: 31.0\",\"Freq: 0.0645<br>Ampl: 125.6033<br>Time period: 15.5\",\"Freq: 0.0968<br>Ampl: 122.8555<br>Time period: 10.3333\",\"Freq: 0.129<br>Ampl: 118.4255<br>Time period: 7.75\",\"Freq: 0.1613<br>Ampl: 118.9342<br>Time period: 6.2\",\"Freq: 0.1935<br>Ampl: 121.8028<br>Time period: 5.1667\",\"Freq: 0.2258<br>Ampl: 105.8053<br>Time period: 4.4286\",\"Freq: 0.2581<br>Ampl: 118.4524<br>Time period: 3.875\",\"Freq: 0.2903<br>Ampl: 114.1314<br>Time period: 3.4444\",\"Freq: 0.3226<br>Ampl: 109.0585<br>Time period: 3.1\",\"Freq: 0.3548<br>Ampl: 119.1082<br>Time period: 2.8182\",\"Freq: 0.3871<br>Ampl: 119.5043<br>Time period: 2.5833\",\"Freq: 0.4194<br>Ampl: 114.1473<br>Time period: 2.3846\",\"Freq: 0.4516<br>Ampl: 117.0745<br>Time period: 2.2143\",\"Freq: 0.4839<br>Ampl: 104.0284<br>Time period: 2.0667\"],\"line\":{\"color\":\"#1f77b4\",\"width\":2},\"marker\":{\"size\":5},\"mode\":\"lines+markers\",\"name\":\"ValorBase (transformed)\",\"showlegend\":false,\"x\":[0.03225806451612903,0.06451612903225806,0.0967741935483871,0.12903225806451613,0.16129032258064516,0.1935483870967742,0.22580645161290322,0.25806451612903225,0.29032258064516125,0.3225806451612903,0.3548387096774194,0.3870967741935484,0.4193548387096774,0.45161290322580644,0.4838709677419355],\"y\":[121.37921264771202,125.60331002489592,122.85552920839325,118.42553805643001,118.93419716667866,121.80278395908842,105.80531713267185,118.45236066126955,114.13142091635171,109.0584741667337,119.10817908109082,119.50430788379603,114.147258650652,117.07446048904916,104.02835560395891],\"type\":\"scattergl\",\"xaxis\":\"x2\",\"yaxis\":\"y2\"},{\"alignmentgroup\":\"True\",\"bingroup\":\"x\",\"hovertemplate\":\"variable=ValorBase (transformed)<br>value=%{x}<br>count=%{y}<extra></extra>\",\"legendgroup\":\"ValorBase (transformed)\",\"marker\":{\"color\":\"#1f77b4\",\"pattern\":{\"shape\":\"\"}},\"name\":\"ValorBase (transformed)\",\"offsetgroup\":\"ValorBase (transformed)\",\"orientation\":\"v\",\"showlegend\":false,\"x\":[4000.0,729109.0,888892.0,1791860.0,2419661.0,1936979.0,1812086.0,2097503.0,2099390.0,3873074.0,2699817.0,2272082.0,2000590.0,1924705.0,1900533.0,1536550.0,1182386.0,1542140.79,1540693.94,1549765.0,3528339.07,2249207.62,1881120.08,1780248.12,1767086.32,5957857.69,3189824.42,3180449.09,2544175.32,2302571.91,1120362.96],\"xaxis\":\"x3\",\"yaxis\":\"y3\",\"type\":\"histogram\"},{\"marker\":{\"color\":\"#1f77b4\"},\"mode\":\"markers\",\"name\":\"ValorBase (transformed)\",\"x\":[-1.8627318674216515,-1.5341205443525463,-1.318010897303537,-1.1503493803760079,-1.009990169249582,-0.887146559018876,-0.7764217611479277,-0.6744897501960817,-0.579132162255556,-0.4887764111146695,-0.40225006532172536,-0.31863936396437514,-0.23720210932878769,-0.1573106846101707,-0.0784124127331122,0.0,0.0784124127331122,0.1573106846101707,0.23720210932878769,0.31863936396437514,0.40225006532172536,0.4887764111146695,0.579132162255556,0.6744897501960817,0.7764217611479277,0.887146559018876,1.009990169249582,1.1503493803760079,1.318010897303537,1.5341205443525463,1.8627318674216515],\"y\":[4000.0,729109.0,888892.0,1120362.96,1182386.0,1536550.0,1540693.94,1542140.79,1549765.0,1767086.32,1780248.12,1791860.0,1812086.0,1881120.08,1900533.0,1924705.0,1936979.0,2000590.0,2097503.0,2099390.0,2249207.62,2272082.0,2302571.91,2419661.0,2544175.32,2699817.0,3180449.09,3189824.42,3528339.07,3873074.0,5957857.69],\"type\":\"scattergl\",\"xaxis\":\"x4\",\"yaxis\":\"y4\",\"showlegend\":false},{\"line\":{\"color\":\"#3f3f3f\"},\"mode\":\"lines\",\"name\":\"ValorBase (transformed)\",\"x\":[-1.8627318674216515,-1.5341205443525463,-1.318010897303537,-1.1503493803760079,-1.009990169249582,-0.887146559018876,-0.7764217611479277,-0.6744897501960817,-0.579132162255556,-0.4887764111146695,-0.40225006532172536,-0.31863936396437514,-0.23720210932878769,-0.1573106846101707,-0.0784124127331122,0.0,0.0784124127331122,0.1573106846101707,0.23720210932878769,0.31863936396437514,0.40225006532172536,0.4887764111146695,0.579132162255556,0.6744897501960817,0.7764217611479277,0.887146559018876,1.009990169249582,1.1503493803760079,1.318010897303537,1.5341205443525463,1.8627318674216515],\"y\":[141360.3846716727,488046.7058596993,716043.2879887582,892926.8900677576,1041006.4452571599,1170606.9681928328,1287422.0933676106,1394960.7915419326,1495563.445923116,1590889.1415462922,1682174.798500026,1770384.4383712448,1856301.0828543904,1940586.8703053081,2023824.8773516994,2106550.3009677418,2189275.724583784,2272513.7316301754,2356799.5190810934,2442716.1635642387,2530925.8034354574,2622211.4603891913,2717537.1560123675,2818139.810393551,2925678.508567873,3042493.633742651,3172094.1566783236,3320173.711867726,3497057.3139467253,3725053.896075784,4071740.217263811],\"type\":\"scattergl\",\"xaxis\":\"x4\",\"yaxis\":\"y4\",\"showlegend\":false},{\"line\":{\"color\":\"#3f3f3f\"},\"mode\":\"lines\",\"name\":\"ACF\",\"x\":[0,0],\"y\":[0,1.0],\"type\":\"scattergl\",\"xaxis\":\"x5\",\"yaxis\":\"y5\",\"showlegend\":false},{\"line\":{\"color\":\"#3f3f3f\"},\"mode\":\"lines\",\"name\":\"ACF\",\"x\":[1,1],\"y\":[0,0.34153651991125145],\"type\":\"scattergl\",\"xaxis\":\"x5\",\"yaxis\":\"y5\",\"showlegend\":false},{\"line\":{\"color\":\"#3f3f3f\"},\"mode\":\"lines\",\"name\":\"ACF\",\"x\":[2,2],\"y\":[0,0.16871061115195563],\"type\":\"scattergl\",\"xaxis\":\"x5\",\"yaxis\":\"y5\",\"showlegend\":false},{\"line\":{\"color\":\"#3f3f3f\"},\"mode\":\"lines\",\"name\":\"ACF\",\"x\":[3,3],\"y\":[0,-0.033727531683283914],\"type\":\"scattergl\",\"xaxis\":\"x5\",\"yaxis\":\"y5\",\"showlegend\":false},{\"line\":{\"color\":\"#3f3f3f\"},\"mode\":\"lines\",\"name\":\"ACF\",\"x\":[4,4],\"y\":[0,-0.07300321140495576],\"type\":\"scattergl\",\"xaxis\":\"x5\",\"yaxis\":\"y5\",\"showlegend\":false},{\"line\":{\"color\":\"#3f3f3f\"},\"mode\":\"lines\",\"name\":\"ACF\",\"x\":[5,5],\"y\":[0,0.04472362691456457],\"type\":\"scattergl\",\"xaxis\":\"x5\",\"yaxis\":\"y5\",\"showlegend\":false},{\"line\":{\"color\":\"#3f3f3f\"},\"mode\":\"lines\",\"name\":\"ACF\",\"x\":[6,6],\"y\":[0,-0.03708113017705219],\"type\":\"scattergl\",\"xaxis\":\"x5\",\"yaxis\":\"y5\",\"showlegend\":false},{\"line\":{\"color\":\"#3f3f3f\"},\"mode\":\"lines\",\"name\":\"ACF\",\"x\":[7,7],\"y\":[0,-0.13805472542813627],\"type\":\"scattergl\",\"xaxis\":\"x5\",\"yaxis\":\"y5\",\"showlegend\":false},{\"line\":{\"color\":\"#3f3f3f\"},\"mode\":\"lines\",\"name\":\"ACF\",\"x\":[8,8],\"y\":[0,-0.1938932355984776],\"type\":\"scattergl\",\"xaxis\":\"x5\",\"yaxis\":\"y5\",\"showlegend\":false},{\"line\":{\"color\":\"#3f3f3f\"},\"mode\":\"lines\",\"name\":\"ACF\",\"x\":[9,9],\"y\":[0,-0.29658296840960235],\"type\":\"scattergl\",\"xaxis\":\"x5\",\"yaxis\":\"y5\",\"showlegend\":false},{\"line\":{\"color\":\"#3f3f3f\"},\"mode\":\"lines\",\"name\":\"ACF\",\"x\":[10,10],\"y\":[0,-0.18839553611320137],\"type\":\"scattergl\",\"xaxis\":\"x5\",\"yaxis\":\"y5\",\"showlegend\":false},{\"line\":{\"color\":\"#3f3f3f\"},\"mode\":\"lines\",\"name\":\"ACF\",\"x\":[11,11],\"y\":[0,0.019730310690146562],\"type\":\"scattergl\",\"xaxis\":\"x5\",\"yaxis\":\"y5\",\"showlegend\":false},{\"line\":{\"color\":\"#3f3f3f\"},\"mode\":\"lines\",\"name\":\"ACF\",\"x\":[12,12],\"y\":[0,-0.015103274705340172],\"type\":\"scattergl\",\"xaxis\":\"x5\",\"yaxis\":\"y5\",\"showlegend\":false},{\"line\":{\"color\":\"#3f3f3f\"},\"mode\":\"lines\",\"name\":\"ACF\",\"x\":[13,13],\"y\":[0,0.010781251106513887],\"type\":\"scattergl\",\"xaxis\":\"x5\",\"yaxis\":\"y5\",\"showlegend\":false},{\"line\":{\"color\":\"#3f3f3f\"},\"mode\":\"lines\",\"name\":\"ACF\",\"x\":[14,14],\"y\":[0,0.06605810217767132],\"type\":\"scattergl\",\"xaxis\":\"x5\",\"yaxis\":\"y5\",\"showlegend\":false},{\"line\":{\"color\":\"#3f3f3f\"},\"mode\":\"lines\",\"name\":\"ACF\",\"x\":[15,15],\"y\":[0,0.1471297562744547],\"type\":\"scattergl\",\"xaxis\":\"x5\",\"yaxis\":\"y5\",\"showlegend\":false},{\"line\":{\"color\":\"#3f3f3f\"},\"mode\":\"lines\",\"name\":\"ACF\",\"x\":[16,16],\"y\":[0,0.3426422204250594],\"type\":\"scattergl\",\"xaxis\":\"x5\",\"yaxis\":\"y5\",\"showlegend\":false},{\"line\":{\"color\":\"#3f3f3f\"},\"mode\":\"lines\",\"name\":\"ACF\",\"x\":[17,17],\"y\":[0,0.1487622269770268],\"type\":\"scattergl\",\"xaxis\":\"x5\",\"yaxis\":\"y5\",\"showlegend\":false},{\"line\":{\"color\":\"#3f3f3f\"},\"mode\":\"lines\",\"name\":\"ACF\",\"x\":[18,18],\"y\":[0,0.07292714184208726],\"type\":\"scattergl\",\"xaxis\":\"x5\",\"yaxis\":\"y5\",\"showlegend\":false},{\"line\":{\"color\":\"#3f3f3f\"},\"mode\":\"lines\",\"name\":\"ACF\",\"x\":[19,19],\"y\":[0,-0.039432296425836774],\"type\":\"scattergl\",\"xaxis\":\"x5\",\"yaxis\":\"y5\",\"showlegend\":false},{\"line\":{\"color\":\"#3f3f3f\"},\"mode\":\"lines\",\"name\":\"ACF\",\"x\":[20,20],\"y\":[0,-0.1199480870269188],\"type\":\"scattergl\",\"xaxis\":\"x5\",\"yaxis\":\"y5\",\"showlegend\":false},{\"line\":{\"color\":\"#3f3f3f\"},\"mode\":\"lines\",\"name\":\"ACF\",\"x\":[21,21],\"y\":[0,-0.015267611978350295],\"type\":\"scattergl\",\"xaxis\":\"x5\",\"yaxis\":\"y5\",\"showlegend\":false},{\"line\":{\"color\":\"#3f3f3f\"},\"mode\":\"lines\",\"name\":\"ACF\",\"x\":[22,22],\"y\":[0,0.004588673690812156],\"type\":\"scattergl\",\"xaxis\":\"x5\",\"yaxis\":\"y5\",\"showlegend\":false},{\"line\":{\"color\":\"#3f3f3f\"},\"mode\":\"lines\",\"name\":\"ACF\",\"x\":[23,23],\"y\":[0,-0.106178040576824],\"type\":\"scattergl\",\"xaxis\":\"x5\",\"yaxis\":\"y5\",\"showlegend\":false},{\"line\":{\"color\":\"#3f3f3f\"},\"mode\":\"lines\",\"name\":\"ACF\",\"x\":[24,24],\"y\":[0,-0.16966213615033315],\"type\":\"scattergl\",\"xaxis\":\"x5\",\"yaxis\":\"y5\",\"showlegend\":false},{\"line\":{\"color\":\"#3f3f3f\"},\"mode\":\"lines\",\"name\":\"ACF\",\"x\":[25,25],\"y\":[0,-0.3131941612464498],\"type\":\"scattergl\",\"xaxis\":\"x5\",\"yaxis\":\"y5\",\"showlegend\":false},{\"line\":{\"color\":\"#3f3f3f\"},\"mode\":\"lines\",\"name\":\"ACF\",\"x\":[26,26],\"y\":[0,-0.13506300509786512],\"type\":\"scattergl\",\"xaxis\":\"x5\",\"yaxis\":\"y5\",\"showlegend\":false},{\"line\":{\"color\":\"#3f3f3f\"},\"mode\":\"lines\",\"name\":\"ACF\",\"x\":[27,27],\"y\":[0,-0.08083320206895765],\"type\":\"scattergl\",\"xaxis\":\"x5\",\"yaxis\":\"y5\",\"showlegend\":false},{\"line\":{\"color\":\"#3f3f3f\"},\"mode\":\"lines\",\"name\":\"ACF\",\"x\":[28,28],\"y\":[0,0.00031017595852363545],\"type\":\"scattergl\",\"xaxis\":\"x5\",\"yaxis\":\"y5\",\"showlegend\":false},{\"line\":{\"color\":\"#3f3f3f\"},\"mode\":\"lines\",\"name\":\"ACF\",\"x\":[29,29],\"y\":[0,0.027424894027825424],\"type\":\"scattergl\",\"xaxis\":\"x5\",\"yaxis\":\"y5\",\"showlegend\":false},{\"line\":{\"color\":\"#3f3f3f\"},\"mode\":\"lines\",\"name\":\"ACF\",\"x\":[30,30],\"y\":[0,0.06009464294369227],\"type\":\"scattergl\",\"xaxis\":\"x5\",\"yaxis\":\"y5\",\"showlegend\":false},{\"marker\":{\"color\":\"#1f77b4\",\"size\":6},\"mode\":\"markers\",\"name\":\"ACF\",\"x\":[0,1,2,3,4,5,6,7,8,9,10,11,12,13,14,15,16,17,18,19,20,21,22,23,24,25,26,27,28,29,30],\"y\":[1.0,0.34153651991125145,0.16871061115195563,-0.033727531683283914,-0.07300321140495576,0.04472362691456457,-0.03708113017705219,-0.13805472542813627,-0.1938932355984776,-0.29658296840960235,-0.18839553611320137,0.019730310690146562,-0.015103274705340172,0.010781251106513887,0.06605810217767132,0.1471297562744547,0.3426422204250594,0.1487622269770268,0.07292714184208726,-0.039432296425836774,-0.1199480870269188,-0.015267611978350295,0.004588673690812156,-0.106178040576824,-0.16966213615033315,-0.3131941612464498,-0.13506300509786512,-0.08083320206895765,0.00031017595852363545,0.027424894027825424,0.06009464294369227],\"type\":\"scattergl\",\"xaxis\":\"x5\",\"yaxis\":\"y5\",\"showlegend\":false},{\"line\":{\"color\":\"rgba(255,255,255,0)\"},\"mode\":\"lines\",\"name\":\"UC\",\"x\":[0,1,2,3,4,5,6,7,8,9,10,11,12,13,14,15,16,17,18,19,20,21,22,23,24,25,26,27,28,29,30],\"y\":[0.0,0.3520199234049176,0.3909314603990828,0.39985201174770574,0.4002043931628994,0.4018512048473689,0.40246753062255636,0.4028906679360029,0.40871068522160126,0.4199544239816058,0.4451536123334226,0.45492653623586976,0.4550325617679183,0.4550946779299711,0.4551263266356294,0.45631288460402053,0.46215408321436363,0.49262893141253794,0.49816455667482107,0.4994857444057264,0.49987135408086597,0.5034253893512667,0.5034827635792014,0.5034879458725905,0.5062550344038006,0.513252550148335,0.5364126798150435,0.5406103884939156,0.5421060362535142,0.5421060582456041,0.542277956431409],\"type\":\"scatter\",\"xaxis\":\"x5\",\"yaxis\":\"y5\",\"showlegend\":false},{\"fill\":\"tonexty\",\"fillcolor\":\"rgba(32, 146, 230,0.3)\",\"line\":{\"color\":\"rgba(255,255,255,0)\"},\"mode\":\"lines\",\"name\":\"LC\",\"x\":[0,1,2,3,4,5,6,7,8,9,10,11,12,13,14,15,16,17,18,19,20,21,22,23,24,25,26,27,28,29,30],\"y\":[0.0,-0.3520199234049176,-0.3909314603990827,-0.39985201174770574,-0.4002043931628994,-0.4018512048473689,-0.40246753062255636,-0.40289066793600303,-0.40871068522160126,-0.4199544239816058,-0.44515361233342265,-0.45492653623586976,-0.4550325617679183,-0.4550946779299711,-0.4551263266356294,-0.4563128846040204,-0.46215408321436363,-0.49262893141253794,-0.49816455667482107,-0.49948574440572635,-0.49987135408086597,-0.5034253893512667,-0.5034827635792014,-0.5034879458725905,-0.5062550344038006,-0.5132525501483352,-0.5364126798150435,-0.5406103884939156,-0.5421060362535142,-0.5421060582456041,-0.542277956431409],\"type\":\"scatter\",\"xaxis\":\"x5\",\"yaxis\":\"y5\",\"showlegend\":false},{\"line\":{\"color\":\"#3f3f3f\"},\"mode\":\"lines\",\"name\":\"PACF\",\"x\":[0,0],\"y\":[0,1.0],\"type\":\"scattergl\",\"xaxis\":\"x6\",\"yaxis\":\"y6\",\"showlegend\":false},{\"line\":{\"color\":\"#3f3f3f\"},\"mode\":\"lines\",\"name\":\"PACF\",\"x\":[1,1],\"y\":[0,0.35292107057495975],\"type\":\"scattergl\",\"xaxis\":\"x6\",\"yaxis\":\"y6\",\"showlegend\":false},{\"line\":{\"color\":\"#3f3f3f\"},\"mode\":\"lines\",\"name\":\"PACF\",\"x\":[2,2],\"y\":[0,0.06373037046663334],\"type\":\"scattergl\",\"xaxis\":\"x6\",\"yaxis\":\"y6\",\"showlegend\":false},{\"line\":{\"color\":\"#3f3f3f\"},\"mode\":\"lines\",\"name\":\"PACF\",\"x\":[3,3],\"y\":[0,-0.13697184904821857],\"type\":\"scattergl\",\"xaxis\":\"x6\",\"yaxis\":\"y6\",\"showlegend\":false},{\"line\":{\"color\":\"#3f3f3f\"},\"mode\":\"lines\",\"name\":\"PACF\",\"x\":[4,4],\"y\":[0,-0.04964101052139092],\"type\":\"scattergl\",\"xaxis\":\"x6\",\"yaxis\":\"y6\",\"showlegend\":false},{\"line\":{\"color\":\"#3f3f3f\"},\"mode\":\"lines\",\"name\":\"PACF\",\"x\":[5,5],\"y\":[0,0.1460460326020207],\"type\":\"scattergl\",\"xaxis\":\"x6\",\"yaxis\":\"y6\",\"showlegend\":false},{\"line\":{\"color\":\"#3f3f3f\"},\"mode\":\"lines\",\"name\":\"PACF\",\"x\":[6,6],\"y\":[0,-0.11012243305371312],\"type\":\"scattergl\",\"xaxis\":\"x6\",\"yaxis\":\"y6\",\"showlegend\":false},{\"line\":{\"color\":\"#3f3f3f\"},\"mode\":\"lines\",\"name\":\"PACF\",\"x\":[7,7],\"y\":[0,-0.2163401513678052],\"type\":\"scattergl\",\"xaxis\":\"x6\",\"yaxis\":\"y6\",\"showlegend\":false},{\"line\":{\"color\":\"#3f3f3f\"},\"mode\":\"lines\",\"name\":\"PACF\",\"x\":[8,8],\"y\":[0,-0.1338873984505172],\"type\":\"scattergl\",\"xaxis\":\"x6\",\"yaxis\":\"y6\",\"showlegend\":false},{\"line\":{\"color\":\"#3f3f3f\"},\"mode\":\"lines\",\"name\":\"PACF\",\"x\":[9,9],\"y\":[0,-0.28077560055035716],\"type\":\"scattergl\",\"xaxis\":\"x6\",\"yaxis\":\"y6\",\"showlegend\":false},{\"line\":{\"color\":\"#3f3f3f\"},\"mode\":\"lines\",\"name\":\"PACF\",\"x\":[10,10],\"y\":[0,-0.10923218041147614],\"type\":\"scattergl\",\"xaxis\":\"x6\",\"yaxis\":\"y6\",\"showlegend\":false},{\"line\":{\"color\":\"#3f3f3f\"},\"mode\":\"lines\",\"name\":\"PACF\",\"x\":[11,11],\"y\":[0,0.232364071216066],\"type\":\"scattergl\",\"xaxis\":\"x6\",\"yaxis\":\"y6\",\"showlegend\":false},{\"line\":{\"color\":\"#3f3f3f\"},\"mode\":\"lines\",\"name\":\"PACF\",\"x\":[12,12],\"y\":[0,-0.13953213692713076],\"type\":\"scattergl\",\"xaxis\":\"x6\",\"yaxis\":\"y6\",\"showlegend\":false},{\"line\":{\"color\":\"#3f3f3f\"},\"mode\":\"lines\",\"name\":\"PACF\",\"x\":[13,13],\"y\":[0,-0.09773568721066009],\"type\":\"scattergl\",\"xaxis\":\"x6\",\"yaxis\":\"y6\",\"showlegend\":false},{\"line\":{\"color\":\"#3f3f3f\"},\"mode\":\"lines\",\"name\":\"PACF\",\"x\":[14,14],\"y\":[0,0.2901605013081371],\"type\":\"scattergl\",\"xaxis\":\"x6\",\"yaxis\":\"y6\",\"showlegend\":false},{\"marker\":{\"color\":\"#1f77b4\",\"size\":6},\"mode\":\"markers\",\"name\":\"PACF\",\"x\":[0,1,2,3,4,5,6,7,8,9,10,11,12,13,14],\"y\":[1.0,0.35292107057495975,0.06373037046663334,-0.13697184904821857,-0.04964101052139092,0.1460460326020207,-0.11012243305371312,-0.2163401513678052,-0.1338873984505172,-0.28077560055035716,-0.10923218041147614,0.232364071216066,-0.13953213692713076,-0.09773568721066009,0.2901605013081371],\"type\":\"scattergl\",\"xaxis\":\"x6\",\"yaxis\":\"y6\",\"showlegend\":false},{\"line\":{\"color\":\"rgba(255,255,255,0)\"},\"mode\":\"lines\",\"name\":\"UC\",\"x\":[0,1,2,3,4,5,6,7,8,9,10,11,12,13,14],\"y\":[0.0,0.35201992340491767,0.3520199234049176,0.3520199234049176,0.3520199234049176,0.3520199234049176,0.3520199234049176,0.3520199234049176,0.3520199234049176,0.3520199234049176,0.3520199234049176,0.35201992340491767,0.3520199234049176,0.3520199234049176,0.3520199234049176],\"type\":\"scatter\",\"xaxis\":\"x6\",\"yaxis\":\"y6\",\"showlegend\":false},{\"fill\":\"tonexty\",\"fillcolor\":\"rgba(32, 146, 230,0.3)\",\"line\":{\"color\":\"rgba(255,255,255,0)\"},\"mode\":\"lines\",\"name\":\"LC\",\"x\":[0,1,2,3,4,5,6,7,8,9,10,11,12,13,14],\"y\":[0.0,-0.3520199234049176,-0.3520199234049176,-0.3520199234049176,-0.3520199234049176,-0.3520199234049176,-0.3520199234049176,-0.35201992340491767,-0.3520199234049176,-0.35201992340491756,-0.3520199234049176,-0.3520199234049176,-0.3520199234049176,-0.3520199234049176,-0.3520199234049176],\"type\":\"scatter\",\"xaxis\":\"x6\",\"yaxis\":\"y6\",\"showlegend\":false}],                        {\"template\":{\"data\":{\"barpolar\":[{\"marker\":{\"line\":{\"color\":\"rgb(237,237,237)\",\"width\":0.5},\"pattern\":{\"fillmode\":\"overlay\",\"size\":10,\"solidity\":0.2}},\"type\":\"barpolar\"}],\"bar\":[{\"error_x\":{\"color\":\"rgb(51,51,51)\"},\"error_y\":{\"color\":\"rgb(51,51,51)\"},\"marker\":{\"line\":{\"color\":\"rgb(237,237,237)\",\"width\":0.5},\"pattern\":{\"fillmode\":\"overlay\",\"size\":10,\"solidity\":0.2}},\"type\":\"bar\"}],\"carpet\":[{\"aaxis\":{\"endlinecolor\":\"rgb(51,51,51)\",\"gridcolor\":\"white\",\"linecolor\":\"white\",\"minorgridcolor\":\"white\",\"startlinecolor\":\"rgb(51,51,51)\"},\"baxis\":{\"endlinecolor\":\"rgb(51,51,51)\",\"gridcolor\":\"white\",\"linecolor\":\"white\",\"minorgridcolor\":\"white\",\"startlinecolor\":\"rgb(51,51,51)\"},\"type\":\"carpet\"}],\"choropleth\":[{\"colorbar\":{\"outlinewidth\":0,\"tickcolor\":\"rgb(237,237,237)\",\"ticklen\":6,\"ticks\":\"inside\"},\"type\":\"choropleth\"}],\"contourcarpet\":[{\"colorbar\":{\"outlinewidth\":0,\"tickcolor\":\"rgb(237,237,237)\",\"ticklen\":6,\"ticks\":\"inside\"},\"type\":\"contourcarpet\"}],\"contour\":[{\"colorbar\":{\"outlinewidth\":0,\"tickcolor\":\"rgb(237,237,237)\",\"ticklen\":6,\"ticks\":\"inside\"},\"colorscale\":[[0,\"rgb(20,44,66)\"],[1,\"rgb(90,179,244)\"]],\"type\":\"contour\"}],\"heatmapgl\":[{\"colorbar\":{\"outlinewidth\":0,\"tickcolor\":\"rgb(237,237,237)\",\"ticklen\":6,\"ticks\":\"inside\"},\"colorscale\":[[0,\"rgb(20,44,66)\"],[1,\"rgb(90,179,244)\"]],\"type\":\"heatmapgl\"}],\"heatmap\":[{\"colorbar\":{\"outlinewidth\":0,\"tickcolor\":\"rgb(237,237,237)\",\"ticklen\":6,\"ticks\":\"inside\"},\"colorscale\":[[0,\"rgb(20,44,66)\"],[1,\"rgb(90,179,244)\"]],\"type\":\"heatmap\"}],\"histogram2dcontour\":[{\"colorbar\":{\"outlinewidth\":0,\"tickcolor\":\"rgb(237,237,237)\",\"ticklen\":6,\"ticks\":\"inside\"},\"colorscale\":[[0,\"rgb(20,44,66)\"],[1,\"rgb(90,179,244)\"]],\"type\":\"histogram2dcontour\"}],\"histogram2d\":[{\"colorbar\":{\"outlinewidth\":0,\"tickcolor\":\"rgb(237,237,237)\",\"ticklen\":6,\"ticks\":\"inside\"},\"colorscale\":[[0,\"rgb(20,44,66)\"],[1,\"rgb(90,179,244)\"]],\"type\":\"histogram2d\"}],\"histogram\":[{\"marker\":{\"pattern\":{\"fillmode\":\"overlay\",\"size\":10,\"solidity\":0.2}},\"type\":\"histogram\"}],\"mesh3d\":[{\"colorbar\":{\"outlinewidth\":0,\"tickcolor\":\"rgb(237,237,237)\",\"ticklen\":6,\"ticks\":\"inside\"},\"type\":\"mesh3d\"}],\"parcoords\":[{\"line\":{\"colorbar\":{\"outlinewidth\":0,\"tickcolor\":\"rgb(237,237,237)\",\"ticklen\":6,\"ticks\":\"inside\"}},\"type\":\"parcoords\"}],\"pie\":[{\"automargin\":true,\"type\":\"pie\"}],\"scatter3d\":[{\"line\":{\"colorbar\":{\"outlinewidth\":0,\"tickcolor\":\"rgb(237,237,237)\",\"ticklen\":6,\"ticks\":\"inside\"}},\"marker\":{\"colorbar\":{\"outlinewidth\":0,\"tickcolor\":\"rgb(237,237,237)\",\"ticklen\":6,\"ticks\":\"inside\"}},\"type\":\"scatter3d\"}],\"scattercarpet\":[{\"marker\":{\"colorbar\":{\"outlinewidth\":0,\"tickcolor\":\"rgb(237,237,237)\",\"ticklen\":6,\"ticks\":\"inside\"}},\"type\":\"scattercarpet\"}],\"scattergeo\":[{\"marker\":{\"colorbar\":{\"outlinewidth\":0,\"tickcolor\":\"rgb(237,237,237)\",\"ticklen\":6,\"ticks\":\"inside\"}},\"type\":\"scattergeo\"}],\"scattergl\":[{\"marker\":{\"colorbar\":{\"outlinewidth\":0,\"tickcolor\":\"rgb(237,237,237)\",\"ticklen\":6,\"ticks\":\"inside\"}},\"type\":\"scattergl\"}],\"scattermapbox\":[{\"marker\":{\"colorbar\":{\"outlinewidth\":0,\"tickcolor\":\"rgb(237,237,237)\",\"ticklen\":6,\"ticks\":\"inside\"}},\"type\":\"scattermapbox\"}],\"scatterpolargl\":[{\"marker\":{\"colorbar\":{\"outlinewidth\":0,\"tickcolor\":\"rgb(237,237,237)\",\"ticklen\":6,\"ticks\":\"inside\"}},\"type\":\"scatterpolargl\"}],\"scatterpolar\":[{\"marker\":{\"colorbar\":{\"outlinewidth\":0,\"tickcolor\":\"rgb(237,237,237)\",\"ticklen\":6,\"ticks\":\"inside\"}},\"type\":\"scatterpolar\"}],\"scatter\":[{\"fillpattern\":{\"fillmode\":\"overlay\",\"size\":10,\"solidity\":0.2},\"type\":\"scatter\"}],\"scatterternary\":[{\"marker\":{\"colorbar\":{\"outlinewidth\":0,\"tickcolor\":\"rgb(237,237,237)\",\"ticklen\":6,\"ticks\":\"inside\"}},\"type\":\"scatterternary\"}],\"surface\":[{\"colorbar\":{\"outlinewidth\":0,\"tickcolor\":\"rgb(237,237,237)\",\"ticklen\":6,\"ticks\":\"inside\"},\"colorscale\":[[0,\"rgb(20,44,66)\"],[1,\"rgb(90,179,244)\"]],\"type\":\"surface\"}],\"table\":[{\"cells\":{\"fill\":{\"color\":\"rgb(237,237,237)\"},\"line\":{\"color\":\"white\"}},\"header\":{\"fill\":{\"color\":\"rgb(217,217,217)\"},\"line\":{\"color\":\"white\"}},\"type\":\"table\"}]},\"layout\":{\"annotationdefaults\":{\"arrowhead\":0,\"arrowwidth\":1},\"autotypenumbers\":\"strict\",\"coloraxis\":{\"colorbar\":{\"outlinewidth\":0,\"tickcolor\":\"rgb(237,237,237)\",\"ticklen\":6,\"ticks\":\"inside\"}},\"colorscale\":{\"sequential\":[[0,\"rgb(20,44,66)\"],[1,\"rgb(90,179,244)\"]],\"sequentialminus\":[[0,\"rgb(20,44,66)\"],[1,\"rgb(90,179,244)\"]]},\"colorway\":[\"#F8766D\",\"#A3A500\",\"#00BF7D\",\"#00B0F6\",\"#E76BF3\"],\"font\":{\"color\":\"rgb(51,51,51)\"},\"geo\":{\"bgcolor\":\"white\",\"lakecolor\":\"white\",\"landcolor\":\"rgb(237,237,237)\",\"showlakes\":true,\"showland\":true,\"subunitcolor\":\"white\"},\"hoverlabel\":{\"align\":\"left\"},\"hovermode\":\"closest\",\"paper_bgcolor\":\"white\",\"plot_bgcolor\":\"rgb(237,237,237)\",\"polar\":{\"angularaxis\":{\"gridcolor\":\"white\",\"linecolor\":\"white\",\"showgrid\":true,\"tickcolor\":\"rgb(51,51,51)\",\"ticks\":\"outside\"},\"bgcolor\":\"rgb(237,237,237)\",\"radialaxis\":{\"gridcolor\":\"white\",\"linecolor\":\"white\",\"showgrid\":true,\"tickcolor\":\"rgb(51,51,51)\",\"ticks\":\"outside\"}},\"scene\":{\"xaxis\":{\"backgroundcolor\":\"rgb(237,237,237)\",\"gridcolor\":\"white\",\"gridwidth\":2,\"linecolor\":\"white\",\"showbackground\":true,\"showgrid\":true,\"tickcolor\":\"rgb(51,51,51)\",\"ticks\":\"outside\",\"zerolinecolor\":\"white\"},\"yaxis\":{\"backgroundcolor\":\"rgb(237,237,237)\",\"gridcolor\":\"white\",\"gridwidth\":2,\"linecolor\":\"white\",\"showbackground\":true,\"showgrid\":true,\"tickcolor\":\"rgb(51,51,51)\",\"ticks\":\"outside\",\"zerolinecolor\":\"white\"},\"zaxis\":{\"backgroundcolor\":\"rgb(237,237,237)\",\"gridcolor\":\"white\",\"gridwidth\":2,\"linecolor\":\"white\",\"showbackground\":true,\"showgrid\":true,\"tickcolor\":\"rgb(51,51,51)\",\"ticks\":\"outside\",\"zerolinecolor\":\"white\"}},\"shapedefaults\":{\"fillcolor\":\"black\",\"line\":{\"width\":0},\"opacity\":0.3},\"ternary\":{\"aaxis\":{\"gridcolor\":\"white\",\"linecolor\":\"white\",\"showgrid\":true,\"tickcolor\":\"rgb(51,51,51)\",\"ticks\":\"outside\"},\"baxis\":{\"gridcolor\":\"white\",\"linecolor\":\"white\",\"showgrid\":true,\"tickcolor\":\"rgb(51,51,51)\",\"ticks\":\"outside\"},\"bgcolor\":\"rgb(237,237,237)\",\"caxis\":{\"gridcolor\":\"white\",\"linecolor\":\"white\",\"showgrid\":true,\"tickcolor\":\"rgb(51,51,51)\",\"ticks\":\"outside\"}},\"xaxis\":{\"automargin\":true,\"gridcolor\":\"white\",\"linecolor\":\"white\",\"showgrid\":true,\"tickcolor\":\"rgb(51,51,51)\",\"ticks\":\"outside\",\"title\":{\"standoff\":15},\"zerolinecolor\":\"white\"},\"yaxis\":{\"automargin\":true,\"gridcolor\":\"white\",\"linecolor\":\"white\",\"showgrid\":true,\"tickcolor\":\"rgb(51,51,51)\",\"ticks\":\"outside\",\"title\":{\"standoff\":15},\"zerolinecolor\":\"white\"}}},\"xaxis\":{\"anchor\":\"y\",\"domain\":[0.0,0.45]},\"yaxis\":{\"anchor\":\"x\",\"domain\":[0.7777777777777779,1.0]},\"xaxis2\":{\"anchor\":\"y2\",\"domain\":[0.55,1.0],\"range\":[0,0.5]},\"yaxis2\":{\"anchor\":\"x2\",\"domain\":[0.7777777777777779,1.0]},\"xaxis3\":{\"anchor\":\"y3\",\"domain\":[0.0,0.45],\"title\":{\"text\":\"Range of Values\"}},\"yaxis3\":{\"anchor\":\"x3\",\"domain\":[0.38888888888888895,0.6111111111111112],\"title\":{\"text\":\"PDF\"}},\"xaxis4\":{\"anchor\":\"y4\",\"domain\":[0.55,1.0],\"title\":{\"text\":\"Theoretical Quantities\"}},\"yaxis4\":{\"anchor\":\"x4\",\"domain\":[0.38888888888888895,0.6111111111111112],\"title\":{\"text\":\"Sample Quantities\"}},\"xaxis5\":{\"anchor\":\"y5\",\"domain\":[0.0,0.45],\"range\":[-1,32]},\"yaxis5\":{\"anchor\":\"x5\",\"domain\":[0.0,0.22222222222222227],\"range\":[-1.1,1.1],\"zerolinecolor\":\"#000000\"},\"xaxis6\":{\"anchor\":\"y6\",\"domain\":[0.55,1.0],\"range\":[-1,16]},\"yaxis6\":{\"anchor\":\"x6\",\"domain\":[0.0,0.22222222222222227],\"range\":[-1.1,1.1],\"zerolinecolor\":\"#000000\"},\"annotations\":[{\"font\":{\"size\":16},\"showarrow\":false,\"text\":\"ValorBase (transformed)\",\"x\":0.225,\"xanchor\":\"center\",\"xref\":\"paper\",\"y\":1.0000000000000002,\"yanchor\":\"bottom\",\"yref\":\"paper\"},{\"font\":{\"size\":16},\"showarrow\":false,\"text\":\"Periodogram\",\"x\":0.775,\"xanchor\":\"center\",\"xref\":\"paper\",\"y\":1.0000000000000002,\"yanchor\":\"bottom\",\"yref\":\"paper\"},{\"font\":{\"size\":16},\"showarrow\":false,\"text\":\"Histogram\",\"x\":0.225,\"xanchor\":\"center\",\"xref\":\"paper\",\"y\":0.6111111111111112,\"yanchor\":\"bottom\",\"yref\":\"paper\"},{\"font\":{\"size\":16},\"showarrow\":false,\"text\":\"Q-Q Plot\",\"x\":0.775,\"xanchor\":\"center\",\"xref\":\"paper\",\"y\":0.6111111111111112,\"yanchor\":\"bottom\",\"yref\":\"paper\"},{\"font\":{\"size\":16},\"showarrow\":false,\"text\":\"ACF\",\"x\":0.225,\"xanchor\":\"center\",\"xref\":\"paper\",\"y\":0.22222222222222227,\"yanchor\":\"bottom\",\"yref\":\"paper\"},{\"font\":{\"size\":16},\"showarrow\":false,\"text\":\"PACF\",\"x\":0.775,\"xanchor\":\"center\",\"xref\":\"paper\",\"y\":0.22222222222222227,\"yanchor\":\"bottom\",\"yref\":\"paper\"}],\"title\":{\"text\":\"Diagnostics | ValorBase\"},\"showlegend\":false},                        {\"responsive\": true}                    ).then(function(){\n",
              "                            \n",
              "var gd = document.getElementById('5d9a7a81-dbd7-4fcb-b667-78f4672760e5');\n",
              "var x = new MutationObserver(function (mutations, observer) {{\n",
              "        var display = window.getComputedStyle(gd).display;\n",
              "        if (!display || display === 'none') {{\n",
              "            console.log([gd, 'removed!']);\n",
              "            Plotly.purge(gd);\n",
              "            observer.disconnect();\n",
              "        }}\n",
              "}});\n",
              "\n",
              "// Listen for the removal of the full notebook cells\n",
              "var notebookContainer = gd.closest('#notebook-container');\n",
              "if (notebookContainer) {{\n",
              "    x.observe(notebookContainer, {childList: true});\n",
              "}}\n",
              "\n",
              "// Listen for the clearing of the current output cell\n",
              "var outputEl = gd.closest('.output');\n",
              "if (outputEl) {{\n",
              "    x.observe(outputEl, {childList: true});\n",
              "}}\n",
              "\n",
              "                        })                };                            </script>        </div>\n",
              "</body>\n",
              "</html>"
            ]
          },
          "metadata": {}
        }
      ]
    },
    {
      "cell_type": "code",
      "source": [
        "setup(df_federal, target='ValorBase', fh=3, fold=3)"
      ],
      "metadata": {
        "colab": {
          "base_uri": "https://localhost:8080/",
          "height": 1000
        },
        "id": "GSUJlBPBDGSz",
        "outputId": "9d43ff79-10d6-4d64-96cf-6061b3d3027b"
      },
      "execution_count": null,
      "outputs": [
        {
          "output_type": "display_data",
          "data": {
            "text/plain": [
              "<pandas.io.formats.style.Styler at 0x7fe7cf50d6c0>"
            ],
            "text/html": [
              "<style type=\"text/css\">\n",
              "#T_9ad56_row28_col1 {\n",
              "  background-color: lightgreen;\n",
              "}\n",
              "</style>\n",
              "<table id=\"T_9ad56\" class=\"dataframe\">\n",
              "  <thead>\n",
              "    <tr>\n",
              "      <th class=\"blank level0\" >&nbsp;</th>\n",
              "      <th id=\"T_9ad56_level0_col0\" class=\"col_heading level0 col0\" >Description</th>\n",
              "      <th id=\"T_9ad56_level0_col1\" class=\"col_heading level0 col1\" >Value</th>\n",
              "    </tr>\n",
              "  </thead>\n",
              "  <tbody>\n",
              "    <tr>\n",
              "      <th id=\"T_9ad56_level0_row0\" class=\"row_heading level0 row0\" >0</th>\n",
              "      <td id=\"T_9ad56_row0_col0\" class=\"data row0 col0\" >session_id</td>\n",
              "      <td id=\"T_9ad56_row0_col1\" class=\"data row0 col1\" >7710</td>\n",
              "    </tr>\n",
              "    <tr>\n",
              "      <th id=\"T_9ad56_level0_row1\" class=\"row_heading level0 row1\" >1</th>\n",
              "      <td id=\"T_9ad56_row1_col0\" class=\"data row1 col0\" >Target</td>\n",
              "      <td id=\"T_9ad56_row1_col1\" class=\"data row1 col1\" >ValorBase</td>\n",
              "    </tr>\n",
              "    <tr>\n",
              "      <th id=\"T_9ad56_level0_row2\" class=\"row_heading level0 row2\" >2</th>\n",
              "      <td id=\"T_9ad56_row2_col0\" class=\"data row2 col0\" >Approach</td>\n",
              "      <td id=\"T_9ad56_row2_col1\" class=\"data row2 col1\" >Univariate</td>\n",
              "    </tr>\n",
              "    <tr>\n",
              "      <th id=\"T_9ad56_level0_row3\" class=\"row_heading level0 row3\" >3</th>\n",
              "      <td id=\"T_9ad56_row3_col0\" class=\"data row3 col0\" >Exogenous Variables</td>\n",
              "      <td id=\"T_9ad56_row3_col1\" class=\"data row3 col1\" >Present</td>\n",
              "    </tr>\n",
              "    <tr>\n",
              "      <th id=\"T_9ad56_level0_row4\" class=\"row_heading level0 row4\" >4</th>\n",
              "      <td id=\"T_9ad56_row4_col0\" class=\"data row4 col0\" >Original data shape</td>\n",
              "      <td id=\"T_9ad56_row4_col1\" class=\"data row4 col1\" >(31, 4)</td>\n",
              "    </tr>\n",
              "    <tr>\n",
              "      <th id=\"T_9ad56_level0_row5\" class=\"row_heading level0 row5\" >5</th>\n",
              "      <td id=\"T_9ad56_row5_col0\" class=\"data row5 col0\" >Transformed data shape</td>\n",
              "      <td id=\"T_9ad56_row5_col1\" class=\"data row5 col1\" >(31, 4)</td>\n",
              "    </tr>\n",
              "    <tr>\n",
              "      <th id=\"T_9ad56_level0_row6\" class=\"row_heading level0 row6\" >6</th>\n",
              "      <td id=\"T_9ad56_row6_col0\" class=\"data row6 col0\" >Transformed train set shape</td>\n",
              "      <td id=\"T_9ad56_row6_col1\" class=\"data row6 col1\" >(28, 4)</td>\n",
              "    </tr>\n",
              "    <tr>\n",
              "      <th id=\"T_9ad56_level0_row7\" class=\"row_heading level0 row7\" >7</th>\n",
              "      <td id=\"T_9ad56_row7_col0\" class=\"data row7 col0\" >Transformed test set shape</td>\n",
              "      <td id=\"T_9ad56_row7_col1\" class=\"data row7 col1\" >(3, 4)</td>\n",
              "    </tr>\n",
              "    <tr>\n",
              "      <th id=\"T_9ad56_level0_row8\" class=\"row_heading level0 row8\" >8</th>\n",
              "      <td id=\"T_9ad56_row8_col0\" class=\"data row8 col0\" >Rows with missing values</td>\n",
              "      <td id=\"T_9ad56_row8_col1\" class=\"data row8 col1\" >0.0%</td>\n",
              "    </tr>\n",
              "    <tr>\n",
              "      <th id=\"T_9ad56_level0_row9\" class=\"row_heading level0 row9\" >9</th>\n",
              "      <td id=\"T_9ad56_row9_col0\" class=\"data row9 col0\" >Fold Generator</td>\n",
              "      <td id=\"T_9ad56_row9_col1\" class=\"data row9 col1\" >ExpandingWindowSplitter</td>\n",
              "    </tr>\n",
              "    <tr>\n",
              "      <th id=\"T_9ad56_level0_row10\" class=\"row_heading level0 row10\" >10</th>\n",
              "      <td id=\"T_9ad56_row10_col0\" class=\"data row10 col0\" >Fold Number</td>\n",
              "      <td id=\"T_9ad56_row10_col1\" class=\"data row10 col1\" >3</td>\n",
              "    </tr>\n",
              "    <tr>\n",
              "      <th id=\"T_9ad56_level0_row11\" class=\"row_heading level0 row11\" >11</th>\n",
              "      <td id=\"T_9ad56_row11_col0\" class=\"data row11 col0\" >Enforce Prediction Interval</td>\n",
              "      <td id=\"T_9ad56_row11_col1\" class=\"data row11 col1\" >False</td>\n",
              "    </tr>\n",
              "    <tr>\n",
              "      <th id=\"T_9ad56_level0_row12\" class=\"row_heading level0 row12\" >12</th>\n",
              "      <td id=\"T_9ad56_row12_col0\" class=\"data row12 col0\" >Splits used for hyperparameters</td>\n",
              "      <td id=\"T_9ad56_row12_col1\" class=\"data row12 col1\" >all</td>\n",
              "    </tr>\n",
              "    <tr>\n",
              "      <th id=\"T_9ad56_level0_row13\" class=\"row_heading level0 row13\" >13</th>\n",
              "      <td id=\"T_9ad56_row13_col0\" class=\"data row13 col0\" >User Defined Seasonal Period(s)</td>\n",
              "      <td id=\"T_9ad56_row13_col1\" class=\"data row13 col1\" >None</td>\n",
              "    </tr>\n",
              "    <tr>\n",
              "      <th id=\"T_9ad56_level0_row14\" class=\"row_heading level0 row14\" >14</th>\n",
              "      <td id=\"T_9ad56_row14_col0\" class=\"data row14 col0\" >Ignore Seasonality Test</td>\n",
              "      <td id=\"T_9ad56_row14_col1\" class=\"data row14 col1\" >False</td>\n",
              "    </tr>\n",
              "    <tr>\n",
              "      <th id=\"T_9ad56_level0_row15\" class=\"row_heading level0 row15\" >15</th>\n",
              "      <td id=\"T_9ad56_row15_col0\" class=\"data row15 col0\" >Seasonality Detection Algo</td>\n",
              "      <td id=\"T_9ad56_row15_col1\" class=\"data row15 col1\" >auto</td>\n",
              "    </tr>\n",
              "    <tr>\n",
              "      <th id=\"T_9ad56_level0_row16\" class=\"row_heading level0 row16\" >16</th>\n",
              "      <td id=\"T_9ad56_row16_col0\" class=\"data row16 col0\" >Max Period to Consider</td>\n",
              "      <td id=\"T_9ad56_row16_col1\" class=\"data row16 col1\" >60</td>\n",
              "    </tr>\n",
              "    <tr>\n",
              "      <th id=\"T_9ad56_level0_row17\" class=\"row_heading level0 row17\" >17</th>\n",
              "      <td id=\"T_9ad56_row17_col0\" class=\"data row17 col0\" >Seasonal Period(s) Tested</td>\n",
              "      <td id=\"T_9ad56_row17_col1\" class=\"data row17 col1\" >[]</td>\n",
              "    </tr>\n",
              "    <tr>\n",
              "      <th id=\"T_9ad56_level0_row18\" class=\"row_heading level0 row18\" >18</th>\n",
              "      <td id=\"T_9ad56_row18_col0\" class=\"data row18 col0\" >Significant Seasonal Period(s)</td>\n",
              "      <td id=\"T_9ad56_row18_col1\" class=\"data row18 col1\" >[1]</td>\n",
              "    </tr>\n",
              "    <tr>\n",
              "      <th id=\"T_9ad56_level0_row19\" class=\"row_heading level0 row19\" >19</th>\n",
              "      <td id=\"T_9ad56_row19_col0\" class=\"data row19 col0\" >Significant Seasonal Period(s) without Harmonics</td>\n",
              "      <td id=\"T_9ad56_row19_col1\" class=\"data row19 col1\" >[1]</td>\n",
              "    </tr>\n",
              "    <tr>\n",
              "      <th id=\"T_9ad56_level0_row20\" class=\"row_heading level0 row20\" >20</th>\n",
              "      <td id=\"T_9ad56_row20_col0\" class=\"data row20 col0\" >Remove Harmonics</td>\n",
              "      <td id=\"T_9ad56_row20_col1\" class=\"data row20 col1\" >False</td>\n",
              "    </tr>\n",
              "    <tr>\n",
              "      <th id=\"T_9ad56_level0_row21\" class=\"row_heading level0 row21\" >21</th>\n",
              "      <td id=\"T_9ad56_row21_col0\" class=\"data row21 col0\" >Harmonics Order Method</td>\n",
              "      <td id=\"T_9ad56_row21_col1\" class=\"data row21 col1\" >harmonic_max</td>\n",
              "    </tr>\n",
              "    <tr>\n",
              "      <th id=\"T_9ad56_level0_row22\" class=\"row_heading level0 row22\" >22</th>\n",
              "      <td id=\"T_9ad56_row22_col0\" class=\"data row22 col0\" >Num Seasonalities to Use</td>\n",
              "      <td id=\"T_9ad56_row22_col1\" class=\"data row22 col1\" >1</td>\n",
              "    </tr>\n",
              "    <tr>\n",
              "      <th id=\"T_9ad56_level0_row23\" class=\"row_heading level0 row23\" >23</th>\n",
              "      <td id=\"T_9ad56_row23_col0\" class=\"data row23 col0\" >All Seasonalities to Use</td>\n",
              "      <td id=\"T_9ad56_row23_col1\" class=\"data row23 col1\" >[1]</td>\n",
              "    </tr>\n",
              "    <tr>\n",
              "      <th id=\"T_9ad56_level0_row24\" class=\"row_heading level0 row24\" >24</th>\n",
              "      <td id=\"T_9ad56_row24_col0\" class=\"data row24 col0\" >Primary Seasonality</td>\n",
              "      <td id=\"T_9ad56_row24_col1\" class=\"data row24 col1\" >1</td>\n",
              "    </tr>\n",
              "    <tr>\n",
              "      <th id=\"T_9ad56_level0_row25\" class=\"row_heading level0 row25\" >25</th>\n",
              "      <td id=\"T_9ad56_row25_col0\" class=\"data row25 col0\" >Seasonality Present</td>\n",
              "      <td id=\"T_9ad56_row25_col1\" class=\"data row25 col1\" >False</td>\n",
              "    </tr>\n",
              "    <tr>\n",
              "      <th id=\"T_9ad56_level0_row26\" class=\"row_heading level0 row26\" >26</th>\n",
              "      <td id=\"T_9ad56_row26_col0\" class=\"data row26 col0\" >Seasonality Type</td>\n",
              "      <td id=\"T_9ad56_row26_col1\" class=\"data row26 col1\" >None</td>\n",
              "    </tr>\n",
              "    <tr>\n",
              "      <th id=\"T_9ad56_level0_row27\" class=\"row_heading level0 row27\" >27</th>\n",
              "      <td id=\"T_9ad56_row27_col0\" class=\"data row27 col0\" >Target Strictly Positive</td>\n",
              "      <td id=\"T_9ad56_row27_col1\" class=\"data row27 col1\" >True</td>\n",
              "    </tr>\n",
              "    <tr>\n",
              "      <th id=\"T_9ad56_level0_row28\" class=\"row_heading level0 row28\" >28</th>\n",
              "      <td id=\"T_9ad56_row28_col0\" class=\"data row28 col0\" >Target White Noise</td>\n",
              "      <td id=\"T_9ad56_row28_col1\" class=\"data row28 col1\" >Yes</td>\n",
              "    </tr>\n",
              "    <tr>\n",
              "      <th id=\"T_9ad56_level0_row29\" class=\"row_heading level0 row29\" >29</th>\n",
              "      <td id=\"T_9ad56_row29_col0\" class=\"data row29 col0\" >Recommended d</td>\n",
              "      <td id=\"T_9ad56_row29_col1\" class=\"data row29 col1\" >0</td>\n",
              "    </tr>\n",
              "    <tr>\n",
              "      <th id=\"T_9ad56_level0_row30\" class=\"row_heading level0 row30\" >30</th>\n",
              "      <td id=\"T_9ad56_row30_col0\" class=\"data row30 col0\" >Recommended Seasonal D</td>\n",
              "      <td id=\"T_9ad56_row30_col1\" class=\"data row30 col1\" >0</td>\n",
              "    </tr>\n",
              "    <tr>\n",
              "      <th id=\"T_9ad56_level0_row31\" class=\"row_heading level0 row31\" >31</th>\n",
              "      <td id=\"T_9ad56_row31_col0\" class=\"data row31 col0\" >Preprocess</td>\n",
              "      <td id=\"T_9ad56_row31_col1\" class=\"data row31 col1\" >False</td>\n",
              "    </tr>\n",
              "    <tr>\n",
              "      <th id=\"T_9ad56_level0_row32\" class=\"row_heading level0 row32\" >32</th>\n",
              "      <td id=\"T_9ad56_row32_col0\" class=\"data row32 col0\" >CPU Jobs</td>\n",
              "      <td id=\"T_9ad56_row32_col1\" class=\"data row32 col1\" >-1</td>\n",
              "    </tr>\n",
              "    <tr>\n",
              "      <th id=\"T_9ad56_level0_row33\" class=\"row_heading level0 row33\" >33</th>\n",
              "      <td id=\"T_9ad56_row33_col0\" class=\"data row33 col0\" >Use GPU</td>\n",
              "      <td id=\"T_9ad56_row33_col1\" class=\"data row33 col1\" >False</td>\n",
              "    </tr>\n",
              "    <tr>\n",
              "      <th id=\"T_9ad56_level0_row34\" class=\"row_heading level0 row34\" >34</th>\n",
              "      <td id=\"T_9ad56_row34_col0\" class=\"data row34 col0\" >Log Experiment</td>\n",
              "      <td id=\"T_9ad56_row34_col1\" class=\"data row34 col1\" >False</td>\n",
              "    </tr>\n",
              "    <tr>\n",
              "      <th id=\"T_9ad56_level0_row35\" class=\"row_heading level0 row35\" >35</th>\n",
              "      <td id=\"T_9ad56_row35_col0\" class=\"data row35 col0\" >Experiment Name</td>\n",
              "      <td id=\"T_9ad56_row35_col1\" class=\"data row35 col1\" >ts-default-name</td>\n",
              "    </tr>\n",
              "    <tr>\n",
              "      <th id=\"T_9ad56_level0_row36\" class=\"row_heading level0 row36\" >36</th>\n",
              "      <td id=\"T_9ad56_row36_col0\" class=\"data row36 col0\" >USI</td>\n",
              "      <td id=\"T_9ad56_row36_col1\" class=\"data row36 col1\" >3209</td>\n",
              "    </tr>\n",
              "  </tbody>\n",
              "</table>\n"
            ]
          },
          "metadata": {}
        },
        {
          "output_type": "execute_result",
          "data": {
            "text/plain": [
              "<pycaret.time_series.forecasting.oop.TSForecastingExperiment at 0x7fe7cf50df30>"
            ]
          },
          "metadata": {},
          "execution_count": 200
        }
      ]
    },
    {
      "cell_type": "code",
      "source": [
        "melhor_modelo = compare_models()"
      ],
      "metadata": {
        "id": "vFvOTEMXeoOw",
        "colab": {
          "base_uri": "https://localhost:8080/",
          "height": 143,
          "referenced_widgets": [
            "a13e066cec8c4aae89cd7d87de6c7949",
            "4cd3cc4e82bf42c49a3e76db7cc111b7",
            "c6f4a9a529454682be3fc4bf1efaf9ff",
            "9df9f775df54442ea9c3937a6167d4aa",
            "047185b2691a4efaa7030a01b2715aa0",
            "fd8e7c1015e04b8a9ce1b6009f43c830",
            "3fbcdc1dcd59419e94ad7b41fec21480",
            "d24ba2ad43564b919685d2d9a497661e",
            "b28ec352cb2e492d853f5062ff6c40b8",
            "4a46b91ae733499ea9f1f8217e8c7be7",
            "5e795b46a2b044109cd915b19f80ab9c"
          ]
        },
        "outputId": "8895f444-50f5-4f13-c6ef-9af06d44c233"
      },
      "execution_count": null,
      "outputs": [
        {
          "output_type": "display_data",
          "data": {
            "text/plain": [
              "<IPython.core.display.HTML object>"
            ],
            "text/html": []
          },
          "metadata": {}
        },
        {
          "output_type": "display_data",
          "data": {
            "text/plain": [
              "<pandas.io.formats.style.Styler at 0x7fe7d4969240>"
            ],
            "text/html": [
              "<style type=\"text/css\">\n",
              "#T_8fb24 th {\n",
              "  text-align: left;\n",
              "}\n",
              "#T_8fb24_row0_col0, #T_8fb24_row0_col7, #T_8fb24_row1_col0, #T_8fb24_row1_col1, #T_8fb24_row1_col2, #T_8fb24_row1_col3, #T_8fb24_row1_col4, #T_8fb24_row1_col5, #T_8fb24_row1_col6, #T_8fb24_row2_col0, #T_8fb24_row2_col1, #T_8fb24_row2_col2, #T_8fb24_row2_col3, #T_8fb24_row2_col4, #T_8fb24_row2_col5, #T_8fb24_row2_col6, #T_8fb24_row2_col7 {\n",
              "  text-align: left;\n",
              "}\n",
              "#T_8fb24_row0_col1, #T_8fb24_row0_col2, #T_8fb24_row0_col3, #T_8fb24_row0_col4, #T_8fb24_row0_col5, #T_8fb24_row0_col6, #T_8fb24_row1_col7 {\n",
              "  text-align: left;\n",
              "  background-color: yellow;\n",
              "}\n",
              "#T_8fb24_row0_col8, #T_8fb24_row2_col8 {\n",
              "  text-align: left;\n",
              "  background-color: lightgrey;\n",
              "}\n",
              "#T_8fb24_row1_col8 {\n",
              "  text-align: left;\n",
              "  background-color: yellow;\n",
              "  background-color: lightgrey;\n",
              "}\n",
              "</style>\n",
              "<table id=\"T_8fb24\" class=\"dataframe\">\n",
              "  <thead>\n",
              "    <tr>\n",
              "      <th class=\"blank level0\" >&nbsp;</th>\n",
              "      <th id=\"T_8fb24_level0_col0\" class=\"col_heading level0 col0\" >Model</th>\n",
              "      <th id=\"T_8fb24_level0_col1\" class=\"col_heading level0 col1\" >MASE</th>\n",
              "      <th id=\"T_8fb24_level0_col2\" class=\"col_heading level0 col2\" >RMSSE</th>\n",
              "      <th id=\"T_8fb24_level0_col3\" class=\"col_heading level0 col3\" >MAE</th>\n",
              "      <th id=\"T_8fb24_level0_col4\" class=\"col_heading level0 col4\" >RMSE</th>\n",
              "      <th id=\"T_8fb24_level0_col5\" class=\"col_heading level0 col5\" >MAPE</th>\n",
              "      <th id=\"T_8fb24_level0_col6\" class=\"col_heading level0 col6\" >SMAPE</th>\n",
              "      <th id=\"T_8fb24_level0_col7\" class=\"col_heading level0 col7\" >R2</th>\n",
              "      <th id=\"T_8fb24_level0_col8\" class=\"col_heading level0 col8\" >TT (Sec)</th>\n",
              "    </tr>\n",
              "  </thead>\n",
              "  <tbody>\n",
              "    <tr>\n",
              "      <th id=\"T_8fb24_level0_row0\" class=\"row_heading level0 row0\" >grand_means</th>\n",
              "      <td id=\"T_8fb24_row0_col0\" class=\"data row0 col0\" >Grand Means Forecaster</td>\n",
              "      <td id=\"T_8fb24_row0_col1\" class=\"data row0 col1\" >2.1459</td>\n",
              "      <td id=\"T_8fb24_row0_col2\" class=\"data row0 col2\" >1.7582</td>\n",
              "      <td id=\"T_8fb24_row0_col3\" class=\"data row0 col3\" >1039299.3162</td>\n",
              "      <td id=\"T_8fb24_row0_col4\" class=\"data row0 col4\" >1239556.6411</td>\n",
              "      <td id=\"T_8fb24_row0_col5\" class=\"data row0 col5\" >0.2767</td>\n",
              "      <td id=\"T_8fb24_row0_col6\" class=\"data row0 col6\" >0.3579</td>\n",
              "      <td id=\"T_8fb24_row0_col7\" class=\"data row0 col7\" >-2.0049</td>\n",
              "      <td id=\"T_8fb24_row0_col8\" class=\"data row0 col8\" >0.0433</td>\n",
              "    </tr>\n",
              "    <tr>\n",
              "      <th id=\"T_8fb24_level0_row1\" class=\"row_heading level0 row1\" >croston</th>\n",
              "      <td id=\"T_8fb24_row1_col0\" class=\"data row1 col0\" >Croston</td>\n",
              "      <td id=\"T_8fb24_row1_col1\" class=\"data row1 col1\" >2.2255</td>\n",
              "      <td id=\"T_8fb24_row1_col2\" class=\"data row1 col2\" >1.8431</td>\n",
              "      <td id=\"T_8fb24_row1_col3\" class=\"data row1 col3\" >1075497.4719</td>\n",
              "      <td id=\"T_8fb24_row1_col4\" class=\"data row1 col4\" >1293337.7717</td>\n",
              "      <td id=\"T_8fb24_row1_col5\" class=\"data row1 col5\" >0.2787</td>\n",
              "      <td id=\"T_8fb24_row1_col6\" class=\"data row1 col6\" >0.3751</td>\n",
              "      <td id=\"T_8fb24_row1_col7\" class=\"data row1 col7\" >-1.4102</td>\n",
              "      <td id=\"T_8fb24_row1_col8\" class=\"data row1 col8\" >0.0333</td>\n",
              "    </tr>\n",
              "    <tr>\n",
              "      <th id=\"T_8fb24_level0_row2\" class=\"row_heading level0 row2\" >naive</th>\n",
              "      <td id=\"T_8fb24_row2_col0\" class=\"data row2 col0\" >Naive Forecaster</td>\n",
              "      <td id=\"T_8fb24_row2_col1\" class=\"data row2 col1\" >2.5116</td>\n",
              "      <td id=\"T_8fb24_row2_col2\" class=\"data row2 col2\" >2.0449</td>\n",
              "      <td id=\"T_8fb24_row2_col3\" class=\"data row2 col3\" >1227918.9389</td>\n",
              "      <td id=\"T_8fb24_row2_col4\" class=\"data row2 col4\" >1447759.3263</td>\n",
              "      <td id=\"T_8fb24_row2_col5\" class=\"data row2 col5\" >0.3567</td>\n",
              "      <td id=\"T_8fb24_row2_col6\" class=\"data row2 col6\" >0.4495</td>\n",
              "      <td id=\"T_8fb24_row2_col7\" class=\"data row2 col7\" >-26.3144</td>\n",
              "      <td id=\"T_8fb24_row2_col8\" class=\"data row2 col8\" >2.1867</td>\n",
              "    </tr>\n",
              "  </tbody>\n",
              "</table>\n"
            ]
          },
          "metadata": {}
        },
        {
          "output_type": "display_data",
          "data": {
            "text/plain": [
              "Processing:   0%|          | 0/93 [00:00<?, ?it/s]"
            ],
            "application/vnd.jupyter.widget-view+json": {
              "version_major": 2,
              "version_minor": 0,
              "model_id": "a13e066cec8c4aae89cd7d87de6c7949"
            }
          },
          "metadata": {
            "application/vnd.jupyter.widget-view+json": {
              "colab": {
                "custom_widget_manager": {
                  "url": "https://ssl.gstatic.com/colaboratory-static/widgets/colab-cdn-widget-manager/b3e629b1971e1542/manager.min.js"
                }
              }
            }
          }
        },
        {
          "output_type": "display_data",
          "data": {
            "text/plain": [
              "<IPython.core.display.HTML object>"
            ],
            "text/html": []
          },
          "metadata": {}
        }
      ]
    },
    {
      "cell_type": "code",
      "source": [
        "#checandoo estatistica\n",
        "check_stats()"
      ],
      "metadata": {
        "colab": {
          "base_uri": "https://localhost:8080/",
          "height": 896
        },
        "id": "XtEKiB3_FHGt",
        "outputId": "7c5a8a31-3591-4168-e1ba-12ef923fbe46"
      },
      "execution_count": null,
      "outputs": [
        {
          "output_type": "execute_result",
          "data": {
            "text/plain": [
              "            Test   Test Name         Data             Property  \\\n",
              "0        Summary  Statistics  Transformed               Length   \n",
              "1        Summary  Statistics  Transformed     # Missing Values   \n",
              "2        Summary  Statistics  Transformed                 Mean   \n",
              "3        Summary  Statistics  Transformed               Median   \n",
              "4        Summary  Statistics  Transformed   Standard Deviation   \n",
              "5        Summary  Statistics  Transformed             Variance   \n",
              "6        Summary  Statistics  Transformed             Kurtosis   \n",
              "7        Summary  Statistics  Transformed             Skewness   \n",
              "8        Summary  Statistics  Transformed    # Distinct Values   \n",
              "9    White Noise   Ljung-Box  Transformed       Test Statictic   \n",
              "10   White Noise   Ljung-Box  Transformed              p-value   \n",
              "11   White Noise   Ljung-Box  Transformed          White Noise   \n",
              "12  Stationarity         ADF  Transformed         Stationarity   \n",
              "13  Stationarity         ADF  Transformed              p-value   \n",
              "14  Stationarity         ADF  Transformed       Test Statistic   \n",
              "15  Stationarity         ADF  Transformed    Critical Value 1%   \n",
              "16  Stationarity         ADF  Transformed    Critical Value 5%   \n",
              "17  Stationarity         ADF  Transformed   Critical Value 10%   \n",
              "18  Stationarity        KPSS  Transformed   Trend Stationarity   \n",
              "19  Stationarity        KPSS  Transformed              p-value   \n",
              "20  Stationarity        KPSS  Transformed       Test Statistic   \n",
              "21  Stationarity        KPSS  Transformed   Critical Value 10%   \n",
              "22  Stationarity        KPSS  Transformed    Critical Value 5%   \n",
              "23  Stationarity        KPSS  Transformed  Critical Value 2.5%   \n",
              "24  Stationarity        KPSS  Transformed    Critical Value 1%   \n",
              "25     Normality     Shapiro  Transformed            Normality   \n",
              "26     Normality     Shapiro  Transformed              p-value   \n",
              "\n",
              "                     Setting                 Value  \n",
              "0                                             31.0  \n",
              "1                                              0.0  \n",
              "2                                   2106550.300968  \n",
              "3                                        1924705.0  \n",
              "4                                    1072443.45249  \n",
              "5                             1150134958787.785645  \n",
              "6                                         4.807612  \n",
              "7                                         1.502638  \n",
              "8                                             31.0  \n",
              "9   {'alpha': 0.05, 'K': 24}              32.53716  \n",
              "10  {'alpha': 0.05, 'K': 24}              0.114222  \n",
              "11  {'alpha': 0.05, 'K': 24}                  True  \n",
              "12           {'alpha': 0.05}                  True  \n",
              "13           {'alpha': 0.05}              0.001907  \n",
              "14           {'alpha': 0.05}             -3.917951  \n",
              "15           {'alpha': 0.05}              -3.66992  \n",
              "16           {'alpha': 0.05}             -2.964071  \n",
              "17           {'alpha': 0.05}             -2.621171  \n",
              "18           {'alpha': 0.05}                  True  \n",
              "19           {'alpha': 0.05}                   0.1  \n",
              "20           {'alpha': 0.05}              0.070998  \n",
              "21           {'alpha': 0.05}                 0.119  \n",
              "22           {'alpha': 0.05}                 0.146  \n",
              "23           {'alpha': 0.05}                 0.176  \n",
              "24           {'alpha': 0.05}                 0.216  \n",
              "25           {'alpha': 0.05}                 False  \n",
              "26           {'alpha': 0.05}              0.002904  "
            ],
            "text/html": [
              "\n",
              "  <div id=\"df-de7f5f85-457e-4883-b5db-6a045871a91b\">\n",
              "    <div class=\"colab-df-container\">\n",
              "      <div>\n",
              "<style scoped>\n",
              "    .dataframe tbody tr th:only-of-type {\n",
              "        vertical-align: middle;\n",
              "    }\n",
              "\n",
              "    .dataframe tbody tr th {\n",
              "        vertical-align: top;\n",
              "    }\n",
              "\n",
              "    .dataframe thead th {\n",
              "        text-align: right;\n",
              "    }\n",
              "</style>\n",
              "<table border=\"1\" class=\"dataframe\">\n",
              "  <thead>\n",
              "    <tr style=\"text-align: right;\">\n",
              "      <th></th>\n",
              "      <th>Test</th>\n",
              "      <th>Test Name</th>\n",
              "      <th>Data</th>\n",
              "      <th>Property</th>\n",
              "      <th>Setting</th>\n",
              "      <th>Value</th>\n",
              "    </tr>\n",
              "  </thead>\n",
              "  <tbody>\n",
              "    <tr>\n",
              "      <th>0</th>\n",
              "      <td>Summary</td>\n",
              "      <td>Statistics</td>\n",
              "      <td>Transformed</td>\n",
              "      <td>Length</td>\n",
              "      <td></td>\n",
              "      <td>31.0</td>\n",
              "    </tr>\n",
              "    <tr>\n",
              "      <th>1</th>\n",
              "      <td>Summary</td>\n",
              "      <td>Statistics</td>\n",
              "      <td>Transformed</td>\n",
              "      <td># Missing Values</td>\n",
              "      <td></td>\n",
              "      <td>0.0</td>\n",
              "    </tr>\n",
              "    <tr>\n",
              "      <th>2</th>\n",
              "      <td>Summary</td>\n",
              "      <td>Statistics</td>\n",
              "      <td>Transformed</td>\n",
              "      <td>Mean</td>\n",
              "      <td></td>\n",
              "      <td>2106550.300968</td>\n",
              "    </tr>\n",
              "    <tr>\n",
              "      <th>3</th>\n",
              "      <td>Summary</td>\n",
              "      <td>Statistics</td>\n",
              "      <td>Transformed</td>\n",
              "      <td>Median</td>\n",
              "      <td></td>\n",
              "      <td>1924705.0</td>\n",
              "    </tr>\n",
              "    <tr>\n",
              "      <th>4</th>\n",
              "      <td>Summary</td>\n",
              "      <td>Statistics</td>\n",
              "      <td>Transformed</td>\n",
              "      <td>Standard Deviation</td>\n",
              "      <td></td>\n",
              "      <td>1072443.45249</td>\n",
              "    </tr>\n",
              "    <tr>\n",
              "      <th>5</th>\n",
              "      <td>Summary</td>\n",
              "      <td>Statistics</td>\n",
              "      <td>Transformed</td>\n",
              "      <td>Variance</td>\n",
              "      <td></td>\n",
              "      <td>1150134958787.785645</td>\n",
              "    </tr>\n",
              "    <tr>\n",
              "      <th>6</th>\n",
              "      <td>Summary</td>\n",
              "      <td>Statistics</td>\n",
              "      <td>Transformed</td>\n",
              "      <td>Kurtosis</td>\n",
              "      <td></td>\n",
              "      <td>4.807612</td>\n",
              "    </tr>\n",
              "    <tr>\n",
              "      <th>7</th>\n",
              "      <td>Summary</td>\n",
              "      <td>Statistics</td>\n",
              "      <td>Transformed</td>\n",
              "      <td>Skewness</td>\n",
              "      <td></td>\n",
              "      <td>1.502638</td>\n",
              "    </tr>\n",
              "    <tr>\n",
              "      <th>8</th>\n",
              "      <td>Summary</td>\n",
              "      <td>Statistics</td>\n",
              "      <td>Transformed</td>\n",
              "      <td># Distinct Values</td>\n",
              "      <td></td>\n",
              "      <td>31.0</td>\n",
              "    </tr>\n",
              "    <tr>\n",
              "      <th>9</th>\n",
              "      <td>White Noise</td>\n",
              "      <td>Ljung-Box</td>\n",
              "      <td>Transformed</td>\n",
              "      <td>Test Statictic</td>\n",
              "      <td>{'alpha': 0.05, 'K': 24}</td>\n",
              "      <td>32.53716</td>\n",
              "    </tr>\n",
              "    <tr>\n",
              "      <th>10</th>\n",
              "      <td>White Noise</td>\n",
              "      <td>Ljung-Box</td>\n",
              "      <td>Transformed</td>\n",
              "      <td>p-value</td>\n",
              "      <td>{'alpha': 0.05, 'K': 24}</td>\n",
              "      <td>0.114222</td>\n",
              "    </tr>\n",
              "    <tr>\n",
              "      <th>11</th>\n",
              "      <td>White Noise</td>\n",
              "      <td>Ljung-Box</td>\n",
              "      <td>Transformed</td>\n",
              "      <td>White Noise</td>\n",
              "      <td>{'alpha': 0.05, 'K': 24}</td>\n",
              "      <td>True</td>\n",
              "    </tr>\n",
              "    <tr>\n",
              "      <th>12</th>\n",
              "      <td>Stationarity</td>\n",
              "      <td>ADF</td>\n",
              "      <td>Transformed</td>\n",
              "      <td>Stationarity</td>\n",
              "      <td>{'alpha': 0.05}</td>\n",
              "      <td>True</td>\n",
              "    </tr>\n",
              "    <tr>\n",
              "      <th>13</th>\n",
              "      <td>Stationarity</td>\n",
              "      <td>ADF</td>\n",
              "      <td>Transformed</td>\n",
              "      <td>p-value</td>\n",
              "      <td>{'alpha': 0.05}</td>\n",
              "      <td>0.001907</td>\n",
              "    </tr>\n",
              "    <tr>\n",
              "      <th>14</th>\n",
              "      <td>Stationarity</td>\n",
              "      <td>ADF</td>\n",
              "      <td>Transformed</td>\n",
              "      <td>Test Statistic</td>\n",
              "      <td>{'alpha': 0.05}</td>\n",
              "      <td>-3.917951</td>\n",
              "    </tr>\n",
              "    <tr>\n",
              "      <th>15</th>\n",
              "      <td>Stationarity</td>\n",
              "      <td>ADF</td>\n",
              "      <td>Transformed</td>\n",
              "      <td>Critical Value 1%</td>\n",
              "      <td>{'alpha': 0.05}</td>\n",
              "      <td>-3.66992</td>\n",
              "    </tr>\n",
              "    <tr>\n",
              "      <th>16</th>\n",
              "      <td>Stationarity</td>\n",
              "      <td>ADF</td>\n",
              "      <td>Transformed</td>\n",
              "      <td>Critical Value 5%</td>\n",
              "      <td>{'alpha': 0.05}</td>\n",
              "      <td>-2.964071</td>\n",
              "    </tr>\n",
              "    <tr>\n",
              "      <th>17</th>\n",
              "      <td>Stationarity</td>\n",
              "      <td>ADF</td>\n",
              "      <td>Transformed</td>\n",
              "      <td>Critical Value 10%</td>\n",
              "      <td>{'alpha': 0.05}</td>\n",
              "      <td>-2.621171</td>\n",
              "    </tr>\n",
              "    <tr>\n",
              "      <th>18</th>\n",
              "      <td>Stationarity</td>\n",
              "      <td>KPSS</td>\n",
              "      <td>Transformed</td>\n",
              "      <td>Trend Stationarity</td>\n",
              "      <td>{'alpha': 0.05}</td>\n",
              "      <td>True</td>\n",
              "    </tr>\n",
              "    <tr>\n",
              "      <th>19</th>\n",
              "      <td>Stationarity</td>\n",
              "      <td>KPSS</td>\n",
              "      <td>Transformed</td>\n",
              "      <td>p-value</td>\n",
              "      <td>{'alpha': 0.05}</td>\n",
              "      <td>0.1</td>\n",
              "    </tr>\n",
              "    <tr>\n",
              "      <th>20</th>\n",
              "      <td>Stationarity</td>\n",
              "      <td>KPSS</td>\n",
              "      <td>Transformed</td>\n",
              "      <td>Test Statistic</td>\n",
              "      <td>{'alpha': 0.05}</td>\n",
              "      <td>0.070998</td>\n",
              "    </tr>\n",
              "    <tr>\n",
              "      <th>21</th>\n",
              "      <td>Stationarity</td>\n",
              "      <td>KPSS</td>\n",
              "      <td>Transformed</td>\n",
              "      <td>Critical Value 10%</td>\n",
              "      <td>{'alpha': 0.05}</td>\n",
              "      <td>0.119</td>\n",
              "    </tr>\n",
              "    <tr>\n",
              "      <th>22</th>\n",
              "      <td>Stationarity</td>\n",
              "      <td>KPSS</td>\n",
              "      <td>Transformed</td>\n",
              "      <td>Critical Value 5%</td>\n",
              "      <td>{'alpha': 0.05}</td>\n",
              "      <td>0.146</td>\n",
              "    </tr>\n",
              "    <tr>\n",
              "      <th>23</th>\n",
              "      <td>Stationarity</td>\n",
              "      <td>KPSS</td>\n",
              "      <td>Transformed</td>\n",
              "      <td>Critical Value 2.5%</td>\n",
              "      <td>{'alpha': 0.05}</td>\n",
              "      <td>0.176</td>\n",
              "    </tr>\n",
              "    <tr>\n",
              "      <th>24</th>\n",
              "      <td>Stationarity</td>\n",
              "      <td>KPSS</td>\n",
              "      <td>Transformed</td>\n",
              "      <td>Critical Value 1%</td>\n",
              "      <td>{'alpha': 0.05}</td>\n",
              "      <td>0.216</td>\n",
              "    </tr>\n",
              "    <tr>\n",
              "      <th>25</th>\n",
              "      <td>Normality</td>\n",
              "      <td>Shapiro</td>\n",
              "      <td>Transformed</td>\n",
              "      <td>Normality</td>\n",
              "      <td>{'alpha': 0.05}</td>\n",
              "      <td>False</td>\n",
              "    </tr>\n",
              "    <tr>\n",
              "      <th>26</th>\n",
              "      <td>Normality</td>\n",
              "      <td>Shapiro</td>\n",
              "      <td>Transformed</td>\n",
              "      <td>p-value</td>\n",
              "      <td>{'alpha': 0.05}</td>\n",
              "      <td>0.002904</td>\n",
              "    </tr>\n",
              "  </tbody>\n",
              "</table>\n",
              "</div>\n",
              "      <button class=\"colab-df-convert\" onclick=\"convertToInteractive('df-de7f5f85-457e-4883-b5db-6a045871a91b')\"\n",
              "              title=\"Convert this dataframe to an interactive table.\"\n",
              "              style=\"display:none;\">\n",
              "        \n",
              "  <svg xmlns=\"http://www.w3.org/2000/svg\" height=\"24px\"viewBox=\"0 0 24 24\"\n",
              "       width=\"24px\">\n",
              "    <path d=\"M0 0h24v24H0V0z\" fill=\"none\"/>\n",
              "    <path d=\"M18.56 5.44l.94 2.06.94-2.06 2.06-.94-2.06-.94-.94-2.06-.94 2.06-2.06.94zm-11 1L8.5 8.5l.94-2.06 2.06-.94-2.06-.94L8.5 2.5l-.94 2.06-2.06.94zm10 10l.94 2.06.94-2.06 2.06-.94-2.06-.94-.94-2.06-.94 2.06-2.06.94z\"/><path d=\"M17.41 7.96l-1.37-1.37c-.4-.4-.92-.59-1.43-.59-.52 0-1.04.2-1.43.59L10.3 9.45l-7.72 7.72c-.78.78-.78 2.05 0 2.83L4 21.41c.39.39.9.59 1.41.59.51 0 1.02-.2 1.41-.59l7.78-7.78 2.81-2.81c.8-.78.8-2.07 0-2.86zM5.41 20L4 18.59l7.72-7.72 1.47 1.35L5.41 20z\"/>\n",
              "  </svg>\n",
              "      </button>\n",
              "      \n",
              "  <style>\n",
              "    .colab-df-container {\n",
              "      display:flex;\n",
              "      flex-wrap:wrap;\n",
              "      gap: 12px;\n",
              "    }\n",
              "\n",
              "    .colab-df-convert {\n",
              "      background-color: #E8F0FE;\n",
              "      border: none;\n",
              "      border-radius: 50%;\n",
              "      cursor: pointer;\n",
              "      display: none;\n",
              "      fill: #1967D2;\n",
              "      height: 32px;\n",
              "      padding: 0 0 0 0;\n",
              "      width: 32px;\n",
              "    }\n",
              "\n",
              "    .colab-df-convert:hover {\n",
              "      background-color: #E2EBFA;\n",
              "      box-shadow: 0px 1px 2px rgba(60, 64, 67, 0.3), 0px 1px 3px 1px rgba(60, 64, 67, 0.15);\n",
              "      fill: #174EA6;\n",
              "    }\n",
              "\n",
              "    [theme=dark] .colab-df-convert {\n",
              "      background-color: #3B4455;\n",
              "      fill: #D2E3FC;\n",
              "    }\n",
              "\n",
              "    [theme=dark] .colab-df-convert:hover {\n",
              "      background-color: #434B5C;\n",
              "      box-shadow: 0px 1px 3px 1px rgba(0, 0, 0, 0.15);\n",
              "      filter: drop-shadow(0px 1px 2px rgba(0, 0, 0, 0.3));\n",
              "      fill: #FFFFFF;\n",
              "    }\n",
              "  </style>\n",
              "\n",
              "      <script>\n",
              "        const buttonEl =\n",
              "          document.querySelector('#df-de7f5f85-457e-4883-b5db-6a045871a91b button.colab-df-convert');\n",
              "        buttonEl.style.display =\n",
              "          google.colab.kernel.accessAllowed ? 'block' : 'none';\n",
              "\n",
              "        async function convertToInteractive(key) {\n",
              "          const element = document.querySelector('#df-de7f5f85-457e-4883-b5db-6a045871a91b');\n",
              "          const dataTable =\n",
              "            await google.colab.kernel.invokeFunction('convertToInteractive',\n",
              "                                                     [key], {});\n",
              "          if (!dataTable) return;\n",
              "\n",
              "          const docLinkHtml = 'Like what you see? Visit the ' +\n",
              "            '<a target=\"_blank\" href=https://colab.research.google.com/notebooks/data_table.ipynb>data table notebook</a>'\n",
              "            + ' to learn more about interactive tables.';\n",
              "          element.innerHTML = '';\n",
              "          dataTable['output_type'] = 'display_data';\n",
              "          await google.colab.output.renderOutput(dataTable, element);\n",
              "          const docLink = document.createElement('div');\n",
              "          docLink.innerHTML = docLinkHtml;\n",
              "          element.appendChild(docLink);\n",
              "        }\n",
              "      </script>\n",
              "    </div>\n",
              "  </div>\n",
              "  "
            ]
          },
          "metadata": {},
          "execution_count": 217
        }
      ]
    },
    {
      "cell_type": "code",
      "source": [
        "modelo_naive = create_model('grand_means')"
      ],
      "metadata": {
        "id": "gd3aHZGCeoRI",
        "colab": {
          "base_uri": "https://localhost:8080/",
          "height": 206,
          "referenced_widgets": [
            "5013455f5cd4498f97c85232554df7f5",
            "d56a040afb1f4a61a4f80eb6061a2190",
            "b28023559a2f4b90b7d370915cb2af9d",
            "c2d09d7256404c4db1b90316a4529013",
            "f4507abb260a4d35b11df5d438f9d5a8",
            "c27e2bf4533b4c4f8c9740983e01d72d",
            "ab58bafbea1248069e5d793e4853a9a1",
            "79ddc6b59e8543218c79f0d5877f98ea",
            "ef1745060d174a38b57e2284b9e705c1",
            "58aebf00102344a590cbdf2a04f7b080",
            "7f49fb58f71845c9abbc168799000739"
          ]
        },
        "outputId": "7a71b3ab-376b-455c-f44c-b2b71309cd47"
      },
      "execution_count": null,
      "outputs": [
        {
          "output_type": "display_data",
          "data": {
            "text/plain": [
              "<IPython.core.display.HTML object>"
            ],
            "text/html": []
          },
          "metadata": {}
        },
        {
          "output_type": "display_data",
          "data": {
            "text/plain": [
              "<pandas.io.formats.style.Styler at 0x7fe7d4360d00>"
            ],
            "text/html": [
              "<style type=\"text/css\">\n",
              "#T_f1b41_row3_col0, #T_f1b41_row3_col1, #T_f1b41_row3_col2, #T_f1b41_row3_col3, #T_f1b41_row3_col4, #T_f1b41_row3_col5, #T_f1b41_row3_col6, #T_f1b41_row3_col7 {\n",
              "  background: yellow;\n",
              "}\n",
              "</style>\n",
              "<table id=\"T_f1b41\" class=\"dataframe\">\n",
              "  <thead>\n",
              "    <tr>\n",
              "      <th class=\"blank level0\" >&nbsp;</th>\n",
              "      <th id=\"T_f1b41_level0_col0\" class=\"col_heading level0 col0\" >cutoff</th>\n",
              "      <th id=\"T_f1b41_level0_col1\" class=\"col_heading level0 col1\" >MASE</th>\n",
              "      <th id=\"T_f1b41_level0_col2\" class=\"col_heading level0 col2\" >RMSSE</th>\n",
              "      <th id=\"T_f1b41_level0_col3\" class=\"col_heading level0 col3\" >MAE</th>\n",
              "      <th id=\"T_f1b41_level0_col4\" class=\"col_heading level0 col4\" >RMSE</th>\n",
              "      <th id=\"T_f1b41_level0_col5\" class=\"col_heading level0 col5\" >MAPE</th>\n",
              "      <th id=\"T_f1b41_level0_col6\" class=\"col_heading level0 col6\" >SMAPE</th>\n",
              "      <th id=\"T_f1b41_level0_col7\" class=\"col_heading level0 col7\" >R2</th>\n",
              "    </tr>\n",
              "  </thead>\n",
              "  <tbody>\n",
              "    <tr>\n",
              "      <th id=\"T_f1b41_level0_row0\" class=\"row_heading level0 row0\" >0</th>\n",
              "      <td id=\"T_f1b41_row0_col0\" class=\"data row0 col0\" >18.0000</td>\n",
              "      <td id=\"T_f1b41_row0_col1\" class=\"data row0 col1\" >1.7884</td>\n",
              "      <td id=\"T_f1b41_row0_col2\" class=\"data row0 col2\" >1.6362</td>\n",
              "      <td id=\"T_f1b41_row0_col3\" class=\"data row0 col3\" >808347.3751</td>\n",
              "      <td id=\"T_f1b41_row0_col4\" class=\"data row0 col4\" >1039394.6166</td>\n",
              "      <td id=\"T_f1b41_row0_col5\" class=\"data row0 col5\" >0.2836</td>\n",
              "      <td id=\"T_f1b41_row0_col6\" class=\"data row0 col6\" >0.3396</td>\n",
              "      <td id=\"T_f1b41_row0_col7\" class=\"data row0 col7\" >-0.6097</td>\n",
              "    </tr>\n",
              "    <tr>\n",
              "      <th id=\"T_f1b41_level0_row1\" class=\"row_heading level0 row1\" >1</th>\n",
              "      <td id=\"T_f1b41_row1_col0\" class=\"data row1 col0\" >21.0000</td>\n",
              "      <td id=\"T_f1b41_row1_col1\" class=\"data row1 col1\" >0.1482</td>\n",
              "      <td id=\"T_f1b41_row1_col2\" class=\"data row1 col2\" >0.1219</td>\n",
              "      <td id=\"T_f1b41_row1_col3\" class=\"data row1 col3\" >80486.2245</td>\n",
              "      <td id=\"T_f1b41_row1_col4\" class=\"data row1 col4\" >95250.7654</td>\n",
              "      <td id=\"T_f1b41_row1_col5\" class=\"data row1 col5\" >0.0453</td>\n",
              "      <td id=\"T_f1b41_row1_col6\" class=\"data row1 col6\" >0.0439</td>\n",
              "      <td id=\"T_f1b41_row1_col7\" class=\"data row1 col7\" >-2.4967</td>\n",
              "    </tr>\n",
              "    <tr>\n",
              "      <th id=\"T_f1b41_level0_row2\" class=\"row_heading level0 row2\" >2</th>\n",
              "      <td id=\"T_f1b41_row2_col0\" class=\"data row2 col0\" >24.0000</td>\n",
              "      <td id=\"T_f1b41_row2_col1\" class=\"data row2 col1\" >4.5013</td>\n",
              "      <td id=\"T_f1b41_row2_col2\" class=\"data row2 col2\" >3.5163</td>\n",
              "      <td id=\"T_f1b41_row2_col3\" class=\"data row2 col3\" >2229064.3491</td>\n",
              "      <td id=\"T_f1b41_row2_col4\" class=\"data row2 col4\" >2584024.5411</td>\n",
              "      <td id=\"T_f1b41_row2_col5\" class=\"data row2 col5\" >0.5012</td>\n",
              "      <td id=\"T_f1b41_row2_col6\" class=\"data row2 col6\" >0.6903</td>\n",
              "      <td id=\"T_f1b41_row2_col7\" class=\"data row2 col7\" >-2.9083</td>\n",
              "    </tr>\n",
              "    <tr>\n",
              "      <th id=\"T_f1b41_level0_row3\" class=\"row_heading level0 row3\" >Mean</th>\n",
              "      <td id=\"T_f1b41_row3_col0\" class=\"data row3 col0\" >nan</td>\n",
              "      <td id=\"T_f1b41_row3_col1\" class=\"data row3 col1\" >2.1459</td>\n",
              "      <td id=\"T_f1b41_row3_col2\" class=\"data row3 col2\" >1.7582</td>\n",
              "      <td id=\"T_f1b41_row3_col3\" class=\"data row3 col3\" >1039299.3162</td>\n",
              "      <td id=\"T_f1b41_row3_col4\" class=\"data row3 col4\" >1239556.6411</td>\n",
              "      <td id=\"T_f1b41_row3_col5\" class=\"data row3 col5\" >0.2767</td>\n",
              "      <td id=\"T_f1b41_row3_col6\" class=\"data row3 col6\" >0.3579</td>\n",
              "      <td id=\"T_f1b41_row3_col7\" class=\"data row3 col7\" >-2.0049</td>\n",
              "    </tr>\n",
              "    <tr>\n",
              "      <th id=\"T_f1b41_level0_row4\" class=\"row_heading level0 row4\" >SD</th>\n",
              "      <td id=\"T_f1b41_row4_col0\" class=\"data row4 col0\" >nan</td>\n",
              "      <td id=\"T_f1b41_row4_col1\" class=\"data row4 col1\" >1.7950</td>\n",
              "      <td id=\"T_f1b41_row4_col2\" class=\"data row4 col2\" >1.3884</td>\n",
              "      <td id=\"T_f1b41_row4_col3\" class=\"data row4 col3\" >892226.0882</td>\n",
              "      <td id=\"T_f1b41_row4_col4\" class=\"data row4 col4\" >1025848.3818</td>\n",
              "      <td id=\"T_f1b41_row4_col5\" class=\"data row4 col5\" >0.1862</td>\n",
              "      <td id=\"T_f1b41_row4_col6\" class=\"data row4 col6\" >0.2642</td>\n",
              "      <td id=\"T_f1b41_row4_col7\" class=\"data row4 col7\" >1.0007</td>\n",
              "    </tr>\n",
              "  </tbody>\n",
              "</table>\n"
            ]
          },
          "metadata": {}
        },
        {
          "output_type": "display_data",
          "data": {
            "text/plain": [
              "Processing:   0%|          | 0/4 [00:00<?, ?it/s]"
            ],
            "application/vnd.jupyter.widget-view+json": {
              "version_major": 2,
              "version_minor": 0,
              "model_id": "5013455f5cd4498f97c85232554df7f5"
            }
          },
          "metadata": {
            "application/vnd.jupyter.widget-view+json": {
              "colab": {
                "custom_widget_manager": {
                  "url": "https://ssl.gstatic.com/colaboratory-static/widgets/colab-cdn-widget-manager/b3e629b1971e1542/manager.min.js"
                }
              }
            }
          }
        },
        {
          "output_type": "display_data",
          "data": {
            "text/plain": [
              "<IPython.core.display.HTML object>"
            ],
            "text/html": []
          },
          "metadata": {}
        }
      ]
    },
    {
      "cell_type": "code",
      "source": [
        "# Decomposição da Serie Historica\n",
        "plot_model(modelo_naive, plot = 'decomp_stl')"
      ],
      "metadata": {
        "colab": {
          "base_uri": "https://localhost:8080/"
        },
        "id": "jFbIOw1CHPPm",
        "outputId": "1ed31b92-efaa-4b2d-8087-9ad7082c6af6"
      },
      "execution_count": null,
      "outputs": [
        {
          "output_type": "stream",
          "name": "stdout",
          "text": [
            "Decomposition is currently not supported for pandas dataframes without a PeriodIndex or DatetimeIndex. Please specify a PeriodIndex or DatetimeIndex in setup() before plotting decomposition plots.\n"
          ]
        }
      ]
    },
    {
      "cell_type": "code",
      "source": [
        "plot_model(modelo_naive, plot='train_test_split')"
      ],
      "metadata": {
        "colab": {
          "base_uri": "https://localhost:8080/",
          "height": 542
        },
        "id": "PTOTEUWrH3vr",
        "outputId": "3a928a98-9cd4-494e-ccc7-36a7f97f4fee"
      },
      "execution_count": null,
      "outputs": [
        {
          "output_type": "display_data",
          "data": {
            "text/html": [
              "<html>\n",
              "<head><meta charset=\"utf-8\" /></head>\n",
              "<body>\n",
              "    <div>            <script src=\"https://cdnjs.cloudflare.com/ajax/libs/mathjax/2.7.5/MathJax.js?config=TeX-AMS-MML_SVG\"></script><script type=\"text/javascript\">if (window.MathJax && window.MathJax.Hub && window.MathJax.Hub.Config) {window.MathJax.Hub.Config({SVG: {font: \"STIX-Web\"}});}</script>                <script type=\"text/javascript\">window.PlotlyConfig = {MathJaxConfig: 'local'};</script>\n",
              "        <script src=\"https://cdn.plot.ly/plotly-2.18.2.min.js\"></script>                <div id=\"6b77de08-6a17-4210-8afd-91498edbf3b2\" class=\"plotly-graph-div\" style=\"height:525px; width:100%;\"></div>            <script type=\"text/javascript\">                                    window.PLOTLYENV=window.PLOTLYENV || {};                                    if (document.getElementById(\"6b77de08-6a17-4210-8afd-91498edbf3b2\")) {                    Plotly.newPlot(                        \"6b77de08-6a17-4210-8afd-91498edbf3b2\",                        [{\"line\":{\"color\":\"rgb(31, 119, 180)\",\"width\":2},\"marker\":{\"color\":\"rgb(31, 119, 180)\",\"size\":5},\"mode\":\"lines+markers\",\"name\":\"Train (original)\",\"x\":[0,1,2,3,4,5,6,7,8,9,10,11,12,13,14,15,16,17,18,19,20,21,22,23,24,25,26,27,28,29,30],\"y\":[4000.0,729109.0,888892.0,1791860.0,2419661.0,1936979.0,1812086.0,2097503.0,2099390.0,3873074.0,2699817.0,2272082.0,2000590.0,1924705.0,1900533.0,1536550.0,1182386.0,1542140.79,1540693.94,1549765.0,3528339.07,2249207.62,1881120.08,1780248.12,1767086.32,5957857.69,3189824.42,3180449.09,null,null,null],\"type\":\"scattergl\",\"xaxis\":\"x\",\"yaxis\":\"y\"},{\"line\":{\"color\":\"rgb(255, 127, 14)\",\"width\":2},\"marker\":{\"color\":\"rgb(255, 127, 14)\",\"size\":5},\"mode\":\"lines+markers\",\"name\":\"Test (original)\",\"x\":[0,1,2,3,4,5,6,7,8,9,10,11,12,13,14,15,16,17,18,19,20,21,22,23,24,25,26,27,28,29,30],\"y\":[null,null,null,null,null,null,null,null,null,null,null,null,null,null,null,null,null,null,null,null,null,null,null,null,null,null,null,null,2544175.32,2302571.91,1120362.96],\"type\":\"scattergl\",\"xaxis\":\"x\",\"yaxis\":\"y\"}],                        {\"template\":{\"data\":{\"barpolar\":[{\"marker\":{\"line\":{\"color\":\"rgb(237,237,237)\",\"width\":0.5},\"pattern\":{\"fillmode\":\"overlay\",\"size\":10,\"solidity\":0.2}},\"type\":\"barpolar\"}],\"bar\":[{\"error_x\":{\"color\":\"rgb(51,51,51)\"},\"error_y\":{\"color\":\"rgb(51,51,51)\"},\"marker\":{\"line\":{\"color\":\"rgb(237,237,237)\",\"width\":0.5},\"pattern\":{\"fillmode\":\"overlay\",\"size\":10,\"solidity\":0.2}},\"type\":\"bar\"}],\"carpet\":[{\"aaxis\":{\"endlinecolor\":\"rgb(51,51,51)\",\"gridcolor\":\"white\",\"linecolor\":\"white\",\"minorgridcolor\":\"white\",\"startlinecolor\":\"rgb(51,51,51)\"},\"baxis\":{\"endlinecolor\":\"rgb(51,51,51)\",\"gridcolor\":\"white\",\"linecolor\":\"white\",\"minorgridcolor\":\"white\",\"startlinecolor\":\"rgb(51,51,51)\"},\"type\":\"carpet\"}],\"choropleth\":[{\"colorbar\":{\"outlinewidth\":0,\"tickcolor\":\"rgb(237,237,237)\",\"ticklen\":6,\"ticks\":\"inside\"},\"type\":\"choropleth\"}],\"contourcarpet\":[{\"colorbar\":{\"outlinewidth\":0,\"tickcolor\":\"rgb(237,237,237)\",\"ticklen\":6,\"ticks\":\"inside\"},\"type\":\"contourcarpet\"}],\"contour\":[{\"colorbar\":{\"outlinewidth\":0,\"tickcolor\":\"rgb(237,237,237)\",\"ticklen\":6,\"ticks\":\"inside\"},\"colorscale\":[[0,\"rgb(20,44,66)\"],[1,\"rgb(90,179,244)\"]],\"type\":\"contour\"}],\"heatmapgl\":[{\"colorbar\":{\"outlinewidth\":0,\"tickcolor\":\"rgb(237,237,237)\",\"ticklen\":6,\"ticks\":\"inside\"},\"colorscale\":[[0,\"rgb(20,44,66)\"],[1,\"rgb(90,179,244)\"]],\"type\":\"heatmapgl\"}],\"heatmap\":[{\"colorbar\":{\"outlinewidth\":0,\"tickcolor\":\"rgb(237,237,237)\",\"ticklen\":6,\"ticks\":\"inside\"},\"colorscale\":[[0,\"rgb(20,44,66)\"],[1,\"rgb(90,179,244)\"]],\"type\":\"heatmap\"}],\"histogram2dcontour\":[{\"colorbar\":{\"outlinewidth\":0,\"tickcolor\":\"rgb(237,237,237)\",\"ticklen\":6,\"ticks\":\"inside\"},\"colorscale\":[[0,\"rgb(20,44,66)\"],[1,\"rgb(90,179,244)\"]],\"type\":\"histogram2dcontour\"}],\"histogram2d\":[{\"colorbar\":{\"outlinewidth\":0,\"tickcolor\":\"rgb(237,237,237)\",\"ticklen\":6,\"ticks\":\"inside\"},\"colorscale\":[[0,\"rgb(20,44,66)\"],[1,\"rgb(90,179,244)\"]],\"type\":\"histogram2d\"}],\"histogram\":[{\"marker\":{\"pattern\":{\"fillmode\":\"overlay\",\"size\":10,\"solidity\":0.2}},\"type\":\"histogram\"}],\"mesh3d\":[{\"colorbar\":{\"outlinewidth\":0,\"tickcolor\":\"rgb(237,237,237)\",\"ticklen\":6,\"ticks\":\"inside\"},\"type\":\"mesh3d\"}],\"parcoords\":[{\"line\":{\"colorbar\":{\"outlinewidth\":0,\"tickcolor\":\"rgb(237,237,237)\",\"ticklen\":6,\"ticks\":\"inside\"}},\"type\":\"parcoords\"}],\"pie\":[{\"automargin\":true,\"type\":\"pie\"}],\"scatter3d\":[{\"line\":{\"colorbar\":{\"outlinewidth\":0,\"tickcolor\":\"rgb(237,237,237)\",\"ticklen\":6,\"ticks\":\"inside\"}},\"marker\":{\"colorbar\":{\"outlinewidth\":0,\"tickcolor\":\"rgb(237,237,237)\",\"ticklen\":6,\"ticks\":\"inside\"}},\"type\":\"scatter3d\"}],\"scattercarpet\":[{\"marker\":{\"colorbar\":{\"outlinewidth\":0,\"tickcolor\":\"rgb(237,237,237)\",\"ticklen\":6,\"ticks\":\"inside\"}},\"type\":\"scattercarpet\"}],\"scattergeo\":[{\"marker\":{\"colorbar\":{\"outlinewidth\":0,\"tickcolor\":\"rgb(237,237,237)\",\"ticklen\":6,\"ticks\":\"inside\"}},\"type\":\"scattergeo\"}],\"scattergl\":[{\"marker\":{\"colorbar\":{\"outlinewidth\":0,\"tickcolor\":\"rgb(237,237,237)\",\"ticklen\":6,\"ticks\":\"inside\"}},\"type\":\"scattergl\"}],\"scattermapbox\":[{\"marker\":{\"colorbar\":{\"outlinewidth\":0,\"tickcolor\":\"rgb(237,237,237)\",\"ticklen\":6,\"ticks\":\"inside\"}},\"type\":\"scattermapbox\"}],\"scatterpolargl\":[{\"marker\":{\"colorbar\":{\"outlinewidth\":0,\"tickcolor\":\"rgb(237,237,237)\",\"ticklen\":6,\"ticks\":\"inside\"}},\"type\":\"scatterpolargl\"}],\"scatterpolar\":[{\"marker\":{\"colorbar\":{\"outlinewidth\":0,\"tickcolor\":\"rgb(237,237,237)\",\"ticklen\":6,\"ticks\":\"inside\"}},\"type\":\"scatterpolar\"}],\"scatter\":[{\"fillpattern\":{\"fillmode\":\"overlay\",\"size\":10,\"solidity\":0.2},\"type\":\"scatter\"}],\"scatterternary\":[{\"marker\":{\"colorbar\":{\"outlinewidth\":0,\"tickcolor\":\"rgb(237,237,237)\",\"ticklen\":6,\"ticks\":\"inside\"}},\"type\":\"scatterternary\"}],\"surface\":[{\"colorbar\":{\"outlinewidth\":0,\"tickcolor\":\"rgb(237,237,237)\",\"ticklen\":6,\"ticks\":\"inside\"},\"colorscale\":[[0,\"rgb(20,44,66)\"],[1,\"rgb(90,179,244)\"]],\"type\":\"surface\"}],\"table\":[{\"cells\":{\"fill\":{\"color\":\"rgb(237,237,237)\"},\"line\":{\"color\":\"white\"}},\"header\":{\"fill\":{\"color\":\"rgb(217,217,217)\"},\"line\":{\"color\":\"white\"}},\"type\":\"table\"}]},\"layout\":{\"annotationdefaults\":{\"arrowhead\":0,\"arrowwidth\":1},\"autotypenumbers\":\"strict\",\"coloraxis\":{\"colorbar\":{\"outlinewidth\":0,\"tickcolor\":\"rgb(237,237,237)\",\"ticklen\":6,\"ticks\":\"inside\"}},\"colorscale\":{\"sequential\":[[0,\"rgb(20,44,66)\"],[1,\"rgb(90,179,244)\"]],\"sequentialminus\":[[0,\"rgb(20,44,66)\"],[1,\"rgb(90,179,244)\"]]},\"colorway\":[\"#F8766D\",\"#A3A500\",\"#00BF7D\",\"#00B0F6\",\"#E76BF3\"],\"font\":{\"color\":\"rgb(51,51,51)\"},\"geo\":{\"bgcolor\":\"white\",\"lakecolor\":\"white\",\"landcolor\":\"rgb(237,237,237)\",\"showlakes\":true,\"showland\":true,\"subunitcolor\":\"white\"},\"hoverlabel\":{\"align\":\"left\"},\"hovermode\":\"closest\",\"paper_bgcolor\":\"white\",\"plot_bgcolor\":\"rgb(237,237,237)\",\"polar\":{\"angularaxis\":{\"gridcolor\":\"white\",\"linecolor\":\"white\",\"showgrid\":true,\"tickcolor\":\"rgb(51,51,51)\",\"ticks\":\"outside\"},\"bgcolor\":\"rgb(237,237,237)\",\"radialaxis\":{\"gridcolor\":\"white\",\"linecolor\":\"white\",\"showgrid\":true,\"tickcolor\":\"rgb(51,51,51)\",\"ticks\":\"outside\"}},\"scene\":{\"xaxis\":{\"backgroundcolor\":\"rgb(237,237,237)\",\"gridcolor\":\"white\",\"gridwidth\":2,\"linecolor\":\"white\",\"showbackground\":true,\"showgrid\":true,\"tickcolor\":\"rgb(51,51,51)\",\"ticks\":\"outside\",\"zerolinecolor\":\"white\"},\"yaxis\":{\"backgroundcolor\":\"rgb(237,237,237)\",\"gridcolor\":\"white\",\"gridwidth\":2,\"linecolor\":\"white\",\"showbackground\":true,\"showgrid\":true,\"tickcolor\":\"rgb(51,51,51)\",\"ticks\":\"outside\",\"zerolinecolor\":\"white\"},\"zaxis\":{\"backgroundcolor\":\"rgb(237,237,237)\",\"gridcolor\":\"white\",\"gridwidth\":2,\"linecolor\":\"white\",\"showbackground\":true,\"showgrid\":true,\"tickcolor\":\"rgb(51,51,51)\",\"ticks\":\"outside\",\"zerolinecolor\":\"white\"}},\"shapedefaults\":{\"fillcolor\":\"black\",\"line\":{\"width\":0},\"opacity\":0.3},\"ternary\":{\"aaxis\":{\"gridcolor\":\"white\",\"linecolor\":\"white\",\"showgrid\":true,\"tickcolor\":\"rgb(51,51,51)\",\"ticks\":\"outside\"},\"baxis\":{\"gridcolor\":\"white\",\"linecolor\":\"white\",\"showgrid\":true,\"tickcolor\":\"rgb(51,51,51)\",\"ticks\":\"outside\"},\"bgcolor\":\"rgb(237,237,237)\",\"caxis\":{\"gridcolor\":\"white\",\"linecolor\":\"white\",\"showgrid\":true,\"tickcolor\":\"rgb(51,51,51)\",\"ticks\":\"outside\"}},\"xaxis\":{\"automargin\":true,\"gridcolor\":\"white\",\"linecolor\":\"white\",\"showgrid\":true,\"tickcolor\":\"rgb(51,51,51)\",\"ticks\":\"outside\",\"title\":{\"standoff\":15},\"zerolinecolor\":\"white\"},\"yaxis\":{\"automargin\":true,\"gridcolor\":\"white\",\"linecolor\":\"white\",\"showgrid\":true,\"tickcolor\":\"rgb(51,51,51)\",\"ticks\":\"outside\",\"title\":{\"standoff\":15},\"zerolinecolor\":\"white\"}}},\"xaxis\":{\"anchor\":\"y\",\"domain\":[0.0,1.0]},\"yaxis\":{\"anchor\":\"x\",\"domain\":[0.0,1.0]},\"annotations\":[{\"font\":{\"size\":16},\"showarrow\":false,\"text\":\"ValorBase\",\"x\":0.5,\"xanchor\":\"center\",\"xref\":\"paper\",\"y\":1.0,\"yanchor\":\"bottom\",\"yref\":\"paper\"}],\"title\":{\"text\":\"Time Series | Target = ValorBase\"},\"showlegend\":true},                        {\"responsive\": true}                    ).then(function(){\n",
              "                            \n",
              "var gd = document.getElementById('6b77de08-6a17-4210-8afd-91498edbf3b2');\n",
              "var x = new MutationObserver(function (mutations, observer) {{\n",
              "        var display = window.getComputedStyle(gd).display;\n",
              "        if (!display || display === 'none') {{\n",
              "            console.log([gd, 'removed!']);\n",
              "            Plotly.purge(gd);\n",
              "            observer.disconnect();\n",
              "        }}\n",
              "}});\n",
              "\n",
              "// Listen for the removal of the full notebook cells\n",
              "var notebookContainer = gd.closest('#notebook-container');\n",
              "if (notebookContainer) {{\n",
              "    x.observe(notebookContainer, {childList: true});\n",
              "}}\n",
              "\n",
              "// Listen for the clearing of the current output cell\n",
              "var outputEl = gd.closest('.output');\n",
              "if (outputEl) {{\n",
              "    x.observe(outputEl, {childList: true});\n",
              "}}\n",
              "\n",
              "                        })                };                            </script>        </div>\n",
              "</body>\n",
              "</html>"
            ]
          },
          "metadata": {}
        }
      ]
    },
    {
      "cell_type": "code",
      "source": [
        "final = finalize_model(modelo_naive)\n",
        "final"
      ],
      "metadata": {
        "colab": {
          "base_uri": "https://localhost:8080/",
          "height": 110
        },
        "id": "nv1JpRkzJV9h",
        "outputId": "8a92f3e2-e92e-4010-8461-fe99c64fa870"
      },
      "execution_count": null,
      "outputs": [
        {
          "output_type": "execute_result",
          "data": {
            "text/plain": [
              "ForecastingPipeline(steps=[('forecaster',\n",
              "                            TransformedTargetForecaster(steps=[('model',\n",
              "                                                                NaiveForecaster(strategy='mean'))]))])"
            ],
            "text/html": [
              "<style>#sk-container-id-9 {color: black;background-color: white;}#sk-container-id-9 pre{padding: 0;}#sk-container-id-9 div.sk-toggleable {background-color: white;}#sk-container-id-9 label.sk-toggleable__label {cursor: pointer;display: block;width: 100%;margin-bottom: 0;padding: 0.3em;box-sizing: border-box;text-align: center;}#sk-container-id-9 label.sk-toggleable__label-arrow:before {content: \"▸\";float: left;margin-right: 0.25em;color: #696969;}#sk-container-id-9 label.sk-toggleable__label-arrow:hover:before {color: black;}#sk-container-id-9 div.sk-estimator:hover label.sk-toggleable__label-arrow:before {color: black;}#sk-container-id-9 div.sk-toggleable__content {max-height: 0;max-width: 0;overflow: hidden;text-align: left;background-color: #f0f8ff;}#sk-container-id-9 div.sk-toggleable__content pre {margin: 0.2em;color: black;border-radius: 0.25em;background-color: #f0f8ff;}#sk-container-id-9 input.sk-toggleable__control:checked~div.sk-toggleable__content {max-height: 200px;max-width: 100%;overflow: auto;}#sk-container-id-9 input.sk-toggleable__control:checked~label.sk-toggleable__label-arrow:before {content: \"▾\";}#sk-container-id-9 div.sk-estimator input.sk-toggleable__control:checked~label.sk-toggleable__label {background-color: #d4ebff;}#sk-container-id-9 div.sk-label input.sk-toggleable__control:checked~label.sk-toggleable__label {background-color: #d4ebff;}#sk-container-id-9 input.sk-hidden--visually {border: 0;clip: rect(1px 1px 1px 1px);clip: rect(1px, 1px, 1px, 1px);height: 1px;margin: -1px;overflow: hidden;padding: 0;position: absolute;width: 1px;}#sk-container-id-9 div.sk-estimator {font-family: monospace;background-color: #f0f8ff;border: 1px dotted black;border-radius: 0.25em;box-sizing: border-box;margin-bottom: 0.5em;}#sk-container-id-9 div.sk-estimator:hover {background-color: #d4ebff;}#sk-container-id-9 div.sk-parallel-item::after {content: \"\";width: 100%;border-bottom: 1px solid gray;flex-grow: 1;}#sk-container-id-9 div.sk-label:hover label.sk-toggleable__label {background-color: #d4ebff;}#sk-container-id-9 div.sk-serial::before {content: \"\";position: absolute;border-left: 1px solid gray;box-sizing: border-box;top: 0;bottom: 0;left: 50%;z-index: 0;}#sk-container-id-9 div.sk-serial {display: flex;flex-direction: column;align-items: center;background-color: white;padding-right: 0.2em;padding-left: 0.2em;position: relative;}#sk-container-id-9 div.sk-item {position: relative;z-index: 1;}#sk-container-id-9 div.sk-parallel {display: flex;align-items: stretch;justify-content: center;background-color: white;position: relative;}#sk-container-id-9 div.sk-item::before, #sk-container-id-9 div.sk-parallel-item::before {content: \"\";position: absolute;border-left: 1px solid gray;box-sizing: border-box;top: 0;bottom: 0;left: 50%;z-index: -1;}#sk-container-id-9 div.sk-parallel-item {display: flex;flex-direction: column;z-index: 1;position: relative;background-color: white;}#sk-container-id-9 div.sk-parallel-item:first-child::after {align-self: flex-end;width: 50%;}#sk-container-id-9 div.sk-parallel-item:last-child::after {align-self: flex-start;width: 50%;}#sk-container-id-9 div.sk-parallel-item:only-child::after {width: 0;}#sk-container-id-9 div.sk-dashed-wrapped {border: 1px dashed gray;margin: 0 0.4em 0.5em 0.4em;box-sizing: border-box;padding-bottom: 0.4em;background-color: white;}#sk-container-id-9 div.sk-label label {font-family: monospace;font-weight: bold;display: inline-block;line-height: 1.2em;}#sk-container-id-9 div.sk-label-container {text-align: center;}#sk-container-id-9 div.sk-container {/* jupyter's `normalize.less` sets `[hidden] { display: none; }` but bootstrap.min.css set `[hidden] { display: none !important; }` so we also need the `!important` here to be able to override the default hidden behavior on the sphinx rendered scikit-learn.org. See: https://github.com/scikit-learn/scikit-learn/issues/21755 */display: inline-block !important;position: relative;}#sk-container-id-9 div.sk-text-repr-fallback {display: none;}</style><div id=\"sk-container-id-9\" class=\"sk-top-container\"><div class=\"sk-text-repr-fallback\"><pre>ForecastingPipeline(steps=[(&#x27;forecaster&#x27;,\n",
              "                            TransformedTargetForecaster(steps=[(&#x27;model&#x27;,\n",
              "                                                                NaiveForecaster(strategy=&#x27;mean&#x27;))]))])</pre><b>In a Jupyter environment, please rerun this cell to show the HTML representation or trust the notebook. <br />On GitHub, the HTML representation is unable to render, please try loading this page with nbviewer.org.</b></div><div class=\"sk-container\" hidden><div class=\"sk-item\"><div class=\"sk-estimator sk-toggleable\"><input class=\"sk-toggleable__control sk-hidden--visually\" id=\"sk-estimator-id-9\" type=\"checkbox\" checked><label for=\"sk-estimator-id-9\" class=\"sk-toggleable__label sk-toggleable__label-arrow\">ForecastingPipeline</label><div class=\"sk-toggleable__content\"><pre>ForecastingPipeline(steps=[(&#x27;forecaster&#x27;,\n",
              "                            TransformedTargetForecaster(steps=[(&#x27;model&#x27;,\n",
              "                                                                NaiveForecaster(strategy=&#x27;mean&#x27;))]))])</pre></div></div></div></div></div>"
            ]
          },
          "metadata": {},
          "execution_count": 208
        }
      ]
    },
    {
      "cell_type": "code",
      "source": [
        "exogenous_data = df_federal['Selic'].to_frame().reset_index()\n",
        "exogenous_data['Data'] = pd.to_datetime(exogenous_data['Data'], format='%d/%m/%Y')\n",
        "exogenous_data = exogenous_data['Selic'].to_fram()\n",
        "exogenous_data"
      ],
      "metadata": {
        "id": "KMTY3jQVL3M0"
      },
      "execution_count": null,
      "outputs": []
    },
    {
      "cell_type": "code",
      "source": [
        "# algoritmo reconhece um impacto exogeno sobre a base de dados, identificar esta variavel a acrecentar no modelo\n",
        "\n",
        "plot_model(final, plot='forecast')"
      ],
      "metadata": {
        "id": "KFmZXUXcJL55"
      },
      "execution_count": null,
      "outputs": []
    },
    {
      "cell_type": "code",
      "source": [
        "# Fazer previsões usando o modelo treinado e as variáveis exógenas\n",
        "predictions = predict_model(final, data=exogenous_data)\n"
      ],
      "metadata": {
        "id": "edBoCAeTJ737"
      },
      "execution_count": null,
      "outputs": []
    }
  ]
}