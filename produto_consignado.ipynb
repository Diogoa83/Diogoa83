{
  "nbformat": 4,
  "nbformat_minor": 0,
  "metadata": {
    "colab": {
      "provenance": [],
      "mount_file_id": "1PCaeFcRh2MqR_6FjoQ_uMr-wqR8Vimy9",
      "authorship_tag": "ABX9TyOb5c/rU9PAtd5t4lKPhrUT",
      "include_colab_link": true
    },
    "kernelspec": {
      "name": "python3",
      "display_name": "Python 3"
    },
    "language_info": {
      "name": "python"
    },
    "widgets": {
      "application/vnd.jupyter.widget-state+json": {
        "57a5e99f0c6c417f82e60e04a5a80028": {
          "model_module": "@jupyter-widgets/controls",
          "model_name": "HBoxModel",
          "model_module_version": "1.5.0",
          "state": {
            "_dom_classes": [],
            "_model_module": "@jupyter-widgets/controls",
            "_model_module_version": "1.5.0",
            "_model_name": "HBoxModel",
            "_view_count": null,
            "_view_module": "@jupyter-widgets/controls",
            "_view_module_version": "1.5.0",
            "_view_name": "HBoxView",
            "box_style": "",
            "children": [
              "IPY_MODEL_7924ba1917d14d32a920b4699059f8b6",
              "IPY_MODEL_0c000614ad624a7b83f771d088d35f72",
              "IPY_MODEL_cbcd75039bd54fa49e909959cea4921d"
            ],
            "layout": "IPY_MODEL_d70aeacca8114edbbd65081be2f081ac"
          }
        },
        "7924ba1917d14d32a920b4699059f8b6": {
          "model_module": "@jupyter-widgets/controls",
          "model_name": "HTMLModel",
          "model_module_version": "1.5.0",
          "state": {
            "_dom_classes": [],
            "_model_module": "@jupyter-widgets/controls",
            "_model_module_version": "1.5.0",
            "_model_name": "HTMLModel",
            "_view_count": null,
            "_view_module": "@jupyter-widgets/controls",
            "_view_module_version": "1.5.0",
            "_view_name": "HTMLView",
            "description": "",
            "description_tooltip": null,
            "layout": "IPY_MODEL_b1efe01c359342f6a5537518410697b4",
            "placeholder": "​",
            "style": "IPY_MODEL_9c4a59a9ab8a4fb686dbf773744c888b",
            "value": "Processing: 100%"
          }
        },
        "0c000614ad624a7b83f771d088d35f72": {
          "model_module": "@jupyter-widgets/controls",
          "model_name": "FloatProgressModel",
          "model_module_version": "1.5.0",
          "state": {
            "_dom_classes": [],
            "_model_module": "@jupyter-widgets/controls",
            "_model_module_version": "1.5.0",
            "_model_name": "FloatProgressModel",
            "_view_count": null,
            "_view_module": "@jupyter-widgets/controls",
            "_view_module_version": "1.5.0",
            "_view_name": "ProgressView",
            "bar_style": "",
            "description": "",
            "description_tooltip": null,
            "layout": "IPY_MODEL_6e27c1258b834567a85375c50f76d674",
            "max": 93,
            "min": 0,
            "orientation": "horizontal",
            "style": "IPY_MODEL_552321c262f64365aabd778115c08abf",
            "value": 93
          }
        },
        "cbcd75039bd54fa49e909959cea4921d": {
          "model_module": "@jupyter-widgets/controls",
          "model_name": "HTMLModel",
          "model_module_version": "1.5.0",
          "state": {
            "_dom_classes": [],
            "_model_module": "@jupyter-widgets/controls",
            "_model_module_version": "1.5.0",
            "_model_name": "HTMLModel",
            "_view_count": null,
            "_view_module": "@jupyter-widgets/controls",
            "_view_module_version": "1.5.0",
            "_view_name": "HTMLView",
            "description": "",
            "description_tooltip": null,
            "layout": "IPY_MODEL_b2af220cda5448038b429e874e2bb026",
            "placeholder": "​",
            "style": "IPY_MODEL_cf9a643993f24b9181107b08a87ebece",
            "value": " 93/93 [00:18&lt;00:00,  6.98it/s]"
          }
        },
        "d70aeacca8114edbbd65081be2f081ac": {
          "model_module": "@jupyter-widgets/base",
          "model_name": "LayoutModel",
          "model_module_version": "1.2.0",
          "state": {
            "_model_module": "@jupyter-widgets/base",
            "_model_module_version": "1.2.0",
            "_model_name": "LayoutModel",
            "_view_count": null,
            "_view_module": "@jupyter-widgets/base",
            "_view_module_version": "1.2.0",
            "_view_name": "LayoutView",
            "align_content": null,
            "align_items": null,
            "align_self": null,
            "border": null,
            "bottom": null,
            "display": null,
            "flex": null,
            "flex_flow": null,
            "grid_area": null,
            "grid_auto_columns": null,
            "grid_auto_flow": null,
            "grid_auto_rows": null,
            "grid_column": null,
            "grid_gap": null,
            "grid_row": null,
            "grid_template_areas": null,
            "grid_template_columns": null,
            "grid_template_rows": null,
            "height": null,
            "justify_content": null,
            "justify_items": null,
            "left": null,
            "margin": null,
            "max_height": null,
            "max_width": null,
            "min_height": null,
            "min_width": null,
            "object_fit": null,
            "object_position": null,
            "order": null,
            "overflow": null,
            "overflow_x": null,
            "overflow_y": null,
            "padding": null,
            "right": null,
            "top": null,
            "visibility": "hidden",
            "width": null
          }
        },
        "b1efe01c359342f6a5537518410697b4": {
          "model_module": "@jupyter-widgets/base",
          "model_name": "LayoutModel",
          "model_module_version": "1.2.0",
          "state": {
            "_model_module": "@jupyter-widgets/base",
            "_model_module_version": "1.2.0",
            "_model_name": "LayoutModel",
            "_view_count": null,
            "_view_module": "@jupyter-widgets/base",
            "_view_module_version": "1.2.0",
            "_view_name": "LayoutView",
            "align_content": null,
            "align_items": null,
            "align_self": null,
            "border": null,
            "bottom": null,
            "display": null,
            "flex": null,
            "flex_flow": null,
            "grid_area": null,
            "grid_auto_columns": null,
            "grid_auto_flow": null,
            "grid_auto_rows": null,
            "grid_column": null,
            "grid_gap": null,
            "grid_row": null,
            "grid_template_areas": null,
            "grid_template_columns": null,
            "grid_template_rows": null,
            "height": null,
            "justify_content": null,
            "justify_items": null,
            "left": null,
            "margin": null,
            "max_height": null,
            "max_width": null,
            "min_height": null,
            "min_width": null,
            "object_fit": null,
            "object_position": null,
            "order": null,
            "overflow": null,
            "overflow_x": null,
            "overflow_y": null,
            "padding": null,
            "right": null,
            "top": null,
            "visibility": null,
            "width": null
          }
        },
        "9c4a59a9ab8a4fb686dbf773744c888b": {
          "model_module": "@jupyter-widgets/controls",
          "model_name": "DescriptionStyleModel",
          "model_module_version": "1.5.0",
          "state": {
            "_model_module": "@jupyter-widgets/controls",
            "_model_module_version": "1.5.0",
            "_model_name": "DescriptionStyleModel",
            "_view_count": null,
            "_view_module": "@jupyter-widgets/base",
            "_view_module_version": "1.2.0",
            "_view_name": "StyleView",
            "description_width": ""
          }
        },
        "6e27c1258b834567a85375c50f76d674": {
          "model_module": "@jupyter-widgets/base",
          "model_name": "LayoutModel",
          "model_module_version": "1.2.0",
          "state": {
            "_model_module": "@jupyter-widgets/base",
            "_model_module_version": "1.2.0",
            "_model_name": "LayoutModel",
            "_view_count": null,
            "_view_module": "@jupyter-widgets/base",
            "_view_module_version": "1.2.0",
            "_view_name": "LayoutView",
            "align_content": null,
            "align_items": null,
            "align_self": null,
            "border": null,
            "bottom": null,
            "display": null,
            "flex": null,
            "flex_flow": null,
            "grid_area": null,
            "grid_auto_columns": null,
            "grid_auto_flow": null,
            "grid_auto_rows": null,
            "grid_column": null,
            "grid_gap": null,
            "grid_row": null,
            "grid_template_areas": null,
            "grid_template_columns": null,
            "grid_template_rows": null,
            "height": null,
            "justify_content": null,
            "justify_items": null,
            "left": null,
            "margin": null,
            "max_height": null,
            "max_width": null,
            "min_height": null,
            "min_width": null,
            "object_fit": null,
            "object_position": null,
            "order": null,
            "overflow": null,
            "overflow_x": null,
            "overflow_y": null,
            "padding": null,
            "right": null,
            "top": null,
            "visibility": null,
            "width": null
          }
        },
        "552321c262f64365aabd778115c08abf": {
          "model_module": "@jupyter-widgets/controls",
          "model_name": "ProgressStyleModel",
          "model_module_version": "1.5.0",
          "state": {
            "_model_module": "@jupyter-widgets/controls",
            "_model_module_version": "1.5.0",
            "_model_name": "ProgressStyleModel",
            "_view_count": null,
            "_view_module": "@jupyter-widgets/base",
            "_view_module_version": "1.2.0",
            "_view_name": "StyleView",
            "bar_color": null,
            "description_width": ""
          }
        },
        "b2af220cda5448038b429e874e2bb026": {
          "model_module": "@jupyter-widgets/base",
          "model_name": "LayoutModel",
          "model_module_version": "1.2.0",
          "state": {
            "_model_module": "@jupyter-widgets/base",
            "_model_module_version": "1.2.0",
            "_model_name": "LayoutModel",
            "_view_count": null,
            "_view_module": "@jupyter-widgets/base",
            "_view_module_version": "1.2.0",
            "_view_name": "LayoutView",
            "align_content": null,
            "align_items": null,
            "align_self": null,
            "border": null,
            "bottom": null,
            "display": null,
            "flex": null,
            "flex_flow": null,
            "grid_area": null,
            "grid_auto_columns": null,
            "grid_auto_flow": null,
            "grid_auto_rows": null,
            "grid_column": null,
            "grid_gap": null,
            "grid_row": null,
            "grid_template_areas": null,
            "grid_template_columns": null,
            "grid_template_rows": null,
            "height": null,
            "justify_content": null,
            "justify_items": null,
            "left": null,
            "margin": null,
            "max_height": null,
            "max_width": null,
            "min_height": null,
            "min_width": null,
            "object_fit": null,
            "object_position": null,
            "order": null,
            "overflow": null,
            "overflow_x": null,
            "overflow_y": null,
            "padding": null,
            "right": null,
            "top": null,
            "visibility": null,
            "width": null
          }
        },
        "cf9a643993f24b9181107b08a87ebece": {
          "model_module": "@jupyter-widgets/controls",
          "model_name": "DescriptionStyleModel",
          "model_module_version": "1.5.0",
          "state": {
            "_model_module": "@jupyter-widgets/controls",
            "_model_module_version": "1.5.0",
            "_model_name": "DescriptionStyleModel",
            "_view_count": null,
            "_view_module": "@jupyter-widgets/base",
            "_view_module_version": "1.2.0",
            "_view_name": "StyleView",
            "description_width": ""
          }
        },
        "9fde28353ce0486a9872d4149ffadd32": {
          "model_module": "@jupyter-widgets/controls",
          "model_name": "HBoxModel",
          "model_module_version": "1.5.0",
          "state": {
            "_dom_classes": [],
            "_model_module": "@jupyter-widgets/controls",
            "_model_module_version": "1.5.0",
            "_model_name": "HBoxModel",
            "_view_count": null,
            "_view_module": "@jupyter-widgets/controls",
            "_view_module_version": "1.5.0",
            "_view_name": "HBoxView",
            "box_style": "",
            "children": [
              "IPY_MODEL_efe026ad611b48b18ce80ed2331e94d1",
              "IPY_MODEL_fad43e5787ff4f64b82692e6eb2908dd",
              "IPY_MODEL_900220b294684dbca9ca6de1af21b7ab"
            ],
            "layout": "IPY_MODEL_89aa15ffd7ba43d1b84a5f6149167501"
          }
        },
        "efe026ad611b48b18ce80ed2331e94d1": {
          "model_module": "@jupyter-widgets/controls",
          "model_name": "HTMLModel",
          "model_module_version": "1.5.0",
          "state": {
            "_dom_classes": [],
            "_model_module": "@jupyter-widgets/controls",
            "_model_module_version": "1.5.0",
            "_model_name": "HTMLModel",
            "_view_count": null,
            "_view_module": "@jupyter-widgets/controls",
            "_view_module_version": "1.5.0",
            "_view_name": "HTMLView",
            "description": "",
            "description_tooltip": null,
            "layout": "IPY_MODEL_55eba9301a8846e680c7d13d037fd24a",
            "placeholder": "​",
            "style": "IPY_MODEL_515b6441a1cb45188ed560f419cee264",
            "value": "Processing:   0%"
          }
        },
        "fad43e5787ff4f64b82692e6eb2908dd": {
          "model_module": "@jupyter-widgets/controls",
          "model_name": "FloatProgressModel",
          "model_module_version": "1.5.0",
          "state": {
            "_dom_classes": [],
            "_model_module": "@jupyter-widgets/controls",
            "_model_module_version": "1.5.0",
            "_model_name": "FloatProgressModel",
            "_view_count": null,
            "_view_module": "@jupyter-widgets/controls",
            "_view_module_version": "1.5.0",
            "_view_name": "ProgressView",
            "bar_style": "",
            "description": "",
            "description_tooltip": null,
            "layout": "IPY_MODEL_8b42295b8c83462480409b8395372bc9",
            "max": 4,
            "min": 0,
            "orientation": "horizontal",
            "style": "IPY_MODEL_fda8e7d2cac74d19bd82084783c93e03",
            "value": 4
          }
        },
        "900220b294684dbca9ca6de1af21b7ab": {
          "model_module": "@jupyter-widgets/controls",
          "model_name": "HTMLModel",
          "model_module_version": "1.5.0",
          "state": {
            "_dom_classes": [],
            "_model_module": "@jupyter-widgets/controls",
            "_model_module_version": "1.5.0",
            "_model_name": "HTMLModel",
            "_view_count": null,
            "_view_module": "@jupyter-widgets/controls",
            "_view_module_version": "1.5.0",
            "_view_name": "HTMLView",
            "description": "",
            "description_tooltip": null,
            "layout": "IPY_MODEL_29d994138d144e07b971cbe1d299dca3",
            "placeholder": "​",
            "style": "IPY_MODEL_926856f6c35e41a6a8ee4d1394eed40d",
            "value": " 0/4 [00:00&lt;?, ?it/s]"
          }
        },
        "89aa15ffd7ba43d1b84a5f6149167501": {
          "model_module": "@jupyter-widgets/base",
          "model_name": "LayoutModel",
          "model_module_version": "1.2.0",
          "state": {
            "_model_module": "@jupyter-widgets/base",
            "_model_module_version": "1.2.0",
            "_model_name": "LayoutModel",
            "_view_count": null,
            "_view_module": "@jupyter-widgets/base",
            "_view_module_version": "1.2.0",
            "_view_name": "LayoutView",
            "align_content": null,
            "align_items": null,
            "align_self": null,
            "border": null,
            "bottom": null,
            "display": null,
            "flex": null,
            "flex_flow": null,
            "grid_area": null,
            "grid_auto_columns": null,
            "grid_auto_flow": null,
            "grid_auto_rows": null,
            "grid_column": null,
            "grid_gap": null,
            "grid_row": null,
            "grid_template_areas": null,
            "grid_template_columns": null,
            "grid_template_rows": null,
            "height": null,
            "justify_content": null,
            "justify_items": null,
            "left": null,
            "margin": null,
            "max_height": null,
            "max_width": null,
            "min_height": null,
            "min_width": null,
            "object_fit": null,
            "object_position": null,
            "order": null,
            "overflow": null,
            "overflow_x": null,
            "overflow_y": null,
            "padding": null,
            "right": null,
            "top": null,
            "visibility": "hidden",
            "width": null
          }
        },
        "55eba9301a8846e680c7d13d037fd24a": {
          "model_module": "@jupyter-widgets/base",
          "model_name": "LayoutModel",
          "model_module_version": "1.2.0",
          "state": {
            "_model_module": "@jupyter-widgets/base",
            "_model_module_version": "1.2.0",
            "_model_name": "LayoutModel",
            "_view_count": null,
            "_view_module": "@jupyter-widgets/base",
            "_view_module_version": "1.2.0",
            "_view_name": "LayoutView",
            "align_content": null,
            "align_items": null,
            "align_self": null,
            "border": null,
            "bottom": null,
            "display": null,
            "flex": null,
            "flex_flow": null,
            "grid_area": null,
            "grid_auto_columns": null,
            "grid_auto_flow": null,
            "grid_auto_rows": null,
            "grid_column": null,
            "grid_gap": null,
            "grid_row": null,
            "grid_template_areas": null,
            "grid_template_columns": null,
            "grid_template_rows": null,
            "height": null,
            "justify_content": null,
            "justify_items": null,
            "left": null,
            "margin": null,
            "max_height": null,
            "max_width": null,
            "min_height": null,
            "min_width": null,
            "object_fit": null,
            "object_position": null,
            "order": null,
            "overflow": null,
            "overflow_x": null,
            "overflow_y": null,
            "padding": null,
            "right": null,
            "top": null,
            "visibility": null,
            "width": null
          }
        },
        "515b6441a1cb45188ed560f419cee264": {
          "model_module": "@jupyter-widgets/controls",
          "model_name": "DescriptionStyleModel",
          "model_module_version": "1.5.0",
          "state": {
            "_model_module": "@jupyter-widgets/controls",
            "_model_module_version": "1.5.0",
            "_model_name": "DescriptionStyleModel",
            "_view_count": null,
            "_view_module": "@jupyter-widgets/base",
            "_view_module_version": "1.2.0",
            "_view_name": "StyleView",
            "description_width": ""
          }
        },
        "8b42295b8c83462480409b8395372bc9": {
          "model_module": "@jupyter-widgets/base",
          "model_name": "LayoutModel",
          "model_module_version": "1.2.0",
          "state": {
            "_model_module": "@jupyter-widgets/base",
            "_model_module_version": "1.2.0",
            "_model_name": "LayoutModel",
            "_view_count": null,
            "_view_module": "@jupyter-widgets/base",
            "_view_module_version": "1.2.0",
            "_view_name": "LayoutView",
            "align_content": null,
            "align_items": null,
            "align_self": null,
            "border": null,
            "bottom": null,
            "display": null,
            "flex": null,
            "flex_flow": null,
            "grid_area": null,
            "grid_auto_columns": null,
            "grid_auto_flow": null,
            "grid_auto_rows": null,
            "grid_column": null,
            "grid_gap": null,
            "grid_row": null,
            "grid_template_areas": null,
            "grid_template_columns": null,
            "grid_template_rows": null,
            "height": null,
            "justify_content": null,
            "justify_items": null,
            "left": null,
            "margin": null,
            "max_height": null,
            "max_width": null,
            "min_height": null,
            "min_width": null,
            "object_fit": null,
            "object_position": null,
            "order": null,
            "overflow": null,
            "overflow_x": null,
            "overflow_y": null,
            "padding": null,
            "right": null,
            "top": null,
            "visibility": null,
            "width": null
          }
        },
        "fda8e7d2cac74d19bd82084783c93e03": {
          "model_module": "@jupyter-widgets/controls",
          "model_name": "ProgressStyleModel",
          "model_module_version": "1.5.0",
          "state": {
            "_model_module": "@jupyter-widgets/controls",
            "_model_module_version": "1.5.0",
            "_model_name": "ProgressStyleModel",
            "_view_count": null,
            "_view_module": "@jupyter-widgets/base",
            "_view_module_version": "1.2.0",
            "_view_name": "StyleView",
            "bar_color": null,
            "description_width": ""
          }
        },
        "29d994138d144e07b971cbe1d299dca3": {
          "model_module": "@jupyter-widgets/base",
          "model_name": "LayoutModel",
          "model_module_version": "1.2.0",
          "state": {
            "_model_module": "@jupyter-widgets/base",
            "_model_module_version": "1.2.0",
            "_model_name": "LayoutModel",
            "_view_count": null,
            "_view_module": "@jupyter-widgets/base",
            "_view_module_version": "1.2.0",
            "_view_name": "LayoutView",
            "align_content": null,
            "align_items": null,
            "align_self": null,
            "border": null,
            "bottom": null,
            "display": null,
            "flex": null,
            "flex_flow": null,
            "grid_area": null,
            "grid_auto_columns": null,
            "grid_auto_flow": null,
            "grid_auto_rows": null,
            "grid_column": null,
            "grid_gap": null,
            "grid_row": null,
            "grid_template_areas": null,
            "grid_template_columns": null,
            "grid_template_rows": null,
            "height": null,
            "justify_content": null,
            "justify_items": null,
            "left": null,
            "margin": null,
            "max_height": null,
            "max_width": null,
            "min_height": null,
            "min_width": null,
            "object_fit": null,
            "object_position": null,
            "order": null,
            "overflow": null,
            "overflow_x": null,
            "overflow_y": null,
            "padding": null,
            "right": null,
            "top": null,
            "visibility": null,
            "width": null
          }
        },
        "926856f6c35e41a6a8ee4d1394eed40d": {
          "model_module": "@jupyter-widgets/controls",
          "model_name": "DescriptionStyleModel",
          "model_module_version": "1.5.0",
          "state": {
            "_model_module": "@jupyter-widgets/controls",
            "_model_module_version": "1.5.0",
            "_model_name": "DescriptionStyleModel",
            "_view_count": null,
            "_view_module": "@jupyter-widgets/base",
            "_view_module_version": "1.2.0",
            "_view_name": "StyleView",
            "description_width": ""
          }
        }
      }
    }
  },
  "cells": [
    {
      "cell_type": "markdown",
      "metadata": {
        "id": "view-in-github",
        "colab_type": "text"
      },
      "source": [
        "<a href=\"https://colab.research.google.com/github/Diogoa83/Diogoa83/blob/main/produto_consignado.ipynb\" target=\"_parent\"><img src=\"https://colab.research.google.com/assets/colab-badge.svg\" alt=\"Open In Colab\"/></a>"
      ]
    },
    {
      "cell_type": "code",
      "execution_count": null,
      "metadata": {
        "id": "j4b4N2dYsbV-"
      },
      "outputs": [],
      "source": [
        "!pip install mplcyberpunk\n",
        "!pip install python-bcb"
      ]
    },
    {
      "cell_type": "code",
      "source": [
        "import mplcyberpunk\n",
        "import seaborn as sns\n",
        "import pandas as pd\n",
        "from bcb import sgs\n",
        "import statsmodels.api as sm\n",
        "import matplotlib.pyplot as plt\n",
        "import matplotlib.ticker as mtick\n",
        "import matplotlib.dates as mdates\n",
        "from matplotlib.dates import date2num\n",
        "from datetime import datetime\n",
        "from datetime import timedelta\n",
        "\n",
        "plt.style.use(\"cyberpunk\")"
      ],
      "metadata": {
        "id": "FpP6WFd3sdnJ"
      },
      "execution_count": 31,
      "outputs": []
    },
    {
      "cell_type": "code",
      "source": [
        "import numpy as np\n",
        "from pandas.plotting import autocorrelation_plot\n",
        "from matplotlib import pyplot\n",
        "import pandas.util.testing as tm\n",
        "from statsmodels.graphics.tsaplots import plot_acf\n",
        "from statsmodels.graphics.tsaplots import plot_pacf\n",
        "from matplotlib import pyplot"
      ],
      "metadata": {
        "id": "BWbNR-31sdpP"
      },
      "execution_count": 32,
      "outputs": []
    },
    {
      "cell_type": "code",
      "source": [
        "produto_consignado = pd.read_csv('/content/drive/MyDrive/Dados/Produto/produto_consignado.csv', sep=';')\n",
        "produto_consignado['Data'] = pd.to_datetime(produto_consignado['Data'], format='%d/%m/%Y')"
      ],
      "metadata": {
        "id": "E_IpwS2Csdre"
      },
      "execution_count": 26,
      "outputs": []
    },
    {
      "cell_type": "code",
      "source": [
        "produto_consignado['ValorBase'] = produto_consignado['ValorBase'].str.replace(',', '.').astype(float)\n",
        "produto_consignado['Selic'] = produto_consignado['Selic'].str.replace(',', '.').astype(float)\n",
        "produto_consignado['taxa_mensal_consignado'] = produto_consignado['taxa_mensal_consignado'].str.replace(',', '.').astype(float)\n",
        "produto_consignado"
      ],
      "metadata": {
        "id": "mlebmAZssdwG"
      },
      "execution_count": null,
      "outputs": []
    },
    {
      "cell_type": "markdown",
      "source": [
        "# **CORRELAÇÃO**"
      ],
      "metadata": {
        "id": "lXxg5Jt3sHTk"
      }
    },
    {
      "cell_type": "code",
      "source": [
        "produto_consignado.corr()"
      ],
      "metadata": {
        "colab": {
          "base_uri": "https://localhost:8080/",
          "height": 200
        },
        "id": "Jj-3SvWHmfQE",
        "outputId": "a4d36b04-e001-4485-e161-a0452e1b9338"
      },
      "execution_count": 34,
      "outputs": [
        {
          "output_type": "stream",
          "name": "stderr",
          "text": [
            "<ipython-input-34-3204314a3ace>:1: FutureWarning: The default value of numeric_only in DataFrame.corr is deprecated. In a future version, it will default to False. Select only valid columns or specify the value of numeric_only to silence this warning.\n",
            "  produto_consignado.corr()\n"
          ]
        },
        {
          "output_type": "execute_result",
          "data": {
            "text/plain": [
              "                        ValorBase     Selic  taxa_mensal_consignado\n",
              "ValorBase                1.000000  0.491876                0.431548\n",
              "Selic                    0.491876  1.000000                0.969828\n",
              "taxa_mensal_consignado   0.431548  0.969828                1.000000"
            ],
            "text/html": [
              "\n",
              "  <div id=\"df-1cf7a079-a937-4603-8a32-81701944e253\">\n",
              "    <div class=\"colab-df-container\">\n",
              "      <div>\n",
              "<style scoped>\n",
              "    .dataframe tbody tr th:only-of-type {\n",
              "        vertical-align: middle;\n",
              "    }\n",
              "\n",
              "    .dataframe tbody tr th {\n",
              "        vertical-align: top;\n",
              "    }\n",
              "\n",
              "    .dataframe thead th {\n",
              "        text-align: right;\n",
              "    }\n",
              "</style>\n",
              "<table border=\"1\" class=\"dataframe\">\n",
              "  <thead>\n",
              "    <tr style=\"text-align: right;\">\n",
              "      <th></th>\n",
              "      <th>ValorBase</th>\n",
              "      <th>Selic</th>\n",
              "      <th>taxa_mensal_consignado</th>\n",
              "    </tr>\n",
              "  </thead>\n",
              "  <tbody>\n",
              "    <tr>\n",
              "      <th>ValorBase</th>\n",
              "      <td>1.000000</td>\n",
              "      <td>0.491876</td>\n",
              "      <td>0.431548</td>\n",
              "    </tr>\n",
              "    <tr>\n",
              "      <th>Selic</th>\n",
              "      <td>0.491876</td>\n",
              "      <td>1.000000</td>\n",
              "      <td>0.969828</td>\n",
              "    </tr>\n",
              "    <tr>\n",
              "      <th>taxa_mensal_consignado</th>\n",
              "      <td>0.431548</td>\n",
              "      <td>0.969828</td>\n",
              "      <td>1.000000</td>\n",
              "    </tr>\n",
              "  </tbody>\n",
              "</table>\n",
              "</div>\n",
              "      <button class=\"colab-df-convert\" onclick=\"convertToInteractive('df-1cf7a079-a937-4603-8a32-81701944e253')\"\n",
              "              title=\"Convert this dataframe to an interactive table.\"\n",
              "              style=\"display:none;\">\n",
              "        \n",
              "  <svg xmlns=\"http://www.w3.org/2000/svg\" height=\"24px\"viewBox=\"0 0 24 24\"\n",
              "       width=\"24px\">\n",
              "    <path d=\"M0 0h24v24H0V0z\" fill=\"none\"/>\n",
              "    <path d=\"M18.56 5.44l.94 2.06.94-2.06 2.06-.94-2.06-.94-.94-2.06-.94 2.06-2.06.94zm-11 1L8.5 8.5l.94-2.06 2.06-.94-2.06-.94L8.5 2.5l-.94 2.06-2.06.94zm10 10l.94 2.06.94-2.06 2.06-.94-2.06-.94-.94-2.06-.94 2.06-2.06.94z\"/><path d=\"M17.41 7.96l-1.37-1.37c-.4-.4-.92-.59-1.43-.59-.52 0-1.04.2-1.43.59L10.3 9.45l-7.72 7.72c-.78.78-.78 2.05 0 2.83L4 21.41c.39.39.9.59 1.41.59.51 0 1.02-.2 1.41-.59l7.78-7.78 2.81-2.81c.8-.78.8-2.07 0-2.86zM5.41 20L4 18.59l7.72-7.72 1.47 1.35L5.41 20z\"/>\n",
              "  </svg>\n",
              "      </button>\n",
              "      \n",
              "  <style>\n",
              "    .colab-df-container {\n",
              "      display:flex;\n",
              "      flex-wrap:wrap;\n",
              "      gap: 12px;\n",
              "    }\n",
              "\n",
              "    .colab-df-convert {\n",
              "      background-color: #E8F0FE;\n",
              "      border: none;\n",
              "      border-radius: 50%;\n",
              "      cursor: pointer;\n",
              "      display: none;\n",
              "      fill: #1967D2;\n",
              "      height: 32px;\n",
              "      padding: 0 0 0 0;\n",
              "      width: 32px;\n",
              "    }\n",
              "\n",
              "    .colab-df-convert:hover {\n",
              "      background-color: #E2EBFA;\n",
              "      box-shadow: 0px 1px 2px rgba(60, 64, 67, 0.3), 0px 1px 3px 1px rgba(60, 64, 67, 0.15);\n",
              "      fill: #174EA6;\n",
              "    }\n",
              "\n",
              "    [theme=dark] .colab-df-convert {\n",
              "      background-color: #3B4455;\n",
              "      fill: #D2E3FC;\n",
              "    }\n",
              "\n",
              "    [theme=dark] .colab-df-convert:hover {\n",
              "      background-color: #434B5C;\n",
              "      box-shadow: 0px 1px 3px 1px rgba(0, 0, 0, 0.15);\n",
              "      filter: drop-shadow(0px 1px 2px rgba(0, 0, 0, 0.3));\n",
              "      fill: #FFFFFF;\n",
              "    }\n",
              "  </style>\n",
              "\n",
              "      <script>\n",
              "        const buttonEl =\n",
              "          document.querySelector('#df-1cf7a079-a937-4603-8a32-81701944e253 button.colab-df-convert');\n",
              "        buttonEl.style.display =\n",
              "          google.colab.kernel.accessAllowed ? 'block' : 'none';\n",
              "\n",
              "        async function convertToInteractive(key) {\n",
              "          const element = document.querySelector('#df-1cf7a079-a937-4603-8a32-81701944e253');\n",
              "          const dataTable =\n",
              "            await google.colab.kernel.invokeFunction('convertToInteractive',\n",
              "                                                     [key], {});\n",
              "          if (!dataTable) return;\n",
              "\n",
              "          const docLinkHtml = 'Like what you see? Visit the ' +\n",
              "            '<a target=\"_blank\" href=https://colab.research.google.com/notebooks/data_table.ipynb>data table notebook</a>'\n",
              "            + ' to learn more about interactive tables.';\n",
              "          element.innerHTML = '';\n",
              "          dataTable['output_type'] = 'display_data';\n",
              "          await google.colab.output.renderOutput(dataTable, element);\n",
              "          const docLink = document.createElement('div');\n",
              "          docLink.innerHTML = docLinkHtml;\n",
              "          element.appendChild(docLink);\n",
              "        }\n",
              "      </script>\n",
              "    </div>\n",
              "  </div>\n",
              "  "
            ]
          },
          "metadata": {},
          "execution_count": 34
        }
      ]
    },
    {
      "cell_type": "code",
      "source": [
        "ax = sns.pairplot(produto_consignado, y_vars='ValorBase', x_vars=['Selic', 'taxa_mensal_consignado'], kind='reg')\n",
        "ax.fig.suptitle('', fontsize=20, y=1.07)\n",
        "ax"
      ],
      "metadata": {
        "colab": {
          "base_uri": "https://localhost:8080/",
          "height": 286
        },
        "id": "Dd5bmD5XsBqz",
        "outputId": "22e08973-de9c-4469-c44d-28a6f5ba9c44"
      },
      "execution_count": 35,
      "outputs": [
        {
          "output_type": "execute_result",
          "data": {
            "text/plain": [
              "<seaborn.axisgrid.PairGrid at 0x7f268f66f190>"
            ]
          },
          "metadata": {},
          "execution_count": 35
        },
        {
          "output_type": "display_data",
          "data": {
            "text/plain": [
              "<Figure size 500x250 with 2 Axes>"
            ],
            "image/png": "[encoded data removed]"
          },
          "metadata": {}
        }
      ]
    },
    {
      "cell_type": "code",
      "source": [
        "plt.boxplot(produto_consignado.ValorBase)"
      ],
      "metadata": {
        "id": "s7iVK1AAsdt-",
        "colab": {
          "base_uri": "https://localhost:8080/",
          "height": 588
        },
        "outputId": "d41454b9-55dc-49dc-8d4f-633121db7d49"
      },
      "execution_count": 7,
      "outputs": [
        {
          "output_type": "execute_result",
          "data": {
            "text/plain": [
              "{'whiskers': [<matplotlib.lines.Line2D at 0x7f268f724fd0>,\n",
              "  <matplotlib.lines.Line2D at 0x7f268f725270>],\n",
              " 'caps': [<matplotlib.lines.Line2D at 0x7f268f725510>,\n",
              "  <matplotlib.lines.Line2D at 0x7f268f7257b0>],\n",
              " 'boxes': [<matplotlib.lines.Line2D at 0x7f268f724d30>],\n",
              " 'medians': [<matplotlib.lines.Line2D at 0x7f268f725a50>],\n",
              " 'fliers': [<matplotlib.lines.Line2D at 0x7f268f725cf0>],\n",
              " 'means': []}"
            ]
          },
          "metadata": {},
          "execution_count": 7
        },
        {
          "output_type": "display_data",
          "data": {
            "text/plain": [
              "<Figure size 640x480 with 1 Axes>"
            ],
            "image/png": "[encoded data removed]"
          },
          "metadata": {}
        }
      ]
    },
    {
      "cell_type": "code",
      "source": [
        "plt.plot(produto_consignado.ValorBase)"
      ],
      "metadata": {
        "id": "284ZFOJmsdyX"
      },
      "execution_count": null,
      "outputs": []
    },
    {
      "cell_type": "code",
      "source": [
        "produto_consignado"
      ],
      "metadata": {
        "id": "yyuMavI2k8s7"
      },
      "execution_count": null,
      "outputs": []
    },
    {
      "cell_type": "markdown",
      "source": [
        "# PREVISÕES COM ARIMA PRODUTO CONSIGNADO"
      ],
      "metadata": {
        "id": "Ggi6HmL-tY13"
      }
    },
    {
      "cell_type": "code",
      "source": [
        "from statsmodels.tsa.arima.model import ARIMA\n",
        "\n",
        "#\n",
        "arima = ARIMA(produto_consignado['ValorBase'], order=(3, 1, 3))\n",
        "arima_fit = arima.fit()"
      ],
      "metadata": {
        "id": "QEozY5rXsd4Y"
      },
      "execution_count": 28,
      "outputs": []
    },
    {
      "cell_type": "code",
      "source": [
        "# Calcular o quadrado dos resíduos médios\n",
        "mse = (arima_fit.resid).mean()\n",
        "print(mse)"
      ],
      "metadata": {
        "colab": {
          "base_uri": "https://localhost:8080/"
        },
        "id": "SS9bl5KMsd7A",
        "outputId": "b7079c45-b765-4864-9065-e1763a50cec2"
      },
      "execution_count": 29,
      "outputs": [
        {
          "output_type": "stream",
          "name": "stdout",
          "text": [
            "2381203.924423803\n"
          ]
        }
      ]
    },
    {
      "cell_type": "code",
      "source": [
        "produto_consignado['MediaMovel'] = produto_consignado['ValorBase'].rolling(window=10).mean()\n",
        "\n",
        "# Plotando o gráfico original e a média móvel\n",
        "plt.figure(figsize=(10, 6))\n",
        "plt.plot(produto_consignado['ValorBase'], label='ValorBase')\n",
        "plt.plot(produto_consignado['MediaMovel'], label='Média Móvel')\n",
        "plt.legend()\n",
        "\n",
        "# Exibindo o gráfico\n",
        "plt.show()\n"
      ],
      "metadata": {
        "colab": {
          "base_uri": "https://localhost:8080/",
          "height": 537
        },
        "id": "9B0xBwwxsYYu",
        "outputId": "9b359e48-8a09-4ed8-aa53-05110f3b6c10"
      },
      "execution_count": 33,
      "outputs": [
        {
          "output_type": "display_data",
          "data": {
            "text/plain": [
              "<Figure size 1000x600 with 1 Axes>"
            ],
            "image/png": "[encoded data removed]"
          },
          "metadata": {}
        }
      ]
    },
    {
      "cell_type": "code",
      "source": [
        "plt.figure(figsize=(10, 6))\n",
        "plt.plot(produto_consignado.ValorBase)\n",
        "plt.plot(arima_fit.predict(typ='levels'))"
      ],
      "metadata": {
        "colab": {
          "base_uri": "https://localhost:8080/",
          "height": 555
        },
        "id": "aRVR-knQsd9X",
        "outputId": "618e0eda-156d-4691-ca8f-5761762a9f81"
      },
      "execution_count": 34,
      "outputs": [
        {
          "output_type": "execute_result",
          "data": {
            "text/plain": [
              "[<matplotlib.lines.Line2D at 0x7f6781425b40>]"
            ]
          },
          "metadata": {},
          "execution_count": 34
        },
        {
          "output_type": "display_data",
          "data": {
            "text/plain": [
              "<Figure size 1000x600 with 1 Axes>"
            ],
            "image/png": "[encoded data removed]"
          },
          "metadata": {}
        }
      ]
    },
    {
      "cell_type": "code",
      "source": [
        "#final da serie historica\n",
        "produto_consignado.ValorBase.tail(6).round()"
      ],
      "metadata": {
        "colab": {
          "base_uri": "https://localhost:8080/"
        },
        "id": "6DR4oyVGsd_f",
        "outputId": "5fe4df76-2234-42f9-ac03-06021c5fd525"
      },
      "execution_count": 35,
      "outputs": [
        {
          "output_type": "execute_result",
          "data": {
            "text/plain": [
              "25    71015802.0\n",
              "26    52344116.0\n",
              "27    30532544.0\n",
              "28    31000049.0\n",
              "29    31067617.0\n",
              "30    13917780.0\n",
              "Name: ValorBase, dtype: float64"
            ]
          },
          "metadata": {},
          "execution_count": 35
        }
      ]
    },
    {
      "cell_type": "code",
      "source": [
        "# RESULTADO ARIMA PARA OS PROXIMOS 6 MESES\n",
        "previsão = (arima_fit.forecast(steps=6).round())\n",
        "arima_fit.forecast(steps=6).round()"
      ],
      "metadata": {
        "colab": {
          "base_uri": "https://localhost:8080/"
        },
        "id": "UW1Oo0o8uW1V",
        "outputId": "e12ffb2d-0451-4ea4-cd9f-59b43e8a5d44"
      },
      "execution_count": null,
      "outputs": [
        {
          "output_type": "execute_result",
          "data": {
            "text/plain": [
              "31    15535733.0\n",
              "32    25071352.0\n",
              "33    27906051.0\n",
              "34    28084251.0\n",
              "35    30657277.0\n",
              "36    31127166.0\n",
              "Name: predicted_mean, dtype: float64"
            ]
          },
          "metadata": {},
          "execution_count": 24
        }
      ]
    },
    {
      "cell_type": "code",
      "source": [
        "plt.figure(figsize=(10, 6))\n",
        "plt.plot(produto_consignado.ValorBase)\n",
        "plt.plot(previsão, color='red', linestyle='--', label='Previsão')"
      ],
      "metadata": {
        "colab": {
          "base_uri": "https://localhost:8080/",
          "height": 551
        },
        "id": "qDbXYkdduYk-",
        "outputId": "3ca1a1e2-90c0-4731-dda6-f07b12a157b4"
      },
      "execution_count": null,
      "outputs": [
        {
          "output_type": "execute_result",
          "data": {
            "text/plain": [
              "[<matplotlib.lines.Line2D at 0x7f2fe0cf27a0>]"
            ]
          },
          "metadata": {},
          "execution_count": 25
        },
        {
          "output_type": "display_data",
          "data": {
            "text/plain": [
              "<Figure size 1000x600 with 1 Axes>"
            ],
            "image/png": "[encoded data removed]"
          },
          "metadata": {}
        }
      ]
    },
    {
      "cell_type": "code",
      "source": [
        "plt.boxplot(produto_consignado.ValorBase)"
      ],
      "metadata": {
        "colab": {
          "base_uri": "https://localhost:8080/",
          "height": 588
        },
        "id": "Tlckr05gvlum",
        "outputId": "fe632ba5-a590-48bc-8a89-3fd5fdb7253e"
      },
      "execution_count": null,
      "outputs": [
        {
          "output_type": "execute_result",
          "data": {
            "text/plain": [
              "{'whiskers': [<matplotlib.lines.Line2D at 0x7f2fe0086b00>,\n",
              "  <matplotlib.lines.Line2D at 0x7f2fe0087070>],\n",
              " 'caps': [<matplotlib.lines.Line2D at 0x7f2fe01455d0>,\n",
              "  <matplotlib.lines.Line2D at 0x7f2fe01460e0>],\n",
              " 'boxes': [<matplotlib.lines.Line2D at 0x7f2fe0086620>],\n",
              " 'medians': [<matplotlib.lines.Line2D at 0x7f2fe0146b30>],\n",
              " 'fliers': [<matplotlib.lines.Line2D at 0x7f2fe01450f0>],\n",
              " 'means': []}"
            ]
          },
          "metadata": {},
          "execution_count": 30
        },
        {
          "output_type": "display_data",
          "data": {
            "text/plain": [
              "<Figure size 640x480 with 1 Axes>"
            ],
            "image/png": "[encoded data removed]"
          },
          "metadata": {}
        }
      ]
    },
    {
      "cell_type": "markdown",
      "source": [
        "# MODELO ECONOMETRICO"
      ],
      "metadata": {
        "id": "45VKZPy-mx2e"
      }
    },
    {
      "cell_type": "code",
      "source": [
        "import statsmodels.api as sm\n",
        "import statsmodels.formula.api as smf"
      ],
      "metadata": {
        "id": "Lem-FC0Nm0ND"
      },
      "execution_count": 19,
      "outputs": []
    },
    {
      "cell_type": "code",
      "source": [
        "produto_consignado.info()"
      ],
      "metadata": {
        "id": "Zsgrarp9rHLy"
      },
      "execution_count": null,
      "outputs": []
    },
    {
      "cell_type": "code",
      "source": [
        "modelo2 = smf.ols(data = produto_consignado, formula = 'ValorBase ~ Selic + taxa_mensal_consignado' )\n",
        "modelo_ajustado = modelo2.fit()\n",
        "print(modelo_ajustado.summary() )"
      ],
      "metadata": {
        "colab": {
          "base_uri": "https://localhost:8080/"
        },
        "id": "Y03Zpq5Hm7nF",
        "outputId": "6a9a3f50-4cb7-459d-82eb-9ea804993583"
      },
      "execution_count": 28,
      "outputs": [
        {
          "output_type": "stream",
          "name": "stdout",
          "text": [
            "                            OLS Regression Results                            \n",
            "==============================================================================\n",
            "Dep. Variable:              ValorBase   R-squared:                       0.277\n",
            "Model:                            OLS   Adj. R-squared:                  0.225\n",
            "Method:                 Least Squares   F-statistic:                     5.357\n",
            "Date:                Fri, 23 Jun 2023   Prob (F-statistic):             0.0107\n",
            "Time:                        19:13:37   Log-Likelihood:                -555.51\n",
            "No. Observations:                  31   AIC:                             1117.\n",
            "Df Residuals:                      28   BIC:                             1121.\n",
            "Df Model:                           2                                         \n",
            "Covariance Type:            nonrobust                                         \n",
            "==========================================================================================\n",
            "                             coef    std err          t      P>|t|      [0.025      0.975]\n",
            "------------------------------------------------------------------------------------------\n",
            "Intercept               7.879e+07   5.29e+07      1.490      0.147   -2.95e+07    1.87e+08\n",
            "Selic                   4.583e+06   2.45e+06      1.872      0.072   -4.32e+05     9.6e+06\n",
            "taxa_mensal_consignado -5.497e+07   4.73e+07     -1.161      0.255   -1.52e+08     4.2e+07\n",
            "==============================================================================\n",
            "Omnibus:                        0.532   Durbin-Watson:                   0.814\n",
            "Prob(Omnibus):                  0.766   Jarque-Bera (JB):                0.652\n",
            "Skew:                           0.188   Prob(JB):                        0.722\n",
            "Kurtosis:                       2.398   Cond. No.                         265.\n",
            "==============================================================================\n",
            "\n",
            "Notes:\n",
            "[1] Standard Errors assume that the covariance matrix of the errors is correctly specified.\n"
          ]
        }
      ]
    },
    {
      "cell_type": "markdown",
      "source": [
        "# PREVISÕES COM PYCARET CONVENIO FEDERAL\n",
        "Aplicando modelos com variáveis exógenas"
      ],
      "metadata": {
        "id": "hTIggHd4trj8"
      }
    },
    {
      "cell_type": "code",
      "source": [
        "!pip install pycaret"
      ],
      "metadata": {
        "id": "0TRxOU07twtL"
      },
      "execution_count": null,
      "outputs": []
    },
    {
      "cell_type": "code",
      "source": [
        "from pycaret.time_series import *"
      ],
      "metadata": {
        "id": "Qi8mcH43twvj"
      },
      "execution_count": 8,
      "outputs": []
    },
    {
      "cell_type": "code",
      "source": [
        "setup(produto_consignado, target='ValorBase', fh=3, fold=3)"
      ],
      "metadata": {
        "colab": {
          "base_uri": "https://localhost:8080/",
          "height": 1000
        },
        "id": "tMlM-kP5twz7",
        "outputId": "8d144e25-e973-4bc7-b593-e1c2dc84b417"
      },
      "execution_count": 12,
      "outputs": [
        {
          "output_type": "display_data",
          "data": {
            "text/plain": [
              "<pandas.io.formats.style.Styler at 0x7f679b353850>"
            ],
            "text/html": [
              "<style type=\"text/css\">\n",
              "</style>\n",
              "<table id=\"T_60503\" class=\"dataframe\">\n",
              "  <thead>\n",
              "    <tr>\n",
              "      <th class=\"blank level0\" >&nbsp;</th>\n",
              "      <th id=\"T_60503_level0_col0\" class=\"col_heading level0 col0\" >Description</th>\n",
              "      <th id=\"T_60503_level0_col1\" class=\"col_heading level0 col1\" >Value</th>\n",
              "    </tr>\n",
              "  </thead>\n",
              "  <tbody>\n",
              "    <tr>\n",
              "      <th id=\"T_60503_level0_row0\" class=\"row_heading level0 row0\" >0</th>\n",
              "      <td id=\"T_60503_row0_col0\" class=\"data row0 col0\" >session_id</td>\n",
              "      <td id=\"T_60503_row0_col1\" class=\"data row0 col1\" >3641</td>\n",
              "    </tr>\n",
              "    <tr>\n",
              "      <th id=\"T_60503_level0_row1\" class=\"row_heading level0 row1\" >1</th>\n",
              "      <td id=\"T_60503_row1_col0\" class=\"data row1 col0\" >Target</td>\n",
              "      <td id=\"T_60503_row1_col1\" class=\"data row1 col1\" >ValorBase</td>\n",
              "    </tr>\n",
              "    <tr>\n",
              "      <th id=\"T_60503_level0_row2\" class=\"row_heading level0 row2\" >2</th>\n",
              "      <td id=\"T_60503_row2_col0\" class=\"data row2 col0\" >Approach</td>\n",
              "      <td id=\"T_60503_row2_col1\" class=\"data row2 col1\" >Univariate</td>\n",
              "    </tr>\n",
              "    <tr>\n",
              "      <th id=\"T_60503_level0_row3\" class=\"row_heading level0 row3\" >3</th>\n",
              "      <td id=\"T_60503_row3_col0\" class=\"data row3 col0\" >Exogenous Variables</td>\n",
              "      <td id=\"T_60503_row3_col1\" class=\"data row3 col1\" >Present</td>\n",
              "    </tr>\n",
              "    <tr>\n",
              "      <th id=\"T_60503_level0_row4\" class=\"row_heading level0 row4\" >4</th>\n",
              "      <td id=\"T_60503_row4_col0\" class=\"data row4 col0\" >Original data shape</td>\n",
              "      <td id=\"T_60503_row4_col1\" class=\"data row4 col1\" >(31, 4)</td>\n",
              "    </tr>\n",
              "    <tr>\n",
              "      <th id=\"T_60503_level0_row5\" class=\"row_heading level0 row5\" >5</th>\n",
              "      <td id=\"T_60503_row5_col0\" class=\"data row5 col0\" >Transformed data shape</td>\n",
              "      <td id=\"T_60503_row5_col1\" class=\"data row5 col1\" >(31, 4)</td>\n",
              "    </tr>\n",
              "    <tr>\n",
              "      <th id=\"T_60503_level0_row6\" class=\"row_heading level0 row6\" >6</th>\n",
              "      <td id=\"T_60503_row6_col0\" class=\"data row6 col0\" >Transformed train set shape</td>\n",
              "      <td id=\"T_60503_row6_col1\" class=\"data row6 col1\" >(28, 4)</td>\n",
              "    </tr>\n",
              "    <tr>\n",
              "      <th id=\"T_60503_level0_row7\" class=\"row_heading level0 row7\" >7</th>\n",
              "      <td id=\"T_60503_row7_col0\" class=\"data row7 col0\" >Transformed test set shape</td>\n",
              "      <td id=\"T_60503_row7_col1\" class=\"data row7 col1\" >(3, 4)</td>\n",
              "    </tr>\n",
              "    <tr>\n",
              "      <th id=\"T_60503_level0_row8\" class=\"row_heading level0 row8\" >8</th>\n",
              "      <td id=\"T_60503_row8_col0\" class=\"data row8 col0\" >Rows with missing values</td>\n",
              "      <td id=\"T_60503_row8_col1\" class=\"data row8 col1\" >0.0%</td>\n",
              "    </tr>\n",
              "    <tr>\n",
              "      <th id=\"T_60503_level0_row9\" class=\"row_heading level0 row9\" >9</th>\n",
              "      <td id=\"T_60503_row9_col0\" class=\"data row9 col0\" >Fold Generator</td>\n",
              "      <td id=\"T_60503_row9_col1\" class=\"data row9 col1\" >ExpandingWindowSplitter</td>\n",
              "    </tr>\n",
              "    <tr>\n",
              "      <th id=\"T_60503_level0_row10\" class=\"row_heading level0 row10\" >10</th>\n",
              "      <td id=\"T_60503_row10_col0\" class=\"data row10 col0\" >Fold Number</td>\n",
              "      <td id=\"T_60503_row10_col1\" class=\"data row10 col1\" >3</td>\n",
              "    </tr>\n",
              "    <tr>\n",
              "      <th id=\"T_60503_level0_row11\" class=\"row_heading level0 row11\" >11</th>\n",
              "      <td id=\"T_60503_row11_col0\" class=\"data row11 col0\" >Enforce Prediction Interval</td>\n",
              "      <td id=\"T_60503_row11_col1\" class=\"data row11 col1\" >False</td>\n",
              "    </tr>\n",
              "    <tr>\n",
              "      <th id=\"T_60503_level0_row12\" class=\"row_heading level0 row12\" >12</th>\n",
              "      <td id=\"T_60503_row12_col0\" class=\"data row12 col0\" >Splits used for hyperparameters</td>\n",
              "      <td id=\"T_60503_row12_col1\" class=\"data row12 col1\" >all</td>\n",
              "    </tr>\n",
              "    <tr>\n",
              "      <th id=\"T_60503_level0_row13\" class=\"row_heading level0 row13\" >13</th>\n",
              "      <td id=\"T_60503_row13_col0\" class=\"data row13 col0\" >User Defined Seasonal Period(s)</td>\n",
              "      <td id=\"T_60503_row13_col1\" class=\"data row13 col1\" >None</td>\n",
              "    </tr>\n",
              "    <tr>\n",
              "      <th id=\"T_60503_level0_row14\" class=\"row_heading level0 row14\" >14</th>\n",
              "      <td id=\"T_60503_row14_col0\" class=\"data row14 col0\" >Ignore Seasonality Test</td>\n",
              "      <td id=\"T_60503_row14_col1\" class=\"data row14 col1\" >False</td>\n",
              "    </tr>\n",
              "    <tr>\n",
              "      <th id=\"T_60503_level0_row15\" class=\"row_heading level0 row15\" >15</th>\n",
              "      <td id=\"T_60503_row15_col0\" class=\"data row15 col0\" >Seasonality Detection Algo</td>\n",
              "      <td id=\"T_60503_row15_col1\" class=\"data row15 col1\" >auto</td>\n",
              "    </tr>\n",
              "    <tr>\n",
              "      <th id=\"T_60503_level0_row16\" class=\"row_heading level0 row16\" >16</th>\n",
              "      <td id=\"T_60503_row16_col0\" class=\"data row16 col0\" >Max Period to Consider</td>\n",
              "      <td id=\"T_60503_row16_col1\" class=\"data row16 col1\" >60</td>\n",
              "    </tr>\n",
              "    <tr>\n",
              "      <th id=\"T_60503_level0_row17\" class=\"row_heading level0 row17\" >17</th>\n",
              "      <td id=\"T_60503_row17_col0\" class=\"data row17 col0\" >Seasonal Period(s) Tested</td>\n",
              "      <td id=\"T_60503_row17_col1\" class=\"data row17 col1\" >[]</td>\n",
              "    </tr>\n",
              "    <tr>\n",
              "      <th id=\"T_60503_level0_row18\" class=\"row_heading level0 row18\" >18</th>\n",
              "      <td id=\"T_60503_row18_col0\" class=\"data row18 col0\" >Significant Seasonal Period(s)</td>\n",
              "      <td id=\"T_60503_row18_col1\" class=\"data row18 col1\" >[1]</td>\n",
              "    </tr>\n",
              "    <tr>\n",
              "      <th id=\"T_60503_level0_row19\" class=\"row_heading level0 row19\" >19</th>\n",
              "      <td id=\"T_60503_row19_col0\" class=\"data row19 col0\" >Significant Seasonal Period(s) without Harmonics</td>\n",
              "      <td id=\"T_60503_row19_col1\" class=\"data row19 col1\" >[1]</td>\n",
              "    </tr>\n",
              "    <tr>\n",
              "      <th id=\"T_60503_level0_row20\" class=\"row_heading level0 row20\" >20</th>\n",
              "      <td id=\"T_60503_row20_col0\" class=\"data row20 col0\" >Remove Harmonics</td>\n",
              "      <td id=\"T_60503_row20_col1\" class=\"data row20 col1\" >False</td>\n",
              "    </tr>\n",
              "    <tr>\n",
              "      <th id=\"T_60503_level0_row21\" class=\"row_heading level0 row21\" >21</th>\n",
              "      <td id=\"T_60503_row21_col0\" class=\"data row21 col0\" >Harmonics Order Method</td>\n",
              "      <td id=\"T_60503_row21_col1\" class=\"data row21 col1\" >harmonic_max</td>\n",
              "    </tr>\n",
              "    <tr>\n",
              "      <th id=\"T_60503_level0_row22\" class=\"row_heading level0 row22\" >22</th>\n",
              "      <td id=\"T_60503_row22_col0\" class=\"data row22 col0\" >Num Seasonalities to Use</td>\n",
              "      <td id=\"T_60503_row22_col1\" class=\"data row22 col1\" >1</td>\n",
              "    </tr>\n",
              "    <tr>\n",
              "      <th id=\"T_60503_level0_row23\" class=\"row_heading level0 row23\" >23</th>\n",
              "      <td id=\"T_60503_row23_col0\" class=\"data row23 col0\" >All Seasonalities to Use</td>\n",
              "      <td id=\"T_60503_row23_col1\" class=\"data row23 col1\" >[1]</td>\n",
              "    </tr>\n",
              "    <tr>\n",
              "      <th id=\"T_60503_level0_row24\" class=\"row_heading level0 row24\" >24</th>\n",
              "      <td id=\"T_60503_row24_col0\" class=\"data row24 col0\" >Primary Seasonality</td>\n",
              "      <td id=\"T_60503_row24_col1\" class=\"data row24 col1\" >1</td>\n",
              "    </tr>\n",
              "    <tr>\n",
              "      <th id=\"T_60503_level0_row25\" class=\"row_heading level0 row25\" >25</th>\n",
              "      <td id=\"T_60503_row25_col0\" class=\"data row25 col0\" >Seasonality Present</td>\n",
              "      <td id=\"T_60503_row25_col1\" class=\"data row25 col1\" >False</td>\n",
              "    </tr>\n",
              "    <tr>\n",
              "      <th id=\"T_60503_level0_row26\" class=\"row_heading level0 row26\" >26</th>\n",
              "      <td id=\"T_60503_row26_col0\" class=\"data row26 col0\" >Seasonality Type</td>\n",
              "      <td id=\"T_60503_row26_col1\" class=\"data row26 col1\" >None</td>\n",
              "    </tr>\n",
              "    <tr>\n",
              "      <th id=\"T_60503_level0_row27\" class=\"row_heading level0 row27\" >27</th>\n",
              "      <td id=\"T_60503_row27_col0\" class=\"data row27 col0\" >Target Strictly Positive</td>\n",
              "      <td id=\"T_60503_row27_col1\" class=\"data row27 col1\" >True</td>\n",
              "    </tr>\n",
              "    <tr>\n",
              "      <th id=\"T_60503_level0_row28\" class=\"row_heading level0 row28\" >28</th>\n",
              "      <td id=\"T_60503_row28_col0\" class=\"data row28 col0\" >Target White Noise</td>\n",
              "      <td id=\"T_60503_row28_col1\" class=\"data row28 col1\" >No</td>\n",
              "    </tr>\n",
              "    <tr>\n",
              "      <th id=\"T_60503_level0_row29\" class=\"row_heading level0 row29\" >29</th>\n",
              "      <td id=\"T_60503_row29_col0\" class=\"data row29 col0\" >Recommended d</td>\n",
              "      <td id=\"T_60503_row29_col1\" class=\"data row29 col1\" >0</td>\n",
              "    </tr>\n",
              "    <tr>\n",
              "      <th id=\"T_60503_level0_row30\" class=\"row_heading level0 row30\" >30</th>\n",
              "      <td id=\"T_60503_row30_col0\" class=\"data row30 col0\" >Recommended Seasonal D</td>\n",
              "      <td id=\"T_60503_row30_col1\" class=\"data row30 col1\" >0</td>\n",
              "    </tr>\n",
              "    <tr>\n",
              "      <th id=\"T_60503_level0_row31\" class=\"row_heading level0 row31\" >31</th>\n",
              "      <td id=\"T_60503_row31_col0\" class=\"data row31 col0\" >Preprocess</td>\n",
              "      <td id=\"T_60503_row31_col1\" class=\"data row31 col1\" >False</td>\n",
              "    </tr>\n",
              "    <tr>\n",
              "      <th id=\"T_60503_level0_row32\" class=\"row_heading level0 row32\" >32</th>\n",
              "      <td id=\"T_60503_row32_col0\" class=\"data row32 col0\" >CPU Jobs</td>\n",
              "      <td id=\"T_60503_row32_col1\" class=\"data row32 col1\" >-1</td>\n",
              "    </tr>\n",
              "    <tr>\n",
              "      <th id=\"T_60503_level0_row33\" class=\"row_heading level0 row33\" >33</th>\n",
              "      <td id=\"T_60503_row33_col0\" class=\"data row33 col0\" >Use GPU</td>\n",
              "      <td id=\"T_60503_row33_col1\" class=\"data row33 col1\" >False</td>\n",
              "    </tr>\n",
              "    <tr>\n",
              "      <th id=\"T_60503_level0_row34\" class=\"row_heading level0 row34\" >34</th>\n",
              "      <td id=\"T_60503_row34_col0\" class=\"data row34 col0\" >Log Experiment</td>\n",
              "      <td id=\"T_60503_row34_col1\" class=\"data row34 col1\" >False</td>\n",
              "    </tr>\n",
              "    <tr>\n",
              "      <th id=\"T_60503_level0_row35\" class=\"row_heading level0 row35\" >35</th>\n",
              "      <td id=\"T_60503_row35_col0\" class=\"data row35 col0\" >Experiment Name</td>\n",
              "      <td id=\"T_60503_row35_col1\" class=\"data row35 col1\" >ts-default-name</td>\n",
              "    </tr>\n",
              "    <tr>\n",
              "      <th id=\"T_60503_level0_row36\" class=\"row_heading level0 row36\" >36</th>\n",
              "      <td id=\"T_60503_row36_col0\" class=\"data row36 col0\" >USI</td>\n",
              "      <td id=\"T_60503_row36_col1\" class=\"data row36 col1\" >b0c0</td>\n",
              "    </tr>\n",
              "  </tbody>\n",
              "</table>\n"
            ]
          },
          "metadata": {}
        },
        {
          "output_type": "execute_result",
          "data": {
            "text/plain": [
              "<pycaret.time_series.forecasting.oop.TSForecastingExperiment at 0x7f679b353a00>"
            ]
          },
          "metadata": {},
          "execution_count": 12
        }
      ]
    },
    {
      "cell_type": "code",
      "source": [
        "plot_model(plot='diagnostics')"
      ],
      "metadata": {
        "colab": {
          "base_uri": "https://localhost:8080/",
          "height": 542
        },
        "id": "AzD-lrPatwx9",
        "outputId": "1508875b-c31b-472c-a7ba-65424e9a9e94"
      },
      "execution_count": 13,
      "outputs": [
        {
          "output_type": "display_data",
          "data": {
            "text/html": [
              "<html>\n",
              "<head><meta charset=\"utf-8\" /></head>\n",
              "<body>\n",
              "    <div>            <script src=\"https://cdnjs.cloudflare.com/ajax/libs/mathjax/2.7.5/MathJax.js?config=TeX-AMS-MML_SVG\"></script><script type=\"text/javascript\">if (window.MathJax && window.MathJax.Hub && window.MathJax.Hub.Config) {window.MathJax.Hub.Config({SVG: {font: \"STIX-Web\"}});}</script>                <script type=\"text/javascript\">window.PlotlyConfig = {MathJaxConfig: 'local'};</script>\n",
              "        <script src=\"https://cdn.plot.ly/plotly-2.18.2.min.js\"></script>                <div id=\"a202d811-0d15-413d-bed3-c59292bd348e\" class=\"plotly-graph-div\" style=\"height:525px; width:100%;\"></div>            <script type=\"text/javascript\">                                    window.PLOTLYENV=window.PLOTLYENV || {};                                    if (document.getElementById(\"a202d811-0d15-413d-bed3-c59292bd348e\")) {                    Plotly.newPlot(                        \"a202d811-0d15-413d-bed3-c59292bd348e\",                        [{\"line\":{\"color\":\"rgb(31, 119, 180)\",\"width\":2},\"marker\":{\"color\":\"rgb(31, 119, 180)\",\"size\":5},\"mode\":\"lines+markers\",\"name\":\"ValorBase (transformed)\",\"x\":[0,1,2,3,4,5,6,7,8,9,10,11,12,13,14,15,16,17,18,19,20,21,22,23,24,25,26,27,28,29,30],\"y\":[1401982.0,14006864.0,16750459.0,24747994.41,29907144.0,38865339.0,40999147.0,34217119.0,29243960.0,34004406.0,25441220.0,24804335.0,18872772.82,13430935.0,13103489.31,21715868.97,74620220.84,66765218.36,45202272.42,35930936.45,46094925.54,42104735.43,43847797.02,47084662.69,53734270.02,71015801.59,52344116.29,30532544.15,31000048.81,31067616.59,13917779.6],\"type\":\"scattergl\",\"xaxis\":\"x\",\"yaxis\":\"y\",\"showlegend\":false},{\"hoverinfo\":\"text\",\"hovertext\":[\"Freq: 0.0323<br>Ampl: 151.9656<br>Time period: 31.0\",\"Freq: 0.0645<br>Ampl: 153.2675<br>Time period: 15.5\",\"Freq: 0.0968<br>Ampl: 153.2582<br>Time period: 10.3333\",\"Freq: 0.129<br>Ampl: 153.4912<br>Time period: 7.75\",\"Freq: 0.1613<br>Ampl: 152.0477<br>Time period: 6.2\",\"Freq: 0.1935<br>Ampl: 150.7688<br>Time period: 5.1667\",\"Freq: 0.2258<br>Ampl: 150.061<br>Time period: 4.4286\",\"Freq: 0.2581<br>Ampl: 148.6958<br>Time period: 3.875\",\"Freq: 0.2903<br>Ampl: 146.2754<br>Time period: 3.4444\",\"Freq: 0.3226<br>Ampl: 143.7881<br>Time period: 3.1\",\"Freq: 0.3548<br>Ampl: 141.6238<br>Time period: 2.8182\",\"Freq: 0.3871<br>Ampl: 139.6522<br>Time period: 2.5833\",\"Freq: 0.4194<br>Ampl: 141.0261<br>Time period: 2.3846\",\"Freq: 0.4516<br>Ampl: 141.9041<br>Time period: 2.2143\",\"Freq: 0.4839<br>Ampl: 140.5021<br>Time period: 2.0667\"],\"line\":{\"color\":\"#1f77b4\",\"width\":2},\"marker\":{\"size\":5},\"mode\":\"lines+markers\",\"name\":\"ValorBase (transformed)\",\"showlegend\":false,\"x\":[0.03225806451612903,0.06451612903225806,0.0967741935483871,0.12903225806451613,0.16129032258064516,0.1935483870967742,0.22580645161290322,0.25806451612903225,0.29032258064516125,0.3225806451612903,0.3548387096774194,0.3870967741935484,0.4193548387096774,0.45161290322580644,0.4838709677419355],\"y\":[151.96562950411908,153.2674837365137,153.2582154472325,153.49118361046527,152.04773250005815,150.76883726298496,150.06099410720185,148.6958413207787,146.2753786275582,143.78806292257417,141.62375260618978,139.65222332912742,141.02613538252413,141.90407011465607,140.5021132777122],\"type\":\"scattergl\",\"xaxis\":\"x2\",\"yaxis\":\"y2\"},{\"alignmentgroup\":\"True\",\"bingroup\":\"x\",\"hovertemplate\":\"variable=ValorBase (transformed)<br>value=%{x}<br>count=%{y}<extra></extra>\",\"legendgroup\":\"ValorBase (transformed)\",\"marker\":{\"color\":\"#1f77b4\",\"pattern\":{\"shape\":\"\"}},\"name\":\"ValorBase (transformed)\",\"offsetgroup\":\"ValorBase (transformed)\",\"orientation\":\"v\",\"showlegend\":false,\"x\":[1401982.0,14006864.0,16750459.0,24747994.41,29907144.0,38865339.0,40999147.0,34217119.0,29243960.0,34004406.0,25441220.0,24804335.0,18872772.82,13430935.0,13103489.31,21715868.97,74620220.84,66765218.36,45202272.42,35930936.45,46094925.54,42104735.43,43847797.02,47084662.69,53734270.02,71015801.59,52344116.29,30532544.15,31000048.81,31067616.59,13917779.6],\"xaxis\":\"x3\",\"yaxis\":\"y3\",\"type\":\"histogram\"},{\"marker\":{\"color\":\"#1f77b4\"},\"mode\":\"markers\",\"name\":\"ValorBase (transformed)\",\"x\":[-1.8627318674216515,-1.5341205443525463,-1.318010897303537,-1.1503493803760079,-1.009990169249582,-0.887146559018876,-0.7764217611479277,-0.6744897501960817,-0.579132162255556,-0.4887764111146695,-0.40225006532172536,-0.31863936396437514,-0.23720210932878769,-0.1573106846101707,-0.0784124127331122,0.0,0.0784124127331122,0.1573106846101707,0.23720210932878769,0.31863936396437514,0.40225006532172536,0.4887764111146695,0.579132162255556,0.6744897501960817,0.7764217611479277,0.887146559018876,1.009990169249582,1.1503493803760079,1.318010897303537,1.5341205443525463,1.8627318674216515],\"y\":[1401982.0,13103489.31,13430935.0,13917779.6,14006864.0,16750459.0,18872772.82,21715868.97,24747994.41,24804335.0,25441220.0,29243960.0,29907144.0,30532544.15,31000048.81,31067616.59,34004406.0,34217119.0,35930936.45,38865339.0,40999147.0,42104735.43,43847797.02,45202272.42,46094925.54,47084662.69,52344116.29,53734270.02,66765218.36,71015801.59,74620220.84],\"type\":\"scattergl\",\"xaxis\":\"x4\",\"yaxis\":\"y4\",\"showlegend\":false},{\"line\":{\"color\":\"#3f3f3f\"},\"mode\":\"lines\",\"name\":\"ValorBase (transformed)\",\"x\":[-1.8627318674216515,-1.5341205443525463,-1.318010897303537,-1.1503493803760079,-1.009990169249582,-0.887146559018876,-0.7764217611479277,-0.6744897501960817,-0.579132162255556,-0.4887764111146695,-0.40225006532172536,-0.31863936396437514,-0.23720210932878769,-0.1573106846101707,-0.0784124127331122,0.0,0.0784124127331122,0.1573106846101707,0.23720210932878769,0.31863936396437514,0.40225006532172536,0.4887764111146695,0.579132162255556,0.6744897501960817,0.7764217611479277,0.887146559018876,1.009990169249582,1.1503493803760079,1.318010897303537,1.5341205443525463,1.8627318674216515],\"y\":[2302388.656674262,7966984.9706410915,11692279.33558619,14582425.66989873,17001935.328154914,19119511.360557485,21028183.514719978,22785285.75976839,24429058.21444755,25986609.092725515,27478148.747725952,28919428.574280888,30323242.563768145,31700409.56383365,33060456.612362016,34412128.42935484,35763800.24634766,37123847.29487603,38501014.29494154,39904828.28442879,41346108.11098373,42837647.76598416,44395198.64426213,46038971.09894129,47796073.3439897,49704745.4981522,51822321.530554764,54241831.188810945,57131977.52312349,60857271.88806859,66521868.20203541],\"type\":\"scattergl\",\"xaxis\":\"x4\",\"yaxis\":\"y4\",\"showlegend\":false},{\"line\":{\"color\":\"#3f3f3f\"},\"mode\":\"lines\",\"name\":\"ACF\",\"x\":[0,0],\"y\":[0,1.0],\"type\":\"scattergl\",\"xaxis\":\"x5\",\"yaxis\":\"y5\",\"showlegend\":false},{\"line\":{\"color\":\"#3f3f3f\"},\"mode\":\"lines\",\"name\":\"ACF\",\"x\":[1,1],\"y\":[0,0.611169264179629],\"type\":\"scattergl\",\"xaxis\":\"x5\",\"yaxis\":\"y5\",\"showlegend\":false},{\"line\":{\"color\":\"#3f3f3f\"},\"mode\":\"lines\",\"name\":\"ACF\",\"x\":[2,2],\"y\":[0,0.23603856036080836],\"type\":\"scattergl\",\"xaxis\":\"x5\",\"yaxis\":\"y5\",\"showlegend\":false},{\"line\":{\"color\":\"#3f3f3f\"},\"mode\":\"lines\",\"name\":\"ACF\",\"x\":[3,3],\"y\":[0,0.048542205094608125],\"type\":\"scattergl\",\"xaxis\":\"x5\",\"yaxis\":\"y5\",\"showlegend\":false},{\"line\":{\"color\":\"#3f3f3f\"},\"mode\":\"lines\",\"name\":\"ACF\",\"x\":[4,4],\"y\":[0,-0.036041599670286494],\"type\":\"scattergl\",\"xaxis\":\"x5\",\"yaxis\":\"y5\",\"showlegend\":false},{\"line\":{\"color\":\"#3f3f3f\"},\"mode\":\"lines\",\"name\":\"ACF\",\"x\":[5,5],\"y\":[0,-0.10203526278178468],\"type\":\"scattergl\",\"xaxis\":\"x5\",\"yaxis\":\"y5\",\"showlegend\":false},{\"line\":{\"color\":\"#3f3f3f\"},\"mode\":\"lines\",\"name\":\"ACF\",\"x\":[6,6],\"y\":[0,-0.06065443663248591],\"type\":\"scattergl\",\"xaxis\":\"x5\",\"yaxis\":\"y5\",\"showlegend\":false},{\"line\":{\"color\":\"#3f3f3f\"},\"mode\":\"lines\",\"name\":\"ACF\",\"x\":[7,7],\"y\":[0,0.037205845946668495],\"type\":\"scattergl\",\"xaxis\":\"x5\",\"yaxis\":\"y5\",\"showlegend\":false},{\"line\":{\"color\":\"#3f3f3f\"},\"mode\":\"lines\",\"name\":\"ACF\",\"x\":[8,8],\"y\":[0,0.12173742610745737],\"type\":\"scattergl\",\"xaxis\":\"x5\",\"yaxis\":\"y5\",\"showlegend\":false},{\"line\":{\"color\":\"#3f3f3f\"},\"mode\":\"lines\",\"name\":\"ACF\",\"x\":[9,9],\"y\":[0,0.11966892799514293],\"type\":\"scattergl\",\"xaxis\":\"x5\",\"yaxis\":\"y5\",\"showlegend\":false},{\"line\":{\"color\":\"#3f3f3f\"},\"mode\":\"lines\",\"name\":\"ACF\",\"x\":[10,10],\"y\":[0,0.006241629736804942],\"type\":\"scattergl\",\"xaxis\":\"x5\",\"yaxis\":\"y5\",\"showlegend\":false},{\"line\":{\"color\":\"#3f3f3f\"},\"mode\":\"lines\",\"name\":\"ACF\",\"x\":[11,11],\"y\":[0,-0.0497041096895627],\"type\":\"scattergl\",\"xaxis\":\"x5\",\"yaxis\":\"y5\",\"showlegend\":false},{\"line\":{\"color\":\"#3f3f3f\"},\"mode\":\"lines\",\"name\":\"ACF\",\"x\":[12,12],\"y\":[0,-0.07205053377552742],\"type\":\"scattergl\",\"xaxis\":\"x5\",\"yaxis\":\"y5\",\"showlegend\":false},{\"line\":{\"color\":\"#3f3f3f\"},\"mode\":\"lines\",\"name\":\"ACF\",\"x\":[13,13],\"y\":[0,-0.11794029112282159],\"type\":\"scattergl\",\"xaxis\":\"x5\",\"yaxis\":\"y5\",\"showlegend\":false},{\"line\":{\"color\":\"#3f3f3f\"},\"mode\":\"lines\",\"name\":\"ACF\",\"x\":[14,14],\"y\":[0,-0.1641191263496678],\"type\":\"scattergl\",\"xaxis\":\"x5\",\"yaxis\":\"y5\",\"showlegend\":false},{\"line\":{\"color\":\"#3f3f3f\"},\"mode\":\"lines\",\"name\":\"ACF\",\"x\":[15,15],\"y\":[0,-0.11873150540337085],\"type\":\"scattergl\",\"xaxis\":\"x5\",\"yaxis\":\"y5\",\"showlegend\":false},{\"line\":{\"color\":\"#3f3f3f\"},\"mode\":\"lines\",\"name\":\"ACF\",\"x\":[16,16],\"y\":[0,-0.1986483219521839],\"type\":\"scattergl\",\"xaxis\":\"x5\",\"yaxis\":\"y5\",\"showlegend\":false},{\"line\":{\"color\":\"#3f3f3f\"},\"mode\":\"lines\",\"name\":\"ACF\",\"x\":[17,17],\"y\":[0,-0.10722866336384183],\"type\":\"scattergl\",\"xaxis\":\"x5\",\"yaxis\":\"y5\",\"showlegend\":false},{\"line\":{\"color\":\"#3f3f3f\"},\"mode\":\"lines\",\"name\":\"ACF\",\"x\":[18,18],\"y\":[0,-0.026453063611811135],\"type\":\"scattergl\",\"xaxis\":\"x5\",\"yaxis\":\"y5\",\"showlegend\":false},{\"line\":{\"color\":\"#3f3f3f\"},\"mode\":\"lines\",\"name\":\"ACF\",\"x\":[19,19],\"y\":[0,-0.00007165077639937404],\"type\":\"scattergl\",\"xaxis\":\"x5\",\"yaxis\":\"y5\",\"showlegend\":false},{\"line\":{\"color\":\"#3f3f3f\"},\"mode\":\"lines\",\"name\":\"ACF\",\"x\":[20,20],\"y\":[0,-0.047120606116136554],\"type\":\"scattergl\",\"xaxis\":\"x5\",\"yaxis\":\"y5\",\"showlegend\":false},{\"line\":{\"color\":\"#3f3f3f\"},\"mode\":\"lines\",\"name\":\"ACF\",\"x\":[21,21],\"y\":[0,-0.10218799168169401],\"type\":\"scattergl\",\"xaxis\":\"x5\",\"yaxis\":\"y5\",\"showlegend\":false},{\"line\":{\"color\":\"#3f3f3f\"},\"mode\":\"lines\",\"name\":\"ACF\",\"x\":[22,22],\"y\":[0,-0.13884989107988582],\"type\":\"scattergl\",\"xaxis\":\"x5\",\"yaxis\":\"y5\",\"showlegend\":false},{\"line\":{\"color\":\"#3f3f3f\"},\"mode\":\"lines\",\"name\":\"ACF\",\"x\":[23,23],\"y\":[0,-0.17891871315850053],\"type\":\"scattergl\",\"xaxis\":\"x5\",\"yaxis\":\"y5\",\"showlegend\":false},{\"line\":{\"color\":\"#3f3f3f\"},\"mode\":\"lines\",\"name\":\"ACF\",\"x\":[24,24],\"y\":[0,-0.19523986346091968],\"type\":\"scattergl\",\"xaxis\":\"x5\",\"yaxis\":\"y5\",\"showlegend\":false},{\"line\":{\"color\":\"#3f3f3f\"},\"mode\":\"lines\",\"name\":\"ACF\",\"x\":[25,25],\"y\":[0,-0.16814725732259403],\"type\":\"scattergl\",\"xaxis\":\"x5\",\"yaxis\":\"y5\",\"showlegend\":false},{\"line\":{\"color\":\"#3f3f3f\"},\"mode\":\"lines\",\"name\":\"ACF\",\"x\":[26,26],\"y\":[0,-0.035592342252134763],\"type\":\"scattergl\",\"xaxis\":\"x5\",\"yaxis\":\"y5\",\"showlegend\":false},{\"line\":{\"color\":\"#3f3f3f\"},\"mode\":\"lines\",\"name\":\"ACF\",\"x\":[27,27],\"y\":[0,0.04937473903057036],\"type\":\"scattergl\",\"xaxis\":\"x5\",\"yaxis\":\"y5\",\"showlegend\":false},{\"line\":{\"color\":\"#3f3f3f\"},\"mode\":\"lines\",\"name\":\"ACF\",\"x\":[28,28],\"y\":[0,0.058930471201640744],\"type\":\"scattergl\",\"xaxis\":\"x5\",\"yaxis\":\"y5\",\"showlegend\":false},{\"line\":{\"color\":\"#3f3f3f\"},\"mode\":\"lines\",\"name\":\"ACF\",\"x\":[29,29],\"y\":[0,0.05738373729822258],\"type\":\"scattergl\",\"xaxis\":\"x5\",\"yaxis\":\"y5\",\"showlegend\":false},{\"line\":{\"color\":\"#3f3f3f\"},\"mode\":\"lines\",\"name\":\"ACF\",\"x\":[30,30],\"y\":[0,0.07344242325005625],\"type\":\"scattergl\",\"xaxis\":\"x5\",\"yaxis\":\"y5\",\"showlegend\":false},{\"marker\":{\"color\":\"#1f77b4\",\"size\":6},\"mode\":\"markers\",\"name\":\"ACF\",\"x\":[0,1,2,3,4,5,6,7,8,9,10,11,12,13,14,15,16,17,18,19,20,21,22,23,24,25,26,27,28,29,30],\"y\":[1.0,0.611169264179629,0.23603856036080836,0.048542205094608125,-0.036041599670286494,-0.10203526278178468,-0.06065443663248591,0.037205845946668495,0.12173742610745737,0.11966892799514293,0.006241629736804942,-0.0497041096895627,-0.07205053377552742,-0.11794029112282159,-0.1641191263496678,-0.11873150540337085,-0.1986483219521839,-0.10722866336384183,-0.026453063611811135,-0.00007165077639937404,-0.047120606116136554,-0.10218799168169401,-0.13884989107988582,-0.17891871315850053,-0.19523986346091968,-0.16814725732259403,-0.035592342252134763,0.04937473903057036,0.058930471201640744,0.05738373729822258,0.07344242325005625],\"type\":\"scattergl\",\"xaxis\":\"x5\",\"yaxis\":\"y5\",\"showlegend\":false},{\"line\":{\"color\":\"rgba(255,255,255,0)\"},\"mode\":\"lines\",\"name\":\"UC\",\"x\":[0,1,2,3,4,5,6,7,8,9,10,11,12,13,14,15,16,17,18,19,20,21,22,23,24,25,26,27,28,29,30],\"y\":[0.0,0.3520199234049176,0.465286685078649,0.4798954961475009,0.48050356360201935,0.480838447818403,0.4835140973526446,0.48445604695722294,0.48480999853429657,0.4885833247362732,0.4922020308357541,0.49221183888785147,0.49283341297377437,0.49413698418952834,0.4976130393165012,0.5042759390480277,0.5077282834019912,0.5172696655209393,0.5200168481851342,0.5201835726803813,0.5201835739033621,0.520712236956205,0.5231913926636117,0.527737943540995,0.5352018698239116,0.5439560698187896,0.5503593358631187,0.550644495984688,0.5511928444395398,0.5519730400246888,0.5527118006646067],\"type\":\"scatter\",\"xaxis\":\"x5\",\"yaxis\":\"y5\",\"showlegend\":false},{\"fill\":\"tonexty\",\"fillcolor\":\"rgba(32, 146, 230,0.3)\",\"line\":{\"color\":\"rgba(255,255,255,0)\"},\"mode\":\"lines\",\"name\":\"LC\",\"x\":[0,1,2,3,4,5,6,7,8,9,10,11,12,13,14,15,16,17,18,19,20,21,22,23,24,25,26,27,28,29,30],\"y\":[0.0,-0.3520199234049176,-0.465286685078649,-0.4798954961475008,-0.48050356360201935,-0.4808384478184031,-0.4835140973526446,-0.4844560469572229,-0.4848099985342965,-0.48858332473627325,-0.4922020308357541,-0.4922118388878515,-0.4928334129737745,-0.49413698418952845,-0.4976130393165012,-0.5042759390480277,-0.5077282834019912,-0.5172696655209393,-0.5200168481851342,-0.5201835726803813,-0.5201835739033621,-0.520712236956205,-0.5231913926636116,-0.527737943540995,-0.5352018698239116,-0.5439560698187896,-0.5503593358631187,-0.550644495984688,-0.5511928444395398,-0.5519730400246888,-0.5527118006646067],\"type\":\"scatter\",\"xaxis\":\"x5\",\"yaxis\":\"y5\",\"showlegend\":false},{\"line\":{\"color\":\"#3f3f3f\"},\"mode\":\"lines\",\"name\":\"PACF\",\"x\":[0,0],\"y\":[0,1.0],\"type\":\"scattergl\",\"xaxis\":\"x6\",\"yaxis\":\"y6\",\"showlegend\":false},{\"line\":{\"color\":\"#3f3f3f\"},\"mode\":\"lines\",\"name\":\"PACF\",\"x\":[1,1],\"y\":[0,0.6315415729856166],\"type\":\"scattergl\",\"xaxis\":\"x6\",\"yaxis\":\"y6\",\"showlegend\":false},{\"line\":{\"color\":\"#3f3f3f\"},\"mode\":\"lines\",\"name\":\"PACF\",\"x\":[2,2],\"y\":[0,-0.243743490044909],\"type\":\"scattergl\",\"xaxis\":\"x6\",\"yaxis\":\"y6\",\"showlegend\":false},{\"line\":{\"color\":\"#3f3f3f\"},\"mode\":\"lines\",\"name\":\"PACF\",\"x\":[3,3],\"y\":[0,0.016780489548672124],\"type\":\"scattergl\",\"xaxis\":\"x6\",\"yaxis\":\"y6\",\"showlegend\":false},{\"line\":{\"color\":\"#3f3f3f\"},\"mode\":\"lines\",\"name\":\"PACF\",\"x\":[4,4],\"y\":[0,-0.05233872595956515],\"type\":\"scattergl\",\"xaxis\":\"x6\",\"yaxis\":\"y6\",\"showlegend\":false},{\"line\":{\"color\":\"#3f3f3f\"},\"mode\":\"lines\",\"name\":\"PACF\",\"x\":[5,5],\"y\":[0,-0.099380980830583],\"type\":\"scattergl\",\"xaxis\":\"x6\",\"yaxis\":\"y6\",\"showlegend\":false},{\"line\":{\"color\":\"#3f3f3f\"},\"mode\":\"lines\",\"name\":\"PACF\",\"x\":[6,6],\"y\":[0,0.11437392841294779],\"type\":\"scattergl\",\"xaxis\":\"x6\",\"yaxis\":\"y6\",\"showlegend\":false},{\"line\":{\"color\":\"#3f3f3f\"},\"mode\":\"lines\",\"name\":\"PACF\",\"x\":[7,7],\"y\":[0,0.08900704442791764],\"type\":\"scattergl\",\"xaxis\":\"x6\",\"yaxis\":\"y6\",\"showlegend\":false},{\"line\":{\"color\":\"#3f3f3f\"},\"mode\":\"lines\",\"name\":\"PACF\",\"x\":[8,8],\"y\":[0,0.09903821176345425],\"type\":\"scattergl\",\"xaxis\":\"x6\",\"yaxis\":\"y6\",\"showlegend\":false},{\"line\":{\"color\":\"#3f3f3f\"},\"mode\":\"lines\",\"name\":\"PACF\",\"x\":[9,9],\"y\":[0,-0.025528031815716928],\"type\":\"scattergl\",\"xaxis\":\"x6\",\"yaxis\":\"y6\",\"showlegend\":false},{\"line\":{\"color\":\"#3f3f3f\"},\"mode\":\"lines\",\"name\":\"PACF\",\"x\":[10,10],\"y\":[0,-0.2046091059907383],\"type\":\"scattergl\",\"xaxis\":\"x6\",\"yaxis\":\"y6\",\"showlegend\":false},{\"line\":{\"color\":\"#3f3f3f\"},\"mode\":\"lines\",\"name\":\"PACF\",\"x\":[11,11],\"y\":[0,0.061403568645269815],\"type\":\"scattergl\",\"xaxis\":\"x6\",\"yaxis\":\"y6\",\"showlegend\":false},{\"line\":{\"color\":\"#3f3f3f\"},\"mode\":\"lines\",\"name\":\"PACF\",\"x\":[12,12],\"y\":[0,-0.06420857442346652],\"type\":\"scattergl\",\"xaxis\":\"x6\",\"yaxis\":\"y6\",\"showlegend\":false},{\"line\":{\"color\":\"#3f3f3f\"},\"mode\":\"lines\",\"name\":\"PACF\",\"x\":[13,13],\"y\":[0,-0.13766273556025313],\"type\":\"scattergl\",\"xaxis\":\"x6\",\"yaxis\":\"y6\",\"showlegend\":false},{\"line\":{\"color\":\"#3f3f3f\"},\"mode\":\"lines\",\"name\":\"PACF\",\"x\":[14,14],\"y\":[0,-0.13610331742771692],\"type\":\"scattergl\",\"xaxis\":\"x6\",\"yaxis\":\"y6\",\"showlegend\":false},{\"marker\":{\"color\":\"#1f77b4\",\"size\":6},\"mode\":\"markers\",\"name\":\"PACF\",\"x\":[0,1,2,3,4,5,6,7,8,9,10,11,12,13,14],\"y\":[1.0,0.6315415729856166,-0.243743490044909,0.016780489548672124,-0.05233872595956515,-0.099380980830583,0.11437392841294779,0.08900704442791764,0.09903821176345425,-0.025528031815716928,-0.2046091059907383,0.061403568645269815,-0.06420857442346652,-0.13766273556025313,-0.13610331742771692],\"type\":\"scattergl\",\"xaxis\":\"x6\",\"yaxis\":\"y6\",\"showlegend\":false},{\"line\":{\"color\":\"rgba(255,255,255,0)\"},\"mode\":\"lines\",\"name\":\"UC\",\"x\":[0,1,2,3,4,5,6,7,8,9,10,11,12,13,14],\"y\":[0.0,0.3520199234049176,0.3520199234049176,0.3520199234049176,0.3520199234049176,0.3520199234049176,0.3520199234049176,0.3520199234049176,0.3520199234049176,0.3520199234049176,0.3520199234049176,0.3520199234049176,0.3520199234049176,0.3520199234049176,0.3520199234049176],\"type\":\"scatter\",\"xaxis\":\"x6\",\"yaxis\":\"y6\",\"showlegend\":false},{\"fill\":\"tonexty\",\"fillcolor\":\"rgba(32, 146, 230,0.3)\",\"line\":{\"color\":\"rgba(255,255,255,0)\"},\"mode\":\"lines\",\"name\":\"LC\",\"x\":[0,1,2,3,4,5,6,7,8,9,10,11,12,13,14],\"y\":[0.0,-0.3520199234049176,-0.3520199234049176,-0.3520199234049176,-0.3520199234049176,-0.3520199234049176,-0.3520199234049176,-0.3520199234049176,-0.3520199234049176,-0.3520199234049176,-0.3520199234049176,-0.3520199234049176,-0.3520199234049176,-0.3520199234049176,-0.3520199234049176],\"type\":\"scatter\",\"xaxis\":\"x6\",\"yaxis\":\"y6\",\"showlegend\":false}],                        {\"template\":{\"data\":{\"barpolar\":[{\"marker\":{\"line\":{\"color\":\"rgb(237,237,237)\",\"width\":0.5},\"pattern\":{\"fillmode\":\"overlay\",\"size\":10,\"solidity\":0.2}},\"type\":\"barpolar\"}],\"bar\":[{\"error_x\":{\"color\":\"rgb(51,51,51)\"},\"error_y\":{\"color\":\"rgb(51,51,51)\"},\"marker\":{\"line\":{\"color\":\"rgb(237,237,237)\",\"width\":0.5},\"pattern\":{\"fillmode\":\"overlay\",\"size\":10,\"solidity\":0.2}},\"type\":\"bar\"}],\"carpet\":[{\"aaxis\":{\"endlinecolor\":\"rgb(51,51,51)\",\"gridcolor\":\"white\",\"linecolor\":\"white\",\"minorgridcolor\":\"white\",\"startlinecolor\":\"rgb(51,51,51)\"},\"baxis\":{\"endlinecolor\":\"rgb(51,51,51)\",\"gridcolor\":\"white\",\"linecolor\":\"white\",\"minorgridcolor\":\"white\",\"startlinecolor\":\"rgb(51,51,51)\"},\"type\":\"carpet\"}],\"choropleth\":[{\"colorbar\":{\"outlinewidth\":0,\"tickcolor\":\"rgb(237,237,237)\",\"ticklen\":6,\"ticks\":\"inside\"},\"type\":\"choropleth\"}],\"contourcarpet\":[{\"colorbar\":{\"outlinewidth\":0,\"tickcolor\":\"rgb(237,237,237)\",\"ticklen\":6,\"ticks\":\"inside\"},\"type\":\"contourcarpet\"}],\"contour\":[{\"colorbar\":{\"outlinewidth\":0,\"tickcolor\":\"rgb(237,237,237)\",\"ticklen\":6,\"ticks\":\"inside\"},\"colorscale\":[[0,\"rgb(20,44,66)\"],[1,\"rgb(90,179,244)\"]],\"type\":\"contour\"}],\"heatmapgl\":[{\"colorbar\":{\"outlinewidth\":0,\"tickcolor\":\"rgb(237,237,237)\",\"ticklen\":6,\"ticks\":\"inside\"},\"colorscale\":[[0,\"rgb(20,44,66)\"],[1,\"rgb(90,179,244)\"]],\"type\":\"heatmapgl\"}],\"heatmap\":[{\"colorbar\":{\"outlinewidth\":0,\"tickcolor\":\"rgb(237,237,237)\",\"ticklen\":6,\"ticks\":\"inside\"},\"colorscale\":[[0,\"rgb(20,44,66)\"],[1,\"rgb(90,179,244)\"]],\"type\":\"heatmap\"}],\"histogram2dcontour\":[{\"colorbar\":{\"outlinewidth\":0,\"tickcolor\":\"rgb(237,237,237)\",\"ticklen\":6,\"ticks\":\"inside\"},\"colorscale\":[[0,\"rgb(20,44,66)\"],[1,\"rgb(90,179,244)\"]],\"type\":\"histogram2dcontour\"}],\"histogram2d\":[{\"colorbar\":{\"outlinewidth\":0,\"tickcolor\":\"rgb(237,237,237)\",\"ticklen\":6,\"ticks\":\"inside\"},\"colorscale\":[[0,\"rgb(20,44,66)\"],[1,\"rgb(90,179,244)\"]],\"type\":\"histogram2d\"}],\"histogram\":[{\"marker\":{\"pattern\":{\"fillmode\":\"overlay\",\"size\":10,\"solidity\":0.2}},\"type\":\"histogram\"}],\"mesh3d\":[{\"colorbar\":{\"outlinewidth\":0,\"tickcolor\":\"rgb(237,237,237)\",\"ticklen\":6,\"ticks\":\"inside\"},\"type\":\"mesh3d\"}],\"parcoords\":[{\"line\":{\"colorbar\":{\"outlinewidth\":0,\"tickcolor\":\"rgb(237,237,237)\",\"ticklen\":6,\"ticks\":\"inside\"}},\"type\":\"parcoords\"}],\"pie\":[{\"automargin\":true,\"type\":\"pie\"}],\"scatter3d\":[{\"line\":{\"colorbar\":{\"outlinewidth\":0,\"tickcolor\":\"rgb(237,237,237)\",\"ticklen\":6,\"ticks\":\"inside\"}},\"marker\":{\"colorbar\":{\"outlinewidth\":0,\"tickcolor\":\"rgb(237,237,237)\",\"ticklen\":6,\"ticks\":\"inside\"}},\"type\":\"scatter3d\"}],\"scattercarpet\":[{\"marker\":{\"colorbar\":{\"outlinewidth\":0,\"tickcolor\":\"rgb(237,237,237)\",\"ticklen\":6,\"ticks\":\"inside\"}},\"type\":\"scattercarpet\"}],\"scattergeo\":[{\"marker\":{\"colorbar\":{\"outlinewidth\":0,\"tickcolor\":\"rgb(237,237,237)\",\"ticklen\":6,\"ticks\":\"inside\"}},\"type\":\"scattergeo\"}],\"scattergl\":[{\"marker\":{\"colorbar\":{\"outlinewidth\":0,\"tickcolor\":\"rgb(237,237,237)\",\"ticklen\":6,\"ticks\":\"inside\"}},\"type\":\"scattergl\"}],\"scattermapbox\":[{\"marker\":{\"colorbar\":{\"outlinewidth\":0,\"tickcolor\":\"rgb(237,237,237)\",\"ticklen\":6,\"ticks\":\"inside\"}},\"type\":\"scattermapbox\"}],\"scatterpolargl\":[{\"marker\":{\"colorbar\":{\"outlinewidth\":0,\"tickcolor\":\"rgb(237,237,237)\",\"ticklen\":6,\"ticks\":\"inside\"}},\"type\":\"scatterpolargl\"}],\"scatterpolar\":[{\"marker\":{\"colorbar\":{\"outlinewidth\":0,\"tickcolor\":\"rgb(237,237,237)\",\"ticklen\":6,\"ticks\":\"inside\"}},\"type\":\"scatterpolar\"}],\"scatter\":[{\"fillpattern\":{\"fillmode\":\"overlay\",\"size\":10,\"solidity\":0.2},\"type\":\"scatter\"}],\"scatterternary\":[{\"marker\":{\"colorbar\":{\"outlinewidth\":0,\"tickcolor\":\"rgb(237,237,237)\",\"ticklen\":6,\"ticks\":\"inside\"}},\"type\":\"scatterternary\"}],\"surface\":[{\"colorbar\":{\"outlinewidth\":0,\"tickcolor\":\"rgb(237,237,237)\",\"ticklen\":6,\"ticks\":\"inside\"},\"colorscale\":[[0,\"rgb(20,44,66)\"],[1,\"rgb(90,179,244)\"]],\"type\":\"surface\"}],\"table\":[{\"cells\":{\"fill\":{\"color\":\"rgb(237,237,237)\"},\"line\":{\"color\":\"white\"}},\"header\":{\"fill\":{\"color\":\"rgb(217,217,217)\"},\"line\":{\"color\":\"white\"}},\"type\":\"table\"}]},\"layout\":{\"annotationdefaults\":{\"arrowhead\":0,\"arrowwidth\":1},\"autotypenumbers\":\"strict\",\"coloraxis\":{\"colorbar\":{\"outlinewidth\":0,\"tickcolor\":\"rgb(237,237,237)\",\"ticklen\":6,\"ticks\":\"inside\"}},\"colorscale\":{\"sequential\":[[0,\"rgb(20,44,66)\"],[1,\"rgb(90,179,244)\"]],\"sequentialminus\":[[0,\"rgb(20,44,66)\"],[1,\"rgb(90,179,244)\"]]},\"colorway\":[\"#F8766D\",\"#A3A500\",\"#00BF7D\",\"#00B0F6\",\"#E76BF3\"],\"font\":{\"color\":\"rgb(51,51,51)\"},\"geo\":{\"bgcolor\":\"white\",\"lakecolor\":\"white\",\"landcolor\":\"rgb(237,237,237)\",\"showlakes\":true,\"showland\":true,\"subunitcolor\":\"white\"},\"hoverlabel\":{\"align\":\"left\"},\"hovermode\":\"closest\",\"paper_bgcolor\":\"white\",\"plot_bgcolor\":\"rgb(237,237,237)\",\"polar\":{\"angularaxis\":{\"gridcolor\":\"white\",\"linecolor\":\"white\",\"showgrid\":true,\"tickcolor\":\"rgb(51,51,51)\",\"ticks\":\"outside\"},\"bgcolor\":\"rgb(237,237,237)\",\"radialaxis\":{\"gridcolor\":\"white\",\"linecolor\":\"white\",\"showgrid\":true,\"tickcolor\":\"rgb(51,51,51)\",\"ticks\":\"outside\"}},\"scene\":{\"xaxis\":{\"backgroundcolor\":\"rgb(237,237,237)\",\"gridcolor\":\"white\",\"gridwidth\":2,\"linecolor\":\"white\",\"showbackground\":true,\"showgrid\":true,\"tickcolor\":\"rgb(51,51,51)\",\"ticks\":\"outside\",\"zerolinecolor\":\"white\"},\"yaxis\":{\"backgroundcolor\":\"rgb(237,237,237)\",\"gridcolor\":\"white\",\"gridwidth\":2,\"linecolor\":\"white\",\"showbackground\":true,\"showgrid\":true,\"tickcolor\":\"rgb(51,51,51)\",\"ticks\":\"outside\",\"zerolinecolor\":\"white\"},\"zaxis\":{\"backgroundcolor\":\"rgb(237,237,237)\",\"gridcolor\":\"white\",\"gridwidth\":2,\"linecolor\":\"white\",\"showbackground\":true,\"showgrid\":true,\"tickcolor\":\"rgb(51,51,51)\",\"ticks\":\"outside\",\"zerolinecolor\":\"white\"}},\"shapedefaults\":{\"fillcolor\":\"black\",\"line\":{\"width\":0},\"opacity\":0.3},\"ternary\":{\"aaxis\":{\"gridcolor\":\"white\",\"linecolor\":\"white\",\"showgrid\":true,\"tickcolor\":\"rgb(51,51,51)\",\"ticks\":\"outside\"},\"baxis\":{\"gridcolor\":\"white\",\"linecolor\":\"white\",\"showgrid\":true,\"tickcolor\":\"rgb(51,51,51)\",\"ticks\":\"outside\"},\"bgcolor\":\"rgb(237,237,237)\",\"caxis\":{\"gridcolor\":\"white\",\"linecolor\":\"white\",\"showgrid\":true,\"tickcolor\":\"rgb(51,51,51)\",\"ticks\":\"outside\"}},\"xaxis\":{\"automargin\":true,\"gridcolor\":\"white\",\"linecolor\":\"white\",\"showgrid\":true,\"tickcolor\":\"rgb(51,51,51)\",\"ticks\":\"outside\",\"title\":{\"standoff\":15},\"zerolinecolor\":\"white\"},\"yaxis\":{\"automargin\":true,\"gridcolor\":\"white\",\"linecolor\":\"white\",\"showgrid\":true,\"tickcolor\":\"rgb(51,51,51)\",\"ticks\":\"outside\",\"title\":{\"standoff\":15},\"zerolinecolor\":\"white\"}}},\"xaxis\":{\"anchor\":\"y\",\"domain\":[0.0,0.45]},\"yaxis\":{\"anchor\":\"x\",\"domain\":[0.7777777777777779,1.0]},\"xaxis2\":{\"anchor\":\"y2\",\"domain\":[0.55,1.0],\"range\":[0,0.5]},\"yaxis2\":{\"anchor\":\"x2\",\"domain\":[0.7777777777777779,1.0]},\"xaxis3\":{\"anchor\":\"y3\",\"domain\":[0.0,0.45],\"title\":{\"text\":\"Range of Values\"}},\"yaxis3\":{\"anchor\":\"x3\",\"domain\":[0.38888888888888895,0.6111111111111112],\"title\":{\"text\":\"PDF\"}},\"xaxis4\":{\"anchor\":\"y4\",\"domain\":[0.55,1.0],\"title\":{\"text\":\"Theoretical Quantities\"}},\"yaxis4\":{\"anchor\":\"x4\",\"domain\":[0.38888888888888895,0.6111111111111112],\"title\":{\"text\":\"Sample Quantities\"}},\"xaxis5\":{\"anchor\":\"y5\",\"domain\":[0.0,0.45],\"range\":[-1,32]},\"yaxis5\":{\"anchor\":\"x5\",\"domain\":[0.0,0.22222222222222227],\"range\":[-1.1,1.1],\"zerolinecolor\":\"#000000\"},\"xaxis6\":{\"anchor\":\"y6\",\"domain\":[0.55,1.0],\"range\":[-1,16]},\"yaxis6\":{\"anchor\":\"x6\",\"domain\":[0.0,0.22222222222222227],\"range\":[-1.1,1.1],\"zerolinecolor\":\"#000000\"},\"annotations\":[{\"font\":{\"size\":16},\"showarrow\":false,\"text\":\"ValorBase (transformed)\",\"x\":0.225,\"xanchor\":\"center\",\"xref\":\"paper\",\"y\":1.0000000000000002,\"yanchor\":\"bottom\",\"yref\":\"paper\"},{\"font\":{\"size\":16},\"showarrow\":false,\"text\":\"Periodogram\",\"x\":0.775,\"xanchor\":\"center\",\"xref\":\"paper\",\"y\":1.0000000000000002,\"yanchor\":\"bottom\",\"yref\":\"paper\"},{\"font\":{\"size\":16},\"showarrow\":false,\"text\":\"Histogram\",\"x\":0.225,\"xanchor\":\"center\",\"xref\":\"paper\",\"y\":0.6111111111111112,\"yanchor\":\"bottom\",\"yref\":\"paper\"},{\"font\":{\"size\":16},\"showarrow\":false,\"text\":\"Q-Q Plot\",\"x\":0.775,\"xanchor\":\"center\",\"xref\":\"paper\",\"y\":0.6111111111111112,\"yanchor\":\"bottom\",\"yref\":\"paper\"},{\"font\":{\"size\":16},\"showarrow\":false,\"text\":\"ACF\",\"x\":0.225,\"xanchor\":\"center\",\"xref\":\"paper\",\"y\":0.22222222222222227,\"yanchor\":\"bottom\",\"yref\":\"paper\"},{\"font\":{\"size\":16},\"showarrow\":false,\"text\":\"PACF\",\"x\":0.775,\"xanchor\":\"center\",\"xref\":\"paper\",\"y\":0.22222222222222227,\"yanchor\":\"bottom\",\"yref\":\"paper\"}],\"title\":{\"text\":\"Diagnostics | ValorBase\"},\"showlegend\":false},                        {\"responsive\": true}                    ).then(function(){\n",
              "                            \n",
              "var gd = document.getElementById('a202d811-0d15-413d-bed3-c59292bd348e');\n",
              "var x = new MutationObserver(function (mutations, observer) {{\n",
              "        var display = window.getComputedStyle(gd).display;\n",
              "        if (!display || display === 'none') {{\n",
              "            console.log([gd, 'removed!']);\n",
              "            Plotly.purge(gd);\n",
              "            observer.disconnect();\n",
              "        }}\n",
              "}});\n",
              "\n",
              "// Listen for the removal of the full notebook cells\n",
              "var notebookContainer = gd.closest('#notebook-container');\n",
              "if (notebookContainer) {{\n",
              "    x.observe(notebookContainer, {childList: true});\n",
              "}}\n",
              "\n",
              "// Listen for the clearing of the current output cell\n",
              "var outputEl = gd.closest('.output');\n",
              "if (outputEl) {{\n",
              "    x.observe(outputEl, {childList: true});\n",
              "}}\n",
              "\n",
              "                        })                };                            </script>        </div>\n",
              "</body>\n",
              "</html>"
            ]
          },
          "metadata": {}
        }
      ]
    },
    {
      "cell_type": "code",
      "source": [
        "melhor_modelo = compare_models()"
      ],
      "metadata": {
        "colab": {
          "base_uri": "https://localhost:8080/",
          "height": 143,
          "referenced_widgets": [
            "57a5e99f0c6c417f82e60e04a5a80028",
            "7924ba1917d14d32a920b4699059f8b6",
            "0c000614ad624a7b83f771d088d35f72",
            "cbcd75039bd54fa49e909959cea4921d",
            "d70aeacca8114edbbd65081be2f081ac",
            "b1efe01c359342f6a5537518410697b4",
            "9c4a59a9ab8a4fb686dbf773744c888b",
            "6e27c1258b834567a85375c50f76d674",
            "552321c262f64365aabd778115c08abf",
            "b2af220cda5448038b429e874e2bb026",
            "cf9a643993f24b9181107b08a87ebece"
          ]
        },
        "id": "U2VdpMDVtw2S",
        "outputId": "651551a6-778f-4f12-849e-3109ae865290"
      },
      "execution_count": 14,
      "outputs": [
        {
          "output_type": "display_data",
          "data": {
            "text/plain": [
              "<IPython.core.display.HTML object>"
            ],
            "text/html": []
          },
          "metadata": {}
        },
        {
          "output_type": "display_data",
          "data": {
            "text/plain": [
              "<pandas.io.formats.style.Styler at 0x7f67a3e8b970>"
            ],
            "text/html": [
              "<style type=\"text/css\">\n",
              "#T_bf5ac th {\n",
              "  text-align: left;\n",
              "}\n",
              "#T_bf5ac_row0_col0, #T_bf5ac_row1_col0, #T_bf5ac_row1_col1, #T_bf5ac_row1_col2, #T_bf5ac_row1_col3, #T_bf5ac_row1_col4, #T_bf5ac_row1_col5, #T_bf5ac_row1_col6, #T_bf5ac_row1_col7, #T_bf5ac_row2_col0, #T_bf5ac_row2_col1, #T_bf5ac_row2_col2, #T_bf5ac_row2_col3, #T_bf5ac_row2_col4, #T_bf5ac_row2_col5, #T_bf5ac_row2_col6, #T_bf5ac_row2_col7 {\n",
              "  text-align: left;\n",
              "}\n",
              "#T_bf5ac_row0_col1, #T_bf5ac_row0_col2, #T_bf5ac_row0_col3, #T_bf5ac_row0_col4, #T_bf5ac_row0_col5, #T_bf5ac_row0_col6, #T_bf5ac_row0_col7 {\n",
              "  text-align: left;\n",
              "  background-color: yellow;\n",
              "}\n",
              "#T_bf5ac_row0_col8, #T_bf5ac_row2_col8 {\n",
              "  text-align: left;\n",
              "  background-color: lightgrey;\n",
              "}\n",
              "#T_bf5ac_row1_col8 {\n",
              "  text-align: left;\n",
              "  background-color: yellow;\n",
              "  background-color: lightgrey;\n",
              "}\n",
              "</style>\n",
              "<table id=\"T_bf5ac\" class=\"dataframe\">\n",
              "  <thead>\n",
              "    <tr>\n",
              "      <th class=\"blank level0\" >&nbsp;</th>\n",
              "      <th id=\"T_bf5ac_level0_col0\" class=\"col_heading level0 col0\" >Model</th>\n",
              "      <th id=\"T_bf5ac_level0_col1\" class=\"col_heading level0 col1\" >MASE</th>\n",
              "      <th id=\"T_bf5ac_level0_col2\" class=\"col_heading level0 col2\" >RMSSE</th>\n",
              "      <th id=\"T_bf5ac_level0_col3\" class=\"col_heading level0 col3\" >MAE</th>\n",
              "      <th id=\"T_bf5ac_level0_col4\" class=\"col_heading level0 col4\" >RMSE</th>\n",
              "      <th id=\"T_bf5ac_level0_col5\" class=\"col_heading level0 col5\" >MAPE</th>\n",
              "      <th id=\"T_bf5ac_level0_col6\" class=\"col_heading level0 col6\" >SMAPE</th>\n",
              "      <th id=\"T_bf5ac_level0_col7\" class=\"col_heading level0 col7\" >R2</th>\n",
              "      <th id=\"T_bf5ac_level0_col8\" class=\"col_heading level0 col8\" >TT (Sec)</th>\n",
              "    </tr>\n",
              "  </thead>\n",
              "  <tbody>\n",
              "    <tr>\n",
              "      <th id=\"T_bf5ac_level0_row0\" class=\"row_heading level0 row0\" >naive</th>\n",
              "      <td id=\"T_bf5ac_row0_col0\" class=\"data row0 col0\" >Naive Forecaster</td>\n",
              "      <td id=\"T_bf5ac_row0_col1\" class=\"data row0 col1\" >0.9317</td>\n",
              "      <td id=\"T_bf5ac_row0_col2\" class=\"data row0 col2\" >0.7209</td>\n",
              "      <td id=\"T_bf5ac_row0_col3\" class=\"data row0 col3\" >8165273.4100</td>\n",
              "      <td id=\"T_bf5ac_row0_col4\" class=\"data row0 col4\" >9920809.5086</td>\n",
              "      <td id=\"T_bf5ac_row0_col5\" class=\"data row0 col5\" >0.1936</td>\n",
              "      <td id=\"T_bf5ac_row0_col6\" class=\"data row0 col6\" >0.1742</td>\n",
              "      <td id=\"T_bf5ac_row0_col7\" class=\"data row0 col7\" >-1.0228</td>\n",
              "      <td id=\"T_bf5ac_row0_col8\" class=\"data row0 col8\" >2.5500</td>\n",
              "    </tr>\n",
              "    <tr>\n",
              "      <th id=\"T_bf5ac_level0_row1\" class=\"row_heading level0 row1\" >croston</th>\n",
              "      <td id=\"T_bf5ac_row1_col0\" class=\"data row1 col0\" >Croston</td>\n",
              "      <td id=\"T_bf5ac_row1_col1\" class=\"data row1 col1\" >1.6457</td>\n",
              "      <td id=\"T_bf5ac_row1_col2\" class=\"data row1 col2\" >1.1571</td>\n",
              "      <td id=\"T_bf5ac_row1_col3\" class=\"data row1 col3\" >14606913.1607</td>\n",
              "      <td id=\"T_bf5ac_row1_col4\" class=\"data row1 col4\" >16075921.0653</td>\n",
              "      <td id=\"T_bf5ac_row1_col5\" class=\"data row1 col5\" >0.2931</td>\n",
              "      <td id=\"T_bf5ac_row1_col6\" class=\"data row1 col6\" >0.3436</td>\n",
              "      <td id=\"T_bf5ac_row1_col7\" class=\"data row1 col7\" >-6.6640</td>\n",
              "      <td id=\"T_bf5ac_row1_col8\" class=\"data row1 col8\" >0.0333</td>\n",
              "    </tr>\n",
              "    <tr>\n",
              "      <th id=\"T_bf5ac_level0_row2\" class=\"row_heading level0 row2\" >grand_means</th>\n",
              "      <td id=\"T_bf5ac_row2_col0\" class=\"data row2 col0\" >Grand Means Forecaster</td>\n",
              "      <td id=\"T_bf5ac_row2_col1\" class=\"data row2 col1\" >1.8026</td>\n",
              "      <td id=\"T_bf5ac_row2_col2\" class=\"data row2 col2\" >1.2919</td>\n",
              "      <td id=\"T_bf5ac_row2_col3\" class=\"data row2 col3\" >16005941.8437</td>\n",
              "      <td id=\"T_bf5ac_row2_col4\" class=\"data row2 col4\" >17928892.3728</td>\n",
              "      <td id=\"T_bf5ac_row2_col5\" class=\"data row2 col5\" >0.3137</td>\n",
              "      <td id=\"T_bf5ac_row2_col6\" class=\"data row2 col6\" >0.3831</td>\n",
              "      <td id=\"T_bf5ac_row2_col7\" class=\"data row2 col7\" >-8.4245</td>\n",
              "      <td id=\"T_bf5ac_row2_col8\" class=\"data row2 col8\" >0.0400</td>\n",
              "    </tr>\n",
              "  </tbody>\n",
              "</table>\n"
            ]
          },
          "metadata": {}
        },
        {
          "output_type": "display_data",
          "data": {
            "text/plain": [
              "Processing:   0%|          | 0/93 [00:00<?, ?it/s]"
            ],
            "application/vnd.jupyter.widget-view+json": {
              "version_major": 2,
              "version_minor": 0,
              "model_id": "57a5e99f0c6c417f82e60e04a5a80028"
            }
          },
          "metadata": {
            "application/vnd.jupyter.widget-view+json": {
              "colab": {
                "custom_widget_manager": {
                  "url": "https://ssl.gstatic.com/colaboratory-static/widgets/colab-cdn-widget-manager/b3e629b1971e1542/manager.min.js"
                }
              }
            }
          }
        },
        {
          "output_type": "display_data",
          "data": {
            "text/plain": [
              "<IPython.core.display.HTML object>"
            ],
            "text/html": []
          },
          "metadata": {}
        }
      ]
    },
    {
      "cell_type": "code",
      "source": [
        "#checandoo estatistica\n",
        "check_stats()"
      ],
      "metadata": {
        "colab": {
          "base_uri": "https://localhost:8080/",
          "height": 896
        },
        "id": "u22mqigqtw4S",
        "outputId": "26be7e37-6afa-4917-e065-c2a7a7b73f09"
      },
      "execution_count": 15,
      "outputs": [
        {
          "output_type": "execute_result",
          "data": {
            "text/plain": [
              "            Test   Test Name         Data             Property  \\\n",
              "0        Summary  Statistics  Transformed               Length   \n",
              "1        Summary  Statistics  Transformed     # Missing Values   \n",
              "2        Summary  Statistics  Transformed                 Mean   \n",
              "3        Summary  Statistics  Transformed               Median   \n",
              "4        Summary  Statistics  Transformed   Standard Deviation   \n",
              "5        Summary  Statistics  Transformed             Variance   \n",
              "6        Summary  Statistics  Transformed             Kurtosis   \n",
              "7        Summary  Statistics  Transformed             Skewness   \n",
              "8        Summary  Statistics  Transformed    # Distinct Values   \n",
              "9    White Noise   Ljung-Box  Transformed       Test Statictic   \n",
              "10   White Noise   Ljung-Box  Transformed              p-value   \n",
              "11   White Noise   Ljung-Box  Transformed          White Noise   \n",
              "12  Stationarity         ADF  Transformed         Stationarity   \n",
              "13  Stationarity         ADF  Transformed              p-value   \n",
              "14  Stationarity         ADF  Transformed       Test Statistic   \n",
              "15  Stationarity         ADF  Transformed    Critical Value 1%   \n",
              "16  Stationarity         ADF  Transformed    Critical Value 5%   \n",
              "17  Stationarity         ADF  Transformed   Critical Value 10%   \n",
              "18  Stationarity        KPSS  Transformed   Trend Stationarity   \n",
              "19  Stationarity        KPSS  Transformed              p-value   \n",
              "20  Stationarity        KPSS  Transformed       Test Statistic   \n",
              "21  Stationarity        KPSS  Transformed   Critical Value 10%   \n",
              "22  Stationarity        KPSS  Transformed    Critical Value 5%   \n",
              "23  Stationarity        KPSS  Transformed  Critical Value 2.5%   \n",
              "24  Stationarity        KPSS  Transformed    Critical Value 1%   \n",
              "25     Normality     Shapiro  Transformed            Normality   \n",
              "26     Normality     Shapiro  Transformed              p-value   \n",
              "\n",
              "                     Setting                Value  \n",
              "0                                            31.0  \n",
              "1                                             0.0  \n",
              "2                                 34412128.429355  \n",
              "3                                     31067616.59  \n",
              "4                                   17522927.3745  \n",
              "5                             307052983772001.875  \n",
              "6                                        0.114279  \n",
              "7                                        0.538275  \n",
              "8                                            31.0  \n",
              "9   {'alpha': 0.05, 'K': 24}            37.219695  \n",
              "10  {'alpha': 0.05, 'K': 24}               0.0416  \n",
              "11  {'alpha': 0.05, 'K': 24}                False  \n",
              "12           {'alpha': 0.05}                 True  \n",
              "13           {'alpha': 0.05}             0.045529  \n",
              "14           {'alpha': 0.05}            -2.898444  \n",
              "15           {'alpha': 0.05}             -3.67906  \n",
              "16           {'alpha': 0.05}            -2.967882  \n",
              "17           {'alpha': 0.05}            -2.623158  \n",
              "18           {'alpha': 0.05}                 True  \n",
              "19           {'alpha': 0.05}                  0.1  \n",
              "20           {'alpha': 0.05}             0.089723  \n",
              "21           {'alpha': 0.05}                0.119  \n",
              "22           {'alpha': 0.05}                0.146  \n",
              "23           {'alpha': 0.05}                0.176  \n",
              "24           {'alpha': 0.05}                0.216  \n",
              "25           {'alpha': 0.05}                 True  \n",
              "26           {'alpha': 0.05}             0.419062  "
            ],
            "text/html": [
              "\n",
              "  <div id=\"df-ee751db3-3e0c-41c8-b325-244e7c2dcc70\">\n",
              "    <div class=\"colab-df-container\">\n",
              "      <div>\n",
              "<style scoped>\n",
              "    .dataframe tbody tr th:only-of-type {\n",
              "        vertical-align: middle;\n",
              "    }\n",
              "\n",
              "    .dataframe tbody tr th {\n",
              "        vertical-align: top;\n",
              "    }\n",
              "\n",
              "    .dataframe thead th {\n",
              "        text-align: right;\n",
              "    }\n",
              "</style>\n",
              "<table border=\"1\" class=\"dataframe\">\n",
              "  <thead>\n",
              "    <tr style=\"text-align: right;\">\n",
              "      <th></th>\n",
              "      <th>Test</th>\n",
              "      <th>Test Name</th>\n",
              "      <th>Data</th>\n",
              "      <th>Property</th>\n",
              "      <th>Setting</th>\n",
              "      <th>Value</th>\n",
              "    </tr>\n",
              "  </thead>\n",
              "  <tbody>\n",
              "    <tr>\n",
              "      <th>0</th>\n",
              "      <td>Summary</td>\n",
              "      <td>Statistics</td>\n",
              "      <td>Transformed</td>\n",
              "      <td>Length</td>\n",
              "      <td></td>\n",
              "      <td>31.0</td>\n",
              "    </tr>\n",
              "    <tr>\n",
              "      <th>1</th>\n",
              "      <td>Summary</td>\n",
              "      <td>Statistics</td>\n",
              "      <td>Transformed</td>\n",
              "      <td># Missing Values</td>\n",
              "      <td></td>\n",
              "      <td>0.0</td>\n",
              "    </tr>\n",
              "    <tr>\n",
              "      <th>2</th>\n",
              "      <td>Summary</td>\n",
              "      <td>Statistics</td>\n",
              "      <td>Transformed</td>\n",
              "      <td>Mean</td>\n",
              "      <td></td>\n",
              "      <td>34412128.429355</td>\n",
              "    </tr>\n",
              "    <tr>\n",
              "      <th>3</th>\n",
              "      <td>Summary</td>\n",
              "      <td>Statistics</td>\n",
              "      <td>Transformed</td>\n",
              "      <td>Median</td>\n",
              "      <td></td>\n",
              "      <td>31067616.59</td>\n",
              "    </tr>\n",
              "    <tr>\n",
              "      <th>4</th>\n",
              "      <td>Summary</td>\n",
              "      <td>Statistics</td>\n",
              "      <td>Transformed</td>\n",
              "      <td>Standard Deviation</td>\n",
              "      <td></td>\n",
              "      <td>17522927.3745</td>\n",
              "    </tr>\n",
              "    <tr>\n",
              "      <th>5</th>\n",
              "      <td>Summary</td>\n",
              "      <td>Statistics</td>\n",
              "      <td>Transformed</td>\n",
              "      <td>Variance</td>\n",
              "      <td></td>\n",
              "      <td>307052983772001.875</td>\n",
              "    </tr>\n",
              "    <tr>\n",
              "      <th>6</th>\n",
              "      <td>Summary</td>\n",
              "      <td>Statistics</td>\n",
              "      <td>Transformed</td>\n",
              "      <td>Kurtosis</td>\n",
              "      <td></td>\n",
              "      <td>0.114279</td>\n",
              "    </tr>\n",
              "    <tr>\n",
              "      <th>7</th>\n",
              "      <td>Summary</td>\n",
              "      <td>Statistics</td>\n",
              "      <td>Transformed</td>\n",
              "      <td>Skewness</td>\n",
              "      <td></td>\n",
              "      <td>0.538275</td>\n",
              "    </tr>\n",
              "    <tr>\n",
              "      <th>8</th>\n",
              "      <td>Summary</td>\n",
              "      <td>Statistics</td>\n",
              "      <td>Transformed</td>\n",
              "      <td># Distinct Values</td>\n",
              "      <td></td>\n",
              "      <td>31.0</td>\n",
              "    </tr>\n",
              "    <tr>\n",
              "      <th>9</th>\n",
              "      <td>White Noise</td>\n",
              "      <td>Ljung-Box</td>\n",
              "      <td>Transformed</td>\n",
              "      <td>Test Statictic</td>\n",
              "      <td>{'alpha': 0.05, 'K': 24}</td>\n",
              "      <td>37.219695</td>\n",
              "    </tr>\n",
              "    <tr>\n",
              "      <th>10</th>\n",
              "      <td>White Noise</td>\n",
              "      <td>Ljung-Box</td>\n",
              "      <td>Transformed</td>\n",
              "      <td>p-value</td>\n",
              "      <td>{'alpha': 0.05, 'K': 24}</td>\n",
              "      <td>0.0416</td>\n",
              "    </tr>\n",
              "    <tr>\n",
              "      <th>11</th>\n",
              "      <td>White Noise</td>\n",
              "      <td>Ljung-Box</td>\n",
              "      <td>Transformed</td>\n",
              "      <td>White Noise</td>\n",
              "      <td>{'alpha': 0.05, 'K': 24}</td>\n",
              "      <td>False</td>\n",
              "    </tr>\n",
              "    <tr>\n",
              "      <th>12</th>\n",
              "      <td>Stationarity</td>\n",
              "      <td>ADF</td>\n",
              "      <td>Transformed</td>\n",
              "      <td>Stationarity</td>\n",
              "      <td>{'alpha': 0.05}</td>\n",
              "      <td>True</td>\n",
              "    </tr>\n",
              "    <tr>\n",
              "      <th>13</th>\n",
              "      <td>Stationarity</td>\n",
              "      <td>ADF</td>\n",
              "      <td>Transformed</td>\n",
              "      <td>p-value</td>\n",
              "      <td>{'alpha': 0.05}</td>\n",
              "      <td>0.045529</td>\n",
              "    </tr>\n",
              "    <tr>\n",
              "      <th>14</th>\n",
              "      <td>Stationarity</td>\n",
              "      <td>ADF</td>\n",
              "      <td>Transformed</td>\n",
              "      <td>Test Statistic</td>\n",
              "      <td>{'alpha': 0.05}</td>\n",
              "      <td>-2.898444</td>\n",
              "    </tr>\n",
              "    <tr>\n",
              "      <th>15</th>\n",
              "      <td>Stationarity</td>\n",
              "      <td>ADF</td>\n",
              "      <td>Transformed</td>\n",
              "      <td>Critical Value 1%</td>\n",
              "      <td>{'alpha': 0.05}</td>\n",
              "      <td>-3.67906</td>\n",
              "    </tr>\n",
              "    <tr>\n",
              "      <th>16</th>\n",
              "      <td>Stationarity</td>\n",
              "      <td>ADF</td>\n",
              "      <td>Transformed</td>\n",
              "      <td>Critical Value 5%</td>\n",
              "      <td>{'alpha': 0.05}</td>\n",
              "      <td>-2.967882</td>\n",
              "    </tr>\n",
              "    <tr>\n",
              "      <th>17</th>\n",
              "      <td>Stationarity</td>\n",
              "      <td>ADF</td>\n",
              "      <td>Transformed</td>\n",
              "      <td>Critical Value 10%</td>\n",
              "      <td>{'alpha': 0.05}</td>\n",
              "      <td>-2.623158</td>\n",
              "    </tr>\n",
              "    <tr>\n",
              "      <th>18</th>\n",
              "      <td>Stationarity</td>\n",
              "      <td>KPSS</td>\n",
              "      <td>Transformed</td>\n",
              "      <td>Trend Stationarity</td>\n",
              "      <td>{'alpha': 0.05}</td>\n",
              "      <td>True</td>\n",
              "    </tr>\n",
              "    <tr>\n",
              "      <th>19</th>\n",
              "      <td>Stationarity</td>\n",
              "      <td>KPSS</td>\n",
              "      <td>Transformed</td>\n",
              "      <td>p-value</td>\n",
              "      <td>{'alpha': 0.05}</td>\n",
              "      <td>0.1</td>\n",
              "    </tr>\n",
              "    <tr>\n",
              "      <th>20</th>\n",
              "      <td>Stationarity</td>\n",
              "      <td>KPSS</td>\n",
              "      <td>Transformed</td>\n",
              "      <td>Test Statistic</td>\n",
              "      <td>{'alpha': 0.05}</td>\n",
              "      <td>0.089723</td>\n",
              "    </tr>\n",
              "    <tr>\n",
              "      <th>21</th>\n",
              "      <td>Stationarity</td>\n",
              "      <td>KPSS</td>\n",
              "      <td>Transformed</td>\n",
              "      <td>Critical Value 10%</td>\n",
              "      <td>{'alpha': 0.05}</td>\n",
              "      <td>0.119</td>\n",
              "    </tr>\n",
              "    <tr>\n",
              "      <th>22</th>\n",
              "      <td>Stationarity</td>\n",
              "      <td>KPSS</td>\n",
              "      <td>Transformed</td>\n",
              "      <td>Critical Value 5%</td>\n",
              "      <td>{'alpha': 0.05}</td>\n",
              "      <td>0.146</td>\n",
              "    </tr>\n",
              "    <tr>\n",
              "      <th>23</th>\n",
              "      <td>Stationarity</td>\n",
              "      <td>KPSS</td>\n",
              "      <td>Transformed</td>\n",
              "      <td>Critical Value 2.5%</td>\n",
              "      <td>{'alpha': 0.05}</td>\n",
              "      <td>0.176</td>\n",
              "    </tr>\n",
              "    <tr>\n",
              "      <th>24</th>\n",
              "      <td>Stationarity</td>\n",
              "      <td>KPSS</td>\n",
              "      <td>Transformed</td>\n",
              "      <td>Critical Value 1%</td>\n",
              "      <td>{'alpha': 0.05}</td>\n",
              "      <td>0.216</td>\n",
              "    </tr>\n",
              "    <tr>\n",
              "      <th>25</th>\n",
              "      <td>Normality</td>\n",
              "      <td>Shapiro</td>\n",
              "      <td>Transformed</td>\n",
              "      <td>Normality</td>\n",
              "      <td>{'alpha': 0.05}</td>\n",
              "      <td>True</td>\n",
              "    </tr>\n",
              "    <tr>\n",
              "      <th>26</th>\n",
              "      <td>Normality</td>\n",
              "      <td>Shapiro</td>\n",
              "      <td>Transformed</td>\n",
              "      <td>p-value</td>\n",
              "      <td>{'alpha': 0.05}</td>\n",
              "      <td>0.419062</td>\n",
              "    </tr>\n",
              "  </tbody>\n",
              "</table>\n",
              "</div>\n",
              "      <button class=\"colab-df-convert\" onclick=\"convertToInteractive('df-ee751db3-3e0c-41c8-b325-244e7c2dcc70')\"\n",
              "              title=\"Convert this dataframe to an interactive table.\"\n",
              "              style=\"display:none;\">\n",
              "        \n",
              "  <svg xmlns=\"http://www.w3.org/2000/svg\" height=\"24px\"viewBox=\"0 0 24 24\"\n",
              "       width=\"24px\">\n",
              "    <path d=\"M0 0h24v24H0V0z\" fill=\"none\"/>\n",
              "    <path d=\"M18.56 5.44l.94 2.06.94-2.06 2.06-.94-2.06-.94-.94-2.06-.94 2.06-2.06.94zm-11 1L8.5 8.5l.94-2.06 2.06-.94-2.06-.94L8.5 2.5l-.94 2.06-2.06.94zm10 10l.94 2.06.94-2.06 2.06-.94-2.06-.94-.94-2.06-.94 2.06-2.06.94z\"/><path d=\"M17.41 7.96l-1.37-1.37c-.4-.4-.92-.59-1.43-.59-.52 0-1.04.2-1.43.59L10.3 9.45l-7.72 7.72c-.78.78-.78 2.05 0 2.83L4 21.41c.39.39.9.59 1.41.59.51 0 1.02-.2 1.41-.59l7.78-7.78 2.81-2.81c.8-.78.8-2.07 0-2.86zM5.41 20L4 18.59l7.72-7.72 1.47 1.35L5.41 20z\"/>\n",
              "  </svg>\n",
              "      </button>\n",
              "      \n",
              "  <style>\n",
              "    .colab-df-container {\n",
              "      display:flex;\n",
              "      flex-wrap:wrap;\n",
              "      gap: 12px;\n",
              "    }\n",
              "\n",
              "    .colab-df-convert {\n",
              "      background-color: #E8F0FE;\n",
              "      border: none;\n",
              "      border-radius: 50%;\n",
              "      cursor: pointer;\n",
              "      display: none;\n",
              "      fill: #1967D2;\n",
              "      height: 32px;\n",
              "      padding: 0 0 0 0;\n",
              "      width: 32px;\n",
              "    }\n",
              "\n",
              "    .colab-df-convert:hover {\n",
              "      background-color: #E2EBFA;\n",
              "      box-shadow: 0px 1px 2px rgba(60, 64, 67, 0.3), 0px 1px 3px 1px rgba(60, 64, 67, 0.15);\n",
              "      fill: #174EA6;\n",
              "    }\n",
              "\n",
              "    [theme=dark] .colab-df-convert {\n",
              "      background-color: #3B4455;\n",
              "      fill: #D2E3FC;\n",
              "    }\n",
              "\n",
              "    [theme=dark] .colab-df-convert:hover {\n",
              "      background-color: #434B5C;\n",
              "      box-shadow: 0px 1px 3px 1px rgba(0, 0, 0, 0.15);\n",
              "      filter: drop-shadow(0px 1px 2px rgba(0, 0, 0, 0.3));\n",
              "      fill: #FFFFFF;\n",
              "    }\n",
              "  </style>\n",
              "\n",
              "      <script>\n",
              "        const buttonEl =\n",
              "          document.querySelector('#df-ee751db3-3e0c-41c8-b325-244e7c2dcc70 button.colab-df-convert');\n",
              "        buttonEl.style.display =\n",
              "          google.colab.kernel.accessAllowed ? 'block' : 'none';\n",
              "\n",
              "        async function convertToInteractive(key) {\n",
              "          const element = document.querySelector('#df-ee751db3-3e0c-41c8-b325-244e7c2dcc70');\n",
              "          const dataTable =\n",
              "            await google.colab.kernel.invokeFunction('convertToInteractive',\n",
              "                                                     [key], {});\n",
              "          if (!dataTable) return;\n",
              "\n",
              "          const docLinkHtml = 'Like what you see? Visit the ' +\n",
              "            '<a target=\"_blank\" href=https://colab.research.google.com/notebooks/data_table.ipynb>data table notebook</a>'\n",
              "            + ' to learn more about interactive tables.';\n",
              "          element.innerHTML = '';\n",
              "          dataTable['output_type'] = 'display_data';\n",
              "          await google.colab.output.renderOutput(dataTable, element);\n",
              "          const docLink = document.createElement('div');\n",
              "          docLink.innerHTML = docLinkHtml;\n",
              "          element.appendChild(docLink);\n",
              "        }\n",
              "      </script>\n",
              "    </div>\n",
              "  </div>\n",
              "  "
            ]
          },
          "metadata": {},
          "execution_count": 15
        }
      ]
    },
    {
      "cell_type": "code",
      "source": [
        "modelo_naive = create_model('naive')"
      ],
      "metadata": {
        "colab": {
          "base_uri": "https://localhost:8080/",
          "height": 206,
          "referenced_widgets": [
            "9fde28353ce0486a9872d4149ffadd32",
            "efe026ad611b48b18ce80ed2331e94d1",
            "fad43e5787ff4f64b82692e6eb2908dd",
            "900220b294684dbca9ca6de1af21b7ab",
            "89aa15ffd7ba43d1b84a5f6149167501",
            "55eba9301a8846e680c7d13d037fd24a",
            "515b6441a1cb45188ed560f419cee264",
            "8b42295b8c83462480409b8395372bc9",
            "fda8e7d2cac74d19bd82084783c93e03",
            "29d994138d144e07b971cbe1d299dca3",
            "926856f6c35e41a6a8ee4d1394eed40d"
          ]
        },
        "id": "qoWNE6pLtw6b",
        "outputId": "6bc6470c-44b5-4d5b-cca2-7deb24561791"
      },
      "execution_count": 16,
      "outputs": [
        {
          "output_type": "display_data",
          "data": {
            "text/plain": [
              "<IPython.core.display.HTML object>"
            ],
            "text/html": []
          },
          "metadata": {}
        },
        {
          "output_type": "display_data",
          "data": {
            "text/plain": [
              "<pandas.io.formats.style.Styler at 0x7f679b353b20>"
            ],
            "text/html": [
              "<style type=\"text/css\">\n",
              "#T_35d6b_row3_col0, #T_35d6b_row3_col1, #T_35d6b_row3_col2, #T_35d6b_row3_col3, #T_35d6b_row3_col4, #T_35d6b_row3_col5, #T_35d6b_row3_col6, #T_35d6b_row3_col7 {\n",
              "  background: yellow;\n",
              "}\n",
              "</style>\n",
              "<table id=\"T_35d6b\" class=\"dataframe\">\n",
              "  <thead>\n",
              "    <tr>\n",
              "      <th class=\"blank level0\" >&nbsp;</th>\n",
              "      <th id=\"T_35d6b_level0_col0\" class=\"col_heading level0 col0\" >cutoff</th>\n",
              "      <th id=\"T_35d6b_level0_col1\" class=\"col_heading level0 col1\" >MASE</th>\n",
              "      <th id=\"T_35d6b_level0_col2\" class=\"col_heading level0 col2\" >RMSSE</th>\n",
              "      <th id=\"T_35d6b_level0_col3\" class=\"col_heading level0 col3\" >MAE</th>\n",
              "      <th id=\"T_35d6b_level0_col4\" class=\"col_heading level0 col4\" >RMSE</th>\n",
              "      <th id=\"T_35d6b_level0_col5\" class=\"col_heading level0 col5\" >MAPE</th>\n",
              "      <th id=\"T_35d6b_level0_col6\" class=\"col_heading level0 col6\" >SMAPE</th>\n",
              "      <th id=\"T_35d6b_level0_col7\" class=\"col_heading level0 col7\" >R2</th>\n",
              "    </tr>\n",
              "  </thead>\n",
              "  <tbody>\n",
              "    <tr>\n",
              "      <th id=\"T_35d6b_level0_row0\" class=\"row_heading level0 row0\" >0</th>\n",
              "      <td id=\"T_35d6b_row0_col0\" class=\"data row0 col0\" >18.0000</td>\n",
              "      <td id=\"T_35d6b_row0_col1\" class=\"data row0 col1\" >0.4738</td>\n",
              "      <td id=\"T_35d6b_row0_col2\" class=\"data row0 col2\" >0.3814</td>\n",
              "      <td id=\"T_35d6b_row0_col3\" class=\"data row0 col3\" >4420508.6933</td>\n",
              "      <td id=\"T_35d6b_row0_col4\" class=\"data row0 col4\" >5667134.3630</td>\n",
              "      <td id=\"T_35d6b_row0_col5\" class=\"data row0 col5\" >0.1170</td>\n",
              "      <td id=\"T_35d6b_row0_col6\" class=\"data row0 col6\" >0.1064</td>\n",
              "      <td id=\"T_35d6b_row0_col7\" class=\"data row0 col7\" >-0.8370</td>\n",
              "    </tr>\n",
              "    <tr>\n",
              "      <th id=\"T_35d6b_level0_row1\" class=\"row_heading level0 row1\" >1</th>\n",
              "      <td id=\"T_35d6b_row1_col0\" class=\"data row1 col0\" >21.0000</td>\n",
              "      <td id=\"T_35d6b_row1_col1\" class=\"data row1 col1\" >0.6713</td>\n",
              "      <td id=\"T_35d6b_row1_col2\" class=\"data row1 col2\" >0.5227</td>\n",
              "      <td id=\"T_35d6b_row1_col3\" class=\"data row1 col3\" >6117507.8133</td>\n",
              "      <td id=\"T_35d6b_row1_col4\" class=\"data row1 col4\" >7373014.1734</td>\n",
              "      <td id=\"T_35d6b_row1_col5\" class=\"data row1 col5\" >0.1206</td>\n",
              "      <td id=\"T_35d6b_row1_col6\" class=\"data row1 col6\" >0.1316</td>\n",
              "      <td id=\"T_35d6b_row1_col7\" class=\"data row1 col7\" >-2.2095</td>\n",
              "    </tr>\n",
              "    <tr>\n",
              "      <th id=\"T_35d6b_level0_row2\" class=\"row_heading level0 row2\" >2</th>\n",
              "      <td id=\"T_35d6b_row2_col0\" class=\"data row2 col0\" >24.0000</td>\n",
              "      <td id=\"T_35d6b_row2_col1\" class=\"data row2 col1\" >1.6502</td>\n",
              "      <td id=\"T_35d6b_row2_col2\" class=\"data row2 col2\" >1.2586</td>\n",
              "      <td id=\"T_35d6b_row2_col3\" class=\"data row2 col3\" >13957803.7233</td>\n",
              "      <td id=\"T_35d6b_row2_col4\" class=\"data row2 col4\" >16722279.9895</td>\n",
              "      <td id=\"T_35d6b_row2_col5\" class=\"data row2 col5\" >0.3433</td>\n",
              "      <td id=\"T_35d6b_row2_col6\" class=\"data row2 col6\" >0.2846</td>\n",
              "      <td id=\"T_35d6b_row2_col7\" class=\"data row2 col7\" >-0.0217</td>\n",
              "    </tr>\n",
              "    <tr>\n",
              "      <th id=\"T_35d6b_level0_row3\" class=\"row_heading level0 row3\" >Mean</th>\n",
              "      <td id=\"T_35d6b_row3_col0\" class=\"data row3 col0\" >nan</td>\n",
              "      <td id=\"T_35d6b_row3_col1\" class=\"data row3 col1\" >0.9317</td>\n",
              "      <td id=\"T_35d6b_row3_col2\" class=\"data row3 col2\" >0.7209</td>\n",
              "      <td id=\"T_35d6b_row3_col3\" class=\"data row3 col3\" >8165273.4100</td>\n",
              "      <td id=\"T_35d6b_row3_col4\" class=\"data row3 col4\" >9920809.5086</td>\n",
              "      <td id=\"T_35d6b_row3_col5\" class=\"data row3 col5\" >0.1936</td>\n",
              "      <td id=\"T_35d6b_row3_col6\" class=\"data row3 col6\" >0.1742</td>\n",
              "      <td id=\"T_35d6b_row3_col7\" class=\"data row3 col7\" >-1.0228</td>\n",
              "    </tr>\n",
              "    <tr>\n",
              "      <th id=\"T_35d6b_level0_row4\" class=\"row_heading level0 row4\" >SD</th>\n",
              "      <td id=\"T_35d6b_row4_col0\" class=\"data row4 col0\" >nan</td>\n",
              "      <td id=\"T_35d6b_row4_col1\" class=\"data row4 col1\" >0.5144</td>\n",
              "      <td id=\"T_35d6b_row4_col2\" class=\"data row4 col2\" >0.3846</td>\n",
              "      <td id=\"T_35d6b_row4_col3\" class=\"data row4 col3\" >4154114.9941</td>\n",
              "      <td id=\"T_35d6b_row4_col4\" class=\"data row4 col4\" >4859527.2067</td>\n",
              "      <td id=\"T_35d6b_row4_col5\" class=\"data row4 col5\" >0.1058</td>\n",
              "      <td id=\"T_35d6b_row4_col6\" class=\"data row4 col6\" >0.0788</td>\n",
              "      <td id=\"T_35d6b_row4_col7\" class=\"data row4 col7\" >0.9028</td>\n",
              "    </tr>\n",
              "  </tbody>\n",
              "</table>\n"
            ]
          },
          "metadata": {}
        },
        {
          "output_type": "display_data",
          "data": {
            "text/plain": [
              "Processing:   0%|          | 0/4 [00:00<?, ?it/s]"
            ],
            "application/vnd.jupyter.widget-view+json": {
              "version_major": 2,
              "version_minor": 0,
              "model_id": "9fde28353ce0486a9872d4149ffadd32"
            }
          },
          "metadata": {
            "application/vnd.jupyter.widget-view+json": {
              "colab": {
                "custom_widget_manager": {
                  "url": "https://ssl.gstatic.com/colaboratory-static/widgets/colab-cdn-widget-manager/b3e629b1971e1542/manager.min.js"
                }
              }
            }
          }
        },
        {
          "output_type": "display_data",
          "data": {
            "text/plain": [
              "<IPython.core.display.HTML object>"
            ],
            "text/html": []
          },
          "metadata": {}
        }
      ]
    },
    {
      "cell_type": "code",
      "source": [
        "# Decomposição da Serie Historica\n",
        "plot_model(modelo_naive, plot = 'decomp_stl')"
      ],
      "metadata": {
        "colab": {
          "base_uri": "https://localhost:8080/"
        },
        "id": "qByrel41tw8t",
        "outputId": "cda51c76-c6e7-405b-9756-054244dcdbe2"
      },
      "execution_count": 17,
      "outputs": [
        {
          "output_type": "stream",
          "name": "stdout",
          "text": [
            "Decomposition is currently not supported for pandas dataframes without a PeriodIndex or DatetimeIndex. Please specify a PeriodIndex or DatetimeIndex in setup() before plotting decomposition plots.\n"
          ]
        }
      ]
    },
    {
      "cell_type": "code",
      "source": [
        "plot_model(modelo_naive, plot='train_test_split')"
      ],
      "metadata": {
        "colab": {
          "base_uri": "https://localhost:8080/",
          "height": 542
        },
        "id": "cMfEZKQmtw-z",
        "outputId": "c7a78ba5-df12-4976-df77-04e331e8ab5f"
      },
      "execution_count": 18,
      "outputs": [
        {
          "output_type": "display_data",
          "data": {
            "text/html": [
              "<html>\n",
              "<head><meta charset=\"utf-8\" /></head>\n",
              "<body>\n",
              "    <div>            <script src=\"https://cdnjs.cloudflare.com/ajax/libs/mathjax/2.7.5/MathJax.js?config=TeX-AMS-MML_SVG\"></script><script type=\"text/javascript\">if (window.MathJax && window.MathJax.Hub && window.MathJax.Hub.Config) {window.MathJax.Hub.Config({SVG: {font: \"STIX-Web\"}});}</script>                <script type=\"text/javascript\">window.PlotlyConfig = {MathJaxConfig: 'local'};</script>\n",
              "        <script src=\"https://cdn.plot.ly/plotly-2.18.2.min.js\"></script>                <div id=\"a136541c-21cb-4a64-a9a6-a0788984ee2e\" class=\"plotly-graph-div\" style=\"height:525px; width:100%;\"></div>            <script type=\"text/javascript\">                                    window.PLOTLYENV=window.PLOTLYENV || {};                                    if (document.getElementById(\"a136541c-21cb-4a64-a9a6-a0788984ee2e\")) {                    Plotly.newPlot(                        \"a136541c-21cb-4a64-a9a6-a0788984ee2e\",                        [{\"line\":{\"color\":\"rgb(31, 119, 180)\",\"width\":2},\"marker\":{\"color\":\"rgb(31, 119, 180)\",\"size\":5},\"mode\":\"lines+markers\",\"name\":\"Train (original)\",\"x\":[0,1,2,3,4,5,6,7,8,9,10,11,12,13,14,15,16,17,18,19,20,21,22,23,24,25,26,27,28,29,30],\"y\":[1401982.0,14006864.0,16750459.0,24747994.41,29907144.0,38865339.0,40999147.0,34217119.0,29243960.0,34004406.0,25441220.0,24804335.0,18872772.82,13430935.0,13103489.31,21715868.97,74620220.84,66765218.36,45202272.42,35930936.45,46094925.54,42104735.43,43847797.02,47084662.69,53734270.02,71015801.59,52344116.29,30532544.15,null,null,null],\"type\":\"scattergl\",\"xaxis\":\"x\",\"yaxis\":\"y\"},{\"line\":{\"color\":\"rgb(255, 127, 14)\",\"width\":2},\"marker\":{\"color\":\"rgb(255, 127, 14)\",\"size\":5},\"mode\":\"lines+markers\",\"name\":\"Test (original)\",\"x\":[0,1,2,3,4,5,6,7,8,9,10,11,12,13,14,15,16,17,18,19,20,21,22,23,24,25,26,27,28,29,30],\"y\":[null,null,null,null,null,null,null,null,null,null,null,null,null,null,null,null,null,null,null,null,null,null,null,null,null,null,null,null,31000048.81,31067616.59,13917779.6],\"type\":\"scattergl\",\"xaxis\":\"x\",\"yaxis\":\"y\"}],                        {\"template\":{\"data\":{\"barpolar\":[{\"marker\":{\"line\":{\"color\":\"rgb(237,237,237)\",\"width\":0.5},\"pattern\":{\"fillmode\":\"overlay\",\"size\":10,\"solidity\":0.2}},\"type\":\"barpolar\"}],\"bar\":[{\"error_x\":{\"color\":\"rgb(51,51,51)\"},\"error_y\":{\"color\":\"rgb(51,51,51)\"},\"marker\":{\"line\":{\"color\":\"rgb(237,237,237)\",\"width\":0.5},\"pattern\":{\"fillmode\":\"overlay\",\"size\":10,\"solidity\":0.2}},\"type\":\"bar\"}],\"carpet\":[{\"aaxis\":{\"endlinecolor\":\"rgb(51,51,51)\",\"gridcolor\":\"white\",\"linecolor\":\"white\",\"minorgridcolor\":\"white\",\"startlinecolor\":\"rgb(51,51,51)\"},\"baxis\":{\"endlinecolor\":\"rgb(51,51,51)\",\"gridcolor\":\"white\",\"linecolor\":\"white\",\"minorgridcolor\":\"white\",\"startlinecolor\":\"rgb(51,51,51)\"},\"type\":\"carpet\"}],\"choropleth\":[{\"colorbar\":{\"outlinewidth\":0,\"tickcolor\":\"rgb(237,237,237)\",\"ticklen\":6,\"ticks\":\"inside\"},\"type\":\"choropleth\"}],\"contourcarpet\":[{\"colorbar\":{\"outlinewidth\":0,\"tickcolor\":\"rgb(237,237,237)\",\"ticklen\":6,\"ticks\":\"inside\"},\"type\":\"contourcarpet\"}],\"contour\":[{\"colorbar\":{\"outlinewidth\":0,\"tickcolor\":\"rgb(237,237,237)\",\"ticklen\":6,\"ticks\":\"inside\"},\"colorscale\":[[0,\"rgb(20,44,66)\"],[1,\"rgb(90,179,244)\"]],\"type\":\"contour\"}],\"heatmapgl\":[{\"colorbar\":{\"outlinewidth\":0,\"tickcolor\":\"rgb(237,237,237)\",\"ticklen\":6,\"ticks\":\"inside\"},\"colorscale\":[[0,\"rgb(20,44,66)\"],[1,\"rgb(90,179,244)\"]],\"type\":\"heatmapgl\"}],\"heatmap\":[{\"colorbar\":{\"outlinewidth\":0,\"tickcolor\":\"rgb(237,237,237)\",\"ticklen\":6,\"ticks\":\"inside\"},\"colorscale\":[[0,\"rgb(20,44,66)\"],[1,\"rgb(90,179,244)\"]],\"type\":\"heatmap\"}],\"histogram2dcontour\":[{\"colorbar\":{\"outlinewidth\":0,\"tickcolor\":\"rgb(237,237,237)\",\"ticklen\":6,\"ticks\":\"inside\"},\"colorscale\":[[0,\"rgb(20,44,66)\"],[1,\"rgb(90,179,244)\"]],\"type\":\"histogram2dcontour\"}],\"histogram2d\":[{\"colorbar\":{\"outlinewidth\":0,\"tickcolor\":\"rgb(237,237,237)\",\"ticklen\":6,\"ticks\":\"inside\"},\"colorscale\":[[0,\"rgb(20,44,66)\"],[1,\"rgb(90,179,244)\"]],\"type\":\"histogram2d\"}],\"histogram\":[{\"marker\":{\"pattern\":{\"fillmode\":\"overlay\",\"size\":10,\"solidity\":0.2}},\"type\":\"histogram\"}],\"mesh3d\":[{\"colorbar\":{\"outlinewidth\":0,\"tickcolor\":\"rgb(237,237,237)\",\"ticklen\":6,\"ticks\":\"inside\"},\"type\":\"mesh3d\"}],\"parcoords\":[{\"line\":{\"colorbar\":{\"outlinewidth\":0,\"tickcolor\":\"rgb(237,237,237)\",\"ticklen\":6,\"ticks\":\"inside\"}},\"type\":\"parcoords\"}],\"pie\":[{\"automargin\":true,\"type\":\"pie\"}],\"scatter3d\":[{\"line\":{\"colorbar\":{\"outlinewidth\":0,\"tickcolor\":\"rgb(237,237,237)\",\"ticklen\":6,\"ticks\":\"inside\"}},\"marker\":{\"colorbar\":{\"outlinewidth\":0,\"tickcolor\":\"rgb(237,237,237)\",\"ticklen\":6,\"ticks\":\"inside\"}},\"type\":\"scatter3d\"}],\"scattercarpet\":[{\"marker\":{\"colorbar\":{\"outlinewidth\":0,\"tickcolor\":\"rgb(237,237,237)\",\"ticklen\":6,\"ticks\":\"inside\"}},\"type\":\"scattercarpet\"}],\"scattergeo\":[{\"marker\":{\"colorbar\":{\"outlinewidth\":0,\"tickcolor\":\"rgb(237,237,237)\",\"ticklen\":6,\"ticks\":\"inside\"}},\"type\":\"scattergeo\"}],\"scattergl\":[{\"marker\":{\"colorbar\":{\"outlinewidth\":0,\"tickcolor\":\"rgb(237,237,237)\",\"ticklen\":6,\"ticks\":\"inside\"}},\"type\":\"scattergl\"}],\"scattermapbox\":[{\"marker\":{\"colorbar\":{\"outlinewidth\":0,\"tickcolor\":\"rgb(237,237,237)\",\"ticklen\":6,\"ticks\":\"inside\"}},\"type\":\"scattermapbox\"}],\"scatterpolargl\":[{\"marker\":{\"colorbar\":{\"outlinewidth\":0,\"tickcolor\":\"rgb(237,237,237)\",\"ticklen\":6,\"ticks\":\"inside\"}},\"type\":\"scatterpolargl\"}],\"scatterpolar\":[{\"marker\":{\"colorbar\":{\"outlinewidth\":0,\"tickcolor\":\"rgb(237,237,237)\",\"ticklen\":6,\"ticks\":\"inside\"}},\"type\":\"scatterpolar\"}],\"scatter\":[{\"fillpattern\":{\"fillmode\":\"overlay\",\"size\":10,\"solidity\":0.2},\"type\":\"scatter\"}],\"scatterternary\":[{\"marker\":{\"colorbar\":{\"outlinewidth\":0,\"tickcolor\":\"rgb(237,237,237)\",\"ticklen\":6,\"ticks\":\"inside\"}},\"type\":\"scatterternary\"}],\"surface\":[{\"colorbar\":{\"outlinewidth\":0,\"tickcolor\":\"rgb(237,237,237)\",\"ticklen\":6,\"ticks\":\"inside\"},\"colorscale\":[[0,\"rgb(20,44,66)\"],[1,\"rgb(90,179,244)\"]],\"type\":\"surface\"}],\"table\":[{\"cells\":{\"fill\":{\"color\":\"rgb(237,237,237)\"},\"line\":{\"color\":\"white\"}},\"header\":{\"fill\":{\"color\":\"rgb(217,217,217)\"},\"line\":{\"color\":\"white\"}},\"type\":\"table\"}]},\"layout\":{\"annotationdefaults\":{\"arrowhead\":0,\"arrowwidth\":1},\"autotypenumbers\":\"strict\",\"coloraxis\":{\"colorbar\":{\"outlinewidth\":0,\"tickcolor\":\"rgb(237,237,237)\",\"ticklen\":6,\"ticks\":\"inside\"}},\"colorscale\":{\"sequential\":[[0,\"rgb(20,44,66)\"],[1,\"rgb(90,179,244)\"]],\"sequentialminus\":[[0,\"rgb(20,44,66)\"],[1,\"rgb(90,179,244)\"]]},\"colorway\":[\"#F8766D\",\"#A3A500\",\"#00BF7D\",\"#00B0F6\",\"#E76BF3\"],\"font\":{\"color\":\"rgb(51,51,51)\"},\"geo\":{\"bgcolor\":\"white\",\"lakecolor\":\"white\",\"landcolor\":\"rgb(237,237,237)\",\"showlakes\":true,\"showland\":true,\"subunitcolor\":\"white\"},\"hoverlabel\":{\"align\":\"left\"},\"hovermode\":\"closest\",\"paper_bgcolor\":\"white\",\"plot_bgcolor\":\"rgb(237,237,237)\",\"polar\":{\"angularaxis\":{\"gridcolor\":\"white\",\"linecolor\":\"white\",\"showgrid\":true,\"tickcolor\":\"rgb(51,51,51)\",\"ticks\":\"outside\"},\"bgcolor\":\"rgb(237,237,237)\",\"radialaxis\":{\"gridcolor\":\"white\",\"linecolor\":\"white\",\"showgrid\":true,\"tickcolor\":\"rgb(51,51,51)\",\"ticks\":\"outside\"}},\"scene\":{\"xaxis\":{\"backgroundcolor\":\"rgb(237,237,237)\",\"gridcolor\":\"white\",\"gridwidth\":2,\"linecolor\":\"white\",\"showbackground\":true,\"showgrid\":true,\"tickcolor\":\"rgb(51,51,51)\",\"ticks\":\"outside\",\"zerolinecolor\":\"white\"},\"yaxis\":{\"backgroundcolor\":\"rgb(237,237,237)\",\"gridcolor\":\"white\",\"gridwidth\":2,\"linecolor\":\"white\",\"showbackground\":true,\"showgrid\":true,\"tickcolor\":\"rgb(51,51,51)\",\"ticks\":\"outside\",\"zerolinecolor\":\"white\"},\"zaxis\":{\"backgroundcolor\":\"rgb(237,237,237)\",\"gridcolor\":\"white\",\"gridwidth\":2,\"linecolor\":\"white\",\"showbackground\":true,\"showgrid\":true,\"tickcolor\":\"rgb(51,51,51)\",\"ticks\":\"outside\",\"zerolinecolor\":\"white\"}},\"shapedefaults\":{\"fillcolor\":\"black\",\"line\":{\"width\":0},\"opacity\":0.3},\"ternary\":{\"aaxis\":{\"gridcolor\":\"white\",\"linecolor\":\"white\",\"showgrid\":true,\"tickcolor\":\"rgb(51,51,51)\",\"ticks\":\"outside\"},\"baxis\":{\"gridcolor\":\"white\",\"linecolor\":\"white\",\"showgrid\":true,\"tickcolor\":\"rgb(51,51,51)\",\"ticks\":\"outside\"},\"bgcolor\":\"rgb(237,237,237)\",\"caxis\":{\"gridcolor\":\"white\",\"linecolor\":\"white\",\"showgrid\":true,\"tickcolor\":\"rgb(51,51,51)\",\"ticks\":\"outside\"}},\"xaxis\":{\"automargin\":true,\"gridcolor\":\"white\",\"linecolor\":\"white\",\"showgrid\":true,\"tickcolor\":\"rgb(51,51,51)\",\"ticks\":\"outside\",\"title\":{\"standoff\":15},\"zerolinecolor\":\"white\"},\"yaxis\":{\"automargin\":true,\"gridcolor\":\"white\",\"linecolor\":\"white\",\"showgrid\":true,\"tickcolor\":\"rgb(51,51,51)\",\"ticks\":\"outside\",\"title\":{\"standoff\":15},\"zerolinecolor\":\"white\"}}},\"xaxis\":{\"anchor\":\"y\",\"domain\":[0.0,1.0]},\"yaxis\":{\"anchor\":\"x\",\"domain\":[0.0,1.0]},\"annotations\":[{\"font\":{\"size\":16},\"showarrow\":false,\"text\":\"ValorBase\",\"x\":0.5,\"xanchor\":\"center\",\"xref\":\"paper\",\"y\":1.0,\"yanchor\":\"bottom\",\"yref\":\"paper\"}],\"title\":{\"text\":\"Time Series | Target = ValorBase\"},\"showlegend\":true},                        {\"responsive\": true}                    ).then(function(){\n",
              "                            \n",
              "var gd = document.getElementById('a136541c-21cb-4a64-a9a6-a0788984ee2e');\n",
              "var x = new MutationObserver(function (mutations, observer) {{\n",
              "        var display = window.getComputedStyle(gd).display;\n",
              "        if (!display || display === 'none') {{\n",
              "            console.log([gd, 'removed!']);\n",
              "            Plotly.purge(gd);\n",
              "            observer.disconnect();\n",
              "        }}\n",
              "}});\n",
              "\n",
              "// Listen for the removal of the full notebook cells\n",
              "var notebookContainer = gd.closest('#notebook-container');\n",
              "if (notebookContainer) {{\n",
              "    x.observe(notebookContainer, {childList: true});\n",
              "}}\n",
              "\n",
              "// Listen for the clearing of the current output cell\n",
              "var outputEl = gd.closest('.output');\n",
              "if (outputEl) {{\n",
              "    x.observe(outputEl, {childList: true});\n",
              "}}\n",
              "\n",
              "                        })                };                            </script>        </div>\n",
              "</body>\n",
              "</html>"
            ]
          },
          "metadata": {}
        }
      ]
    },
    {
      "cell_type": "code",
      "source": [
        "final = finalize_model(modelo_naive)\n",
        "final"
      ],
      "metadata": {
        "colab": {
          "base_uri": "https://localhost:8080/",
          "height": 110
        },
        "id": "kFOF0u3ktxA6",
        "outputId": "391984fd-1d00-450f-ab60-3cbc78383940"
      },
      "execution_count": 19,
      "outputs": [
        {
          "output_type": "execute_result",
          "data": {
            "text/plain": [
              "ForecastingPipeline(steps=[('forecaster',\n",
              "                            TransformedTargetForecaster(steps=[('model',\n",
              "                                                                NaiveForecaster())]))])"
            ],
            "text/html": [
              "<style>#sk-container-id-1 {color: black;background-color: white;}#sk-container-id-1 pre{padding: 0;}#sk-container-id-1 div.sk-toggleable {background-color: white;}#sk-container-id-1 label.sk-toggleable__label {cursor: pointer;display: block;width: 100%;margin-bottom: 0;padding: 0.3em;box-sizing: border-box;text-align: center;}#sk-container-id-1 label.sk-toggleable__label-arrow:before {content: \"▸\";float: left;margin-right: 0.25em;color: #696969;}#sk-container-id-1 label.sk-toggleable__label-arrow:hover:before {color: black;}#sk-container-id-1 div.sk-estimator:hover label.sk-toggleable__label-arrow:before {color: black;}#sk-container-id-1 div.sk-toggleable__content {max-height: 0;max-width: 0;overflow: hidden;text-align: left;background-color: #f0f8ff;}#sk-container-id-1 div.sk-toggleable__content pre {margin: 0.2em;color: black;border-radius: 0.25em;background-color: #f0f8ff;}#sk-container-id-1 input.sk-toggleable__control:checked~div.sk-toggleable__content {max-height: 200px;max-width: 100%;overflow: auto;}#sk-container-id-1 input.sk-toggleable__control:checked~label.sk-toggleable__label-arrow:before {content: \"▾\";}#sk-container-id-1 div.sk-estimator input.sk-toggleable__control:checked~label.sk-toggleable__label {background-color: #d4ebff;}#sk-container-id-1 div.sk-label input.sk-toggleable__control:checked~label.sk-toggleable__label {background-color: #d4ebff;}#sk-container-id-1 input.sk-hidden--visually {border: 0;clip: rect(1px 1px 1px 1px);clip: rect(1px, 1px, 1px, 1px);height: 1px;margin: -1px;overflow: hidden;padding: 0;position: absolute;width: 1px;}#sk-container-id-1 div.sk-estimator {font-family: monospace;background-color: #f0f8ff;border: 1px dotted black;border-radius: 0.25em;box-sizing: border-box;margin-bottom: 0.5em;}#sk-container-id-1 div.sk-estimator:hover {background-color: #d4ebff;}#sk-container-id-1 div.sk-parallel-item::after {content: \"\";width: 100%;border-bottom: 1px solid gray;flex-grow: 1;}#sk-container-id-1 div.sk-label:hover label.sk-toggleable__label {background-color: #d4ebff;}#sk-container-id-1 div.sk-serial::before {content: \"\";position: absolute;border-left: 1px solid gray;box-sizing: border-box;top: 0;bottom: 0;left: 50%;z-index: 0;}#sk-container-id-1 div.sk-serial {display: flex;flex-direction: column;align-items: center;background-color: white;padding-right: 0.2em;padding-left: 0.2em;position: relative;}#sk-container-id-1 div.sk-item {position: relative;z-index: 1;}#sk-container-id-1 div.sk-parallel {display: flex;align-items: stretch;justify-content: center;background-color: white;position: relative;}#sk-container-id-1 div.sk-item::before, #sk-container-id-1 div.sk-parallel-item::before {content: \"\";position: absolute;border-left: 1px solid gray;box-sizing: border-box;top: 0;bottom: 0;left: 50%;z-index: -1;}#sk-container-id-1 div.sk-parallel-item {display: flex;flex-direction: column;z-index: 1;position: relative;background-color: white;}#sk-container-id-1 div.sk-parallel-item:first-child::after {align-self: flex-end;width: 50%;}#sk-container-id-1 div.sk-parallel-item:last-child::after {align-self: flex-start;width: 50%;}#sk-container-id-1 div.sk-parallel-item:only-child::after {width: 0;}#sk-container-id-1 div.sk-dashed-wrapped {border: 1px dashed gray;margin: 0 0.4em 0.5em 0.4em;box-sizing: border-box;padding-bottom: 0.4em;background-color: white;}#sk-container-id-1 div.sk-label label {font-family: monospace;font-weight: bold;display: inline-block;line-height: 1.2em;}#sk-container-id-1 div.sk-label-container {text-align: center;}#sk-container-id-1 div.sk-container {/* jupyter's `normalize.less` sets `[hidden] { display: none; }` but bootstrap.min.css set `[hidden] { display: none !important; }` so we also need the `!important` here to be able to override the default hidden behavior on the sphinx rendered scikit-learn.org. See: https://github.com/scikit-learn/scikit-learn/issues/21755 */display: inline-block !important;position: relative;}#sk-container-id-1 div.sk-text-repr-fallback {display: none;}</style><div id=\"sk-container-id-1\" class=\"sk-top-container\"><div class=\"sk-text-repr-fallback\"><pre>ForecastingPipeline(steps=[(&#x27;forecaster&#x27;,\n",
              "                            TransformedTargetForecaster(steps=[(&#x27;model&#x27;,\n",
              "                                                                NaiveForecaster())]))])</pre><b>In a Jupyter environment, please rerun this cell to show the HTML representation or trust the notebook. <br />On GitHub, the HTML representation is unable to render, please try loading this page with nbviewer.org.</b></div><div class=\"sk-container\" hidden><div class=\"sk-item\"><div class=\"sk-estimator sk-toggleable\"><input class=\"sk-toggleable__control sk-hidden--visually\" id=\"sk-estimator-id-1\" type=\"checkbox\" checked><label for=\"sk-estimator-id-1\" class=\"sk-toggleable__label sk-toggleable__label-arrow\">ForecastingPipeline</label><div class=\"sk-toggleable__content\"><pre>ForecastingPipeline(steps=[(&#x27;forecaster&#x27;,\n",
              "                            TransformedTargetForecaster(steps=[(&#x27;model&#x27;,\n",
              "                                                                NaiveForecaster())]))])</pre></div></div></div></div></div>"
            ]
          },
          "metadata": {},
          "execution_count": 19
        }
      ]
    },
    {
      "cell_type": "code",
      "source": [
        "# Supondo que você tem um DataFrame chamado 'df_exogenas' contendo as variáveis exógenas\n",
        "exogenas = produto_consignado[['Selic', 'taxa_mensal_consignado']]\n",
        "\n",
        "# Fazendo previsões com as variáveis exógenas\n",
        "previsoes = predict_model(final, data=exogenas)\n",
        "\n",
        "# Plotando as previsões\n",
        "plot_model(previsoes, plot='forecast')"
      ],
      "metadata": {
        "id": "uEQghjMKtxDT"
      },
      "execution_count": null,
      "outputs": []
    },
    {
      "cell_type": "code",
      "source": [
        "# algoritmo reconhece um impacto exogeno sobre a base de dados, identificar esta variavel a acrecentar no modelo\n",
        "\n",
        "plot_model(final, plot='forecast')"
      ],
      "metadata": {
        "id": "1z8F-14puCCT"
      },
      "execution_count": null,
      "outputs": []
    },
    {
      "cell_type": "code",
      "source": [
        "# Fazer previsões usando o modelo treinado e as variáveis exógenas\n",
        "predictions = predict_model(final, data=exogenous_data)"
      ],
      "metadata": {
        "id": "1NxAMQd7uDkT"
      },
      "execution_count": null,
      "outputs": []
    }
  ]
}