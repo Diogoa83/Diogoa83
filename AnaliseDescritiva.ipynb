{
  "nbformat": 4,
  "nbformat_minor": 0,
  "metadata": {
    "colab": {
      "provenance": [],
      "authorship_tag": "ABX9TyMVK+4PNSsAculSMzws2wmj",
      "include_colab_link": true
    },
    "kernelspec": {
      "name": "python3",
      "display_name": "Python 3"
    },
    "language_info": {
      "name": "python"
    }
  },
  "cells": [
    {
      "cell_type": "markdown",
      "metadata": {
        "id": "view-in-github",
        "colab_type": "text"
      },
      "source": [
        "<a href=\"https://colab.research.google.com/github/Diogoa83/Diogoa83/blob/main/AnaliseDescritiva.ipynb\" target=\"_parent\"><img src=\"https://colab.research.google.com/assets/colab-badge.svg\" alt=\"Open In Colab\"/></a>"
      ]
    },
    {
      "cell_type": "markdown",
      "source": [
        "superintendente;projeção mês atual;Part(%);Curva ABC (%);crecimento ref. Mês anterior;crecimento ref. 03 anterior;mai/23;abr/23;mar/23;fev/23\n",
        "totais; 835.241.422,00 ;99,14;0;-31,47%;-39,76%; 838.172.230,12 ; 1.218.841.546,05 ;1.226.748.72....; 1.713.687.615,77 \n",
        "superintendente 1; 221.809.832,00 ;26,33;26,33;-29,82%;-36,29%; 222.265.502,87 ; 316.036.342,05 ; 307.219.329,14 ; 421.202.801,43 \n",
        "superintendente 2; 216.683.695,00 ;25,72;52,05;-23,59%;-31,43%; 216.821.598,25 ; 283.591.596,26 ; 256.928.371,59 ; 407.425.802,54 \n",
        "superintendente 3; 182.473.547,00 ;21,66;73,71;-34,40%;-40,81%; 183.132.837,78 ; 278.140.079,58 ; 288.975.211,54 ; 357.808.933,46 \n",
        "superintendente 4; 157.848.576,00 ;18,74;92,44;-35,00%;-44,02%; 159.335.743,55 ; 242.832.276,27 ; 270.200.748,82 ; 332.893.321,16 \n",
        "superintendente 5; 54.413.384,00 ;6,46;98,9;-43,30%;-56,95%; 54.603.440,60 ; 95.972.393,42 ; 100.465.850,54 ; 182.711.135,46 \n",
        "superintendente 6; 2.012.387,00 ;0,24;99,14;-11,30%;-64,22%; 2.013.107,07 ; 2.268.858,47 ; 2.959.211,43 ; 11.645.621,72 \n",
        ";;;;;;;;;\n",
        ";;;;;;;;;\n",
        "Esse dashboard foi projetado para fornecer informações cruciais de forma rápida e intuitiva para facilitar análises e tomadas de decisão da Diretoria. Nele, você encontrará gráficos e métricas atualizadas que retratam a produtividade da empresa ao longo do tempo. Os números apresentados são baseados em dados reais coletados a partir de fontes confiáveis. Isso garante que a informação exibida seja precisa e reflita fielmente o desempenho da nossa produção.;;;;;;;;;\n",
        ";;;;;;;;;\n",
        "No dashboard apresentado temos dois gráficos e uma tabela. O primeiro gráfico (Digitação x Aproveitamento) apresenta o volume de propostas digitadas, o volume de propostas efetivadas/pagas (Produção) e o índice aproveitamento dessas propostas. O segundo gráfico (Produção dos Últimos 6 meses por Convênio) apresenta o volume de produção dos dois principais convênios: INSS e FGTS. Por fim, temos uma tabela contendo o valor de produção por superintendentes com alguns detalhes, como Projeção, curva ABC, entre outros.;;;;;;;;;\n",
        ";;;;;;;;;\n",
        "A partir da apresentação dos indicadores e da breve explicação acima, imagine agora a seguinte situação: A empresa está em um momento crítico, a concorrência está ganhando Market Share e a Diretoria vê a necessidade de criar um plano de ação para lidar com o momento desfavorável no mercado de consignado. Diante disso, você foi contratado como um analista de dados para dar suporte à Diretoria por meio de estudos e análises. Em uma reunião do comitê, a CEO da empresa levantou alguns questionamentos e seu Gestor trouxe tais questionamentos a você. O seu Gestor precisa montar uma apresentação para responder essas dúvidas da CEO na próxima reunião e, para isso, você deve enviar as suas considerações a respeito de cada um dos questionamentos abaixo.;;;;;;;;;"
      ],
      "metadata": {
        "id": "cFAZtI94xvFf"
      }
    }
  ]
}